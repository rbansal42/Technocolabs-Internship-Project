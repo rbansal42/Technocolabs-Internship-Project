{
  "cells": [
    {
      "cell_type": "markdown",
      "metadata": {
        "id": "fE8HWwrgcOeM"
      },
      "source": [
        "# Bondora Data Preprocessing \n",
        "\n",
        "In this project we will be doing credit risk modelling of peer to peer lending Bondora systems.Data for the study has been retrieved from a publicly available data set of a leading European P2P lending platform  ([**Bondora**](https://www.bondora.com/en/public-reports#dataset-file-format)).The retrieved data is a pool of both defaulted and non-defaulted loans from the time period between **1st March 2009** and **27th January 2020**. The data\n",
        "comprises of demographic and financial information of borrowers, and loan transactions.In P2P lending, loans are typically uncollateralized and lenders seek higher returns as a compensation for the financial risk they take. In addition, they need to make decisions under information asymmetry that works in favor of the borrowers. In order to make rational decisions, lenders want to minimize the risk of default of each lending decision, and realize the return that compensates for the risk.\n",
        "\n",
        "In this notebook we will preprocess the raw dataset and will create new preprocessed csv that can be used for building credit risk models."
      ]
    },
    {
      "cell_type": "code",
      "execution_count": 578,
      "metadata": {
        "colab": {
          "base_uri": "https://localhost:8080/"
        },
        "id": "NvTOi4rS4tL8",
        "outputId": "d58f045d-2609-4957-ebcf-065d570d0bb6"
      },
      "outputs": [
        {
          "output_type": "stream",
          "name": "stdout",
          "text": [
            "Drive already mounted at /content/drive; to attempt to forcibly remount, call drive.mount(\"/content/drive\", force_remount=True).\n"
          ]
        }
      ],
      "source": [
        "from google.colab import drive\n",
        "drive.mount('/content/drive')"
      ]
    },
    {
      "cell_type": "code",
      "source": [
        "!unzip \"/content/drive/MyDrive/Technocolabs/Bondora_raw.zip\""
      ],
      "metadata": {
        "colab": {
          "base_uri": "https://localhost:8080/"
        },
        "id": "zEkDcSLr5nZX",
        "outputId": "fbb2d959-d017-435e-de98-3c28e82acf28"
      },
      "execution_count": 579,
      "outputs": [
        {
          "output_type": "stream",
          "name": "stdout",
          "text": [
            "Archive:  /content/drive/MyDrive/Technocolabs/Bondora_raw.zip\n",
            "replace Bondora_raw.csv? [y]es, [n]o, [A]ll, [N]one, [r]ename: "
          ]
        }
      ]
    },
    {
      "cell_type": "markdown",
      "source": [
        "# **Data Cleaning**"
      ],
      "metadata": {
        "id": "yPFN4j6TEllM"
      }
    },
    {
      "cell_type": "code",
      "source": [
        "import pandas as pd\n",
        "import numpy as np\n",
        "# To display all the columns of dataframe\n",
        "pd.set_option('display.max_columns', 500)\n",
        "pd.set_option('display.max_rows', 500)\n",
        "import warnings\n",
        "warnings.filterwarnings(\"ignore\")\n",
        "\n",
        "import matplotlib.pyplot as plt\n",
        "import seaborn as sns"
      ],
      "metadata": {
        "id": "UQ6rmGLN5HQf"
      },
      "execution_count": 580,
      "outputs": []
    },
    {
      "cell_type": "code",
      "source": [
        "df = pd.read_csv(\"/content/Bondora_raw.csv\" , low_memory=False)"
      ],
      "metadata": {
        "id": "1aG4KVCD4z1C"
      },
      "execution_count": 581,
      "outputs": []
    },
    {
      "cell_type": "code",
      "execution_count": 582,
      "metadata": {
        "id": "NRtEcfRBcOe5",
        "outputId": "20398811-bada-4635-e1da-430380c550d5",
        "colab": {
          "base_uri": "https://localhost:8080/"
        }
      },
      "outputs": [
        {
          "output_type": "execute_result",
          "data": {
            "text/plain": [
              "(134529, 112)"
            ]
          },
          "metadata": {},
          "execution_count": 582
        }
      ],
      "source": [
        "df.shape"
      ]
    },
    {
      "cell_type": "code",
      "execution_count": 583,
      "metadata": {
        "id": "5iHWNWnacOfD",
        "outputId": "07d7e7cf-f6b5-477b-a485-2911e5dd8b2d",
        "colab": {
          "base_uri": "https://localhost:8080/",
          "height": 530
        }
      },
      "outputs": [
        {
          "output_type": "execute_result",
          "data": {
            "text/plain": [
              "  ReportAsOfEOD                                LoanId  LoanNumber  \\\n",
              "0    2020-01-27  F0660C80-83F3-4A97-8DA0-9C250112D6EC         659   \n",
              "1    2020-01-27  978BB85B-1C69-4D51-8447-9C240104A3A2         654   \n",
              "2    2020-01-27  EA44027E-7FA7-4BB2-846D-9C1F013C8A22         641   \n",
              "3    2020-01-27  CE67AD25-2951-4BEE-96BD-9C2700C61EF4         668   \n",
              "4    2020-01-27  9408BF8C-B159-4D6A-9D61-9C2400A986E3         652   \n",
              "\n",
              "           ListedOnUTC     BiddingStartedOn  BidsPortfolioManager  BidsApi  \\\n",
              "0  2009-06-11 16:40:39  2009-06-11 16:40:39                     0        0   \n",
              "1  2009-06-10 15:48:57  2009-06-10 15:48:57                     0        0   \n",
              "2  2009-06-05 19:12:29  2009-06-05 19:12:29                     0        0   \n",
              "3  2009-06-13 12:01:20  2009-06-13 12:01:20                     0        0   \n",
              "4  2009-06-10 10:17:13  2009-06-10 10:17:13                     0        0   \n",
              "\n",
              "   BidsManual  UserName  NewCreditCustomer LoanApplicationStartedDate  \\\n",
              "0    115.0410      KARU               True        2009-06-11 16:40:39   \n",
              "1    140.6057  koort681              False        2009-06-10 15:48:57   \n",
              "2    319.5580       0ie               True        2009-06-05 19:12:29   \n",
              "3     57.5205    Alyona               True        2009-06-13 12:01:20   \n",
              "4    319.5582       Kai               True        2009-06-10 10:17:13   \n",
              "\n",
              "     LoanDate ContractEndDate FirstPaymentDate MaturityDate_Original  \\\n",
              "0  2009-06-16      2010-07-06       2009-07-27            2010-06-25   \n",
              "1  2009-06-15      2009-07-07       2009-07-15            2009-07-15   \n",
              "2  2009-06-15             NaN       2009-07-27            2011-02-25   \n",
              "3  2009-06-15      2010-09-15       2009-07-15            2010-09-15   \n",
              "4  2009-06-14      2016-07-28       2009-07-27            2010-06-25   \n",
              "\n",
              "  MaturityDate_Last  ApplicationSignedHour  ApplicationSignedWeekday  \\\n",
              "0        2010-06-25                     17                         5   \n",
              "1        2009-07-15                     20                         4   \n",
              "2        2014-05-13                     20                         6   \n",
              "3        2010-09-15                     12                         7   \n",
              "4        2010-06-25                     10                         4   \n",
              "\n",
              "   VerificationType  LanguageCode  Age DateOfBirth  Gender Country  \\\n",
              "0               2.0             1   61  1947-11-26     1.0      EE   \n",
              "1               2.0             1   48  1960-11-05     1.0      EE   \n",
              "2               2.0             1   58  1950-11-13     1.0      EE   \n",
              "3               2.0             1   23  1986-03-29     1.0      EE   \n",
              "4               2.0             1   25  1983-09-30     1.0      EE   \n",
              "\n",
              "   AppliedAmount    Amount  Interest  LoanDuration  MonthlyPayment    County  \\\n",
              "0       319.5582  115.0408      30.0            12             NaN     HARJU   \n",
              "1       191.7349  140.6057      25.0             1             NaN  IDA-VIRU   \n",
              "2       319.5582  319.5409      25.0            20             NaN     PÄRNU   \n",
              "3       127.8233   57.5205      45.0            15             NaN     HARJU   \n",
              "4       319.5582  319.5436      30.0            12             NaN     TARTU   \n",
              "\n",
              "           City  UseOfLoan  Education  MaritalStatus NrOfDependants  \\\n",
              "0       TALLINN          7        3.0            1.0              0   \n",
              "1  KOHTLA-JARVE          7        5.0            4.0              0   \n",
              "2         PÄRNU          2        4.0            1.0              0   \n",
              "3      PALDISKI          0        2.0            3.0              1   \n",
              "4         TARTU          6        4.0            2.0              0   \n",
              "\n",
              "   EmploymentStatus EmploymentDurationCurrentEmployer  \\\n",
              "0               3.0                        UpTo3Years   \n",
              "1               3.0                    MoreThan5Years   \n",
              "2               3.0                        UpTo4Years   \n",
              "3               NaN                        UpTo2Years   \n",
              "4               3.0                        UpTo2Years   \n",
              "\n",
              "          EmploymentPosition   WorkExperience  OccupationArea  \\\n",
              "0          klienditeenindaja  MoreThan25Years             7.0   \n",
              "1  Õppealajuhataja lasteaias  MoreThan25Years            16.0   \n",
              "2                 teenindaja  MoreThan25Years             9.0   \n",
              "3               juhtmekoitja        2To5Years             1.0   \n",
              "4          klienditeenindaja       5To10Years             7.0   \n",
              "\n",
              "   HomeOwnershipType  IncomeFromPrincipalEmployer  IncomeFromPension  \\\n",
              "0                NaN                       6000.0                0.0   \n",
              "1                NaN                       8300.0                0.0   \n",
              "2                NaN                       5000.0                0.0   \n",
              "3                NaN                      11000.0                0.0   \n",
              "4                NaN                       6800.0                0.0   \n",
              "\n",
              "   IncomeFromFamilyAllowance  IncomeFromSocialWelfare  IncomeFromLeavePay  \\\n",
              "0                        0.0                      0.0                 0.0   \n",
              "1                        0.0                      0.0                 0.0   \n",
              "2                        0.0                      0.0                 0.0   \n",
              "3                        0.0                      0.0                 0.0   \n",
              "4                        0.0                      0.0                 0.0   \n",
              "\n",
              "   IncomeFromChildSupport  IncomeOther  IncomeTotal  ExistingLiabilities  \\\n",
              "0                     0.0       4500.0      10500.0                    0   \n",
              "1                     0.0       2500.0      10800.0                    0   \n",
              "2                     0.0       2000.0       7000.0                    0   \n",
              "3                     0.0        600.0      11600.0                    0   \n",
              "4                     0.0          0.0       6800.0                    0   \n",
              "\n",
              "   LiabilitiesTotal  RefinanceLiabilities  DebtToIncome  FreeCash  \\\n",
              "0               0.0                     0           0.0       0.0   \n",
              "1               0.0                     0           0.0       0.0   \n",
              "2               0.0                     0           0.0       0.0   \n",
              "3               0.0                     0           0.0       0.0   \n",
              "4               0.0                     0           0.0       0.0   \n",
              "\n",
              "   MonthlyPaymentDay  ActiveScheduleFirstPaymentReached  \\\n",
              "0                 25                               True   \n",
              "1                 15                               True   \n",
              "2                 25                               True   \n",
              "3                 15                               True   \n",
              "4                 25                               True   \n",
              "\n",
              "   PlannedPrincipalTillDate  PlannedInterestTillDate LastPaymentOn  \\\n",
              "0                 1800.0000                 319.0800    2010-07-06   \n",
              "1                 2200.0000                  45.8300    2009-07-07   \n",
              "2                  319.5409                 197.2926    2012-10-01   \n",
              "3                  900.0000                 293.1000    2010-09-15   \n",
              "4                 5000.0000                 833.8100    2015-07-16   \n",
              "\n",
              "   CurrentDebtDaysPrimary DebtOccuredOn  CurrentDebtDaysSecondary  \\\n",
              "0                     NaN           NaN                       NaN   \n",
              "1                     NaN           NaN                       NaN   \n",
              "2                  2813.0    2012-05-14                    2935.0   \n",
              "3                     NaN           NaN                       NaN   \n",
              "4                     NaN           NaN                    3835.0   \n",
              "\n",
              "  DebtOccuredOnForSecondary  ExpectedLoss  LossGivenDefault  ExpectedReturn  \\\n",
              "0                       NaN           NaN               NaN             NaN   \n",
              "1                       NaN           NaN               NaN             NaN   \n",
              "2                2012-01-13           NaN               NaN             NaN   \n",
              "3                       NaN           NaN               NaN             NaN   \n",
              "4                2009-07-27           NaN               NaN             NaN   \n",
              "\n",
              "   ProbabilityOfDefault DefaultDate  PrincipalOverdueBySchedule  \\\n",
              "0                   NaN         NaN                         NaN   \n",
              "1                   NaN         NaN                         NaN   \n",
              "2                   NaN  2012-07-16                      116.35   \n",
              "3                   NaN         NaN                         NaN   \n",
              "4                   NaN  2009-09-28                         NaN   \n",
              "\n",
              "   PlannedPrincipalPostDefault  PlannedInterestPostDefault      EAD1  \\\n",
              "0                          NaN                         NaN       NaN   \n",
              "1                          NaN                         NaN       NaN   \n",
              "2                       236.97                       38.24  279.5049   \n",
              "3                          NaN                         NaN       NaN   \n",
              "4                       247.76                       29.84  319.5436   \n",
              "\n",
              "       EAD2  PrincipalRecovery  InterestRecovery  RecoveryStage  \\\n",
              "0       NaN                NaN               NaN            NaN   \n",
              "1       NaN                NaN               NaN            NaN   \n",
              "2  270.7323           163.1549             50.99            NaN   \n",
              "3       NaN                NaN               NaN            NaN   \n",
              "4  319.5436           319.5436            220.42            NaN   \n",
              "\n",
              "      StageActiveSince  ModelVersion Rating  EL_V0 Rating_V0  EL_V1 Rating_V1  \\\n",
              "0                  NaN           NaN    NaN    NaN       NaN    NaN       NaN   \n",
              "1                  NaN           NaN    NaN    NaN       NaN    NaN       NaN   \n",
              "2  2016-03-03 00:00:00           NaN    NaN    NaN       NaN    NaN       NaN   \n",
              "3                  NaN           NaN    NaN    NaN       NaN    NaN       NaN   \n",
              "4                  NaN           NaN    NaN    NaN       NaN    NaN       NaN   \n",
              "\n",
              "  Rating_V2  Status  Restructured ActiveLateCategory WorseLateCategory  \\\n",
              "0       NaN  Repaid         False                NaN            91-120   \n",
              "1       NaN  Repaid         False                NaN               NaN   \n",
              "2       NaN    Late          True               180+              180+   \n",
              "3       NaN  Repaid         False                NaN             31-60   \n",
              "4       NaN  Repaid         False                NaN              180+   \n",
              "\n",
              "  CreditScoreEsMicroL CreditScoreEsEquifaxRisk  \\\n",
              "0                 NaN                      NaN   \n",
              "1                 NaN                      NaN   \n",
              "2                 NaN                      NaN   \n",
              "3                 NaN                      NaN   \n",
              "4                 NaN                      NaN   \n",
              "\n",
              "  CreditScoreFiAsiakasTietoRiskGrade  CreditScoreEeMini  \\\n",
              "0                                NaN                NaN   \n",
              "1                                NaN                NaN   \n",
              "2                                NaN                NaN   \n",
              "3                                NaN                NaN   \n",
              "4                                NaN                NaN   \n",
              "\n",
              "   PrincipalPaymentsMade  InterestAndPenaltyPaymentsMade  PrincipalWriteOffs  \\\n",
              "0               115.0408                         20.4222                 0.0   \n",
              "1               140.6057                          2.0227                 0.0   \n",
              "2               203.1909                         59.7626                 0.0   \n",
              "3                57.5205                         18.7323                 0.0   \n",
              "4               319.5436                        220.4200                 0.0   \n",
              "\n",
              "   InterestAndPenaltyWriteOffs  PrincipalBalance  InterestAndPenaltyBalance  \\\n",
              "0                          0.0              0.00                       0.00   \n",
              "1                          0.0              0.00                       0.00   \n",
              "2                          0.0            116.35                     414.07   \n",
              "3                          0.0              0.00                       0.00   \n",
              "4                          2.4              0.00                       0.00   \n",
              "\n",
              "   NoOfPreviousLoansBeforeLoan  AmountOfPreviousLoansBeforeLoan  \\\n",
              "0                            1                          83.0852   \n",
              "1                            2                         255.6467   \n",
              "2                            0                           0.0000   \n",
              "3                            1                         134.2144   \n",
              "4                            1                         146.9966   \n",
              "\n",
              "   PreviousRepaymentsBeforeLoan  PreviousEarlyRepaymentsBefoleLoan  \\\n",
              "0                        0.0000                                0.0   \n",
              "1                      258.6256                                0.0   \n",
              "2                        0.0000                                0.0   \n",
              "3                        0.0000                                0.0   \n",
              "4                        0.0000                                0.0   \n",
              "\n",
              "   PreviousEarlyRepaymentsCountBeforeLoan GracePeriodStart GracePeriodEnd  \\\n",
              "0                                       0              NaN            NaN   \n",
              "1                                       0              NaN            NaN   \n",
              "2                                       0              NaN            NaN   \n",
              "3                                       0              NaN            NaN   \n",
              "4                                       0              NaN            NaN   \n",
              "\n",
              "  NextPaymentDate  NextPaymentNr  NrOfScheduledPayments ReScheduledOn  \\\n",
              "0             NaN            NaN                    NaN           NaN   \n",
              "1             NaN            NaN                    NaN           NaN   \n",
              "2             NaN            NaN                    NaN           NaN   \n",
              "3             NaN            NaN                    NaN           NaN   \n",
              "4             NaN            NaN                    NaN           NaN   \n",
              "\n",
              "   PrincipalDebtServicingCost  InterestAndPenaltyDebtServicingCost  \\\n",
              "0                         0.0                                  0.0   \n",
              "1                         0.0                                  0.0   \n",
              "2                         0.0                                  0.0   \n",
              "3                         0.0                                  0.0   \n",
              "4                         0.0                                  0.0   \n",
              "\n",
              "  ActiveLateLastPaymentCategory  \n",
              "0                           NaN  \n",
              "1                           NaN  \n",
              "2                          180+  \n",
              "3                           NaN  \n",
              "4                          180+  "
            ],
            "text/html": [
              "\n",
              "  <div id=\"df-09cf4768-0136-4172-9a76-8cdd9022cae2\">\n",
              "    <div class=\"colab-df-container\">\n",
              "      <div>\n",
              "<style scoped>\n",
              "    .dataframe tbody tr th:only-of-type {\n",
              "        vertical-align: middle;\n",
              "    }\n",
              "\n",
              "    .dataframe tbody tr th {\n",
              "        vertical-align: top;\n",
              "    }\n",
              "\n",
              "    .dataframe thead th {\n",
              "        text-align: right;\n",
              "    }\n",
              "</style>\n",
              "<table border=\"1\" class=\"dataframe\">\n",
              "  <thead>\n",
              "    <tr style=\"text-align: right;\">\n",
              "      <th></th>\n",
              "      <th>ReportAsOfEOD</th>\n",
              "      <th>LoanId</th>\n",
              "      <th>LoanNumber</th>\n",
              "      <th>ListedOnUTC</th>\n",
              "      <th>BiddingStartedOn</th>\n",
              "      <th>BidsPortfolioManager</th>\n",
              "      <th>BidsApi</th>\n",
              "      <th>BidsManual</th>\n",
              "      <th>UserName</th>\n",
              "      <th>NewCreditCustomer</th>\n",
              "      <th>LoanApplicationStartedDate</th>\n",
              "      <th>LoanDate</th>\n",
              "      <th>ContractEndDate</th>\n",
              "      <th>FirstPaymentDate</th>\n",
              "      <th>MaturityDate_Original</th>\n",
              "      <th>MaturityDate_Last</th>\n",
              "      <th>ApplicationSignedHour</th>\n",
              "      <th>ApplicationSignedWeekday</th>\n",
              "      <th>VerificationType</th>\n",
              "      <th>LanguageCode</th>\n",
              "      <th>Age</th>\n",
              "      <th>DateOfBirth</th>\n",
              "      <th>Gender</th>\n",
              "      <th>Country</th>\n",
              "      <th>AppliedAmount</th>\n",
              "      <th>Amount</th>\n",
              "      <th>Interest</th>\n",
              "      <th>LoanDuration</th>\n",
              "      <th>MonthlyPayment</th>\n",
              "      <th>County</th>\n",
              "      <th>City</th>\n",
              "      <th>UseOfLoan</th>\n",
              "      <th>Education</th>\n",
              "      <th>MaritalStatus</th>\n",
              "      <th>NrOfDependants</th>\n",
              "      <th>EmploymentStatus</th>\n",
              "      <th>EmploymentDurationCurrentEmployer</th>\n",
              "      <th>EmploymentPosition</th>\n",
              "      <th>WorkExperience</th>\n",
              "      <th>OccupationArea</th>\n",
              "      <th>HomeOwnershipType</th>\n",
              "      <th>IncomeFromPrincipalEmployer</th>\n",
              "      <th>IncomeFromPension</th>\n",
              "      <th>IncomeFromFamilyAllowance</th>\n",
              "      <th>IncomeFromSocialWelfare</th>\n",
              "      <th>IncomeFromLeavePay</th>\n",
              "      <th>IncomeFromChildSupport</th>\n",
              "      <th>IncomeOther</th>\n",
              "      <th>IncomeTotal</th>\n",
              "      <th>ExistingLiabilities</th>\n",
              "      <th>LiabilitiesTotal</th>\n",
              "      <th>RefinanceLiabilities</th>\n",
              "      <th>DebtToIncome</th>\n",
              "      <th>FreeCash</th>\n",
              "      <th>MonthlyPaymentDay</th>\n",
              "      <th>ActiveScheduleFirstPaymentReached</th>\n",
              "      <th>PlannedPrincipalTillDate</th>\n",
              "      <th>PlannedInterestTillDate</th>\n",
              "      <th>LastPaymentOn</th>\n",
              "      <th>CurrentDebtDaysPrimary</th>\n",
              "      <th>DebtOccuredOn</th>\n",
              "      <th>CurrentDebtDaysSecondary</th>\n",
              "      <th>DebtOccuredOnForSecondary</th>\n",
              "      <th>ExpectedLoss</th>\n",
              "      <th>LossGivenDefault</th>\n",
              "      <th>ExpectedReturn</th>\n",
              "      <th>ProbabilityOfDefault</th>\n",
              "      <th>DefaultDate</th>\n",
              "      <th>PrincipalOverdueBySchedule</th>\n",
              "      <th>PlannedPrincipalPostDefault</th>\n",
              "      <th>PlannedInterestPostDefault</th>\n",
              "      <th>EAD1</th>\n",
              "      <th>EAD2</th>\n",
              "      <th>PrincipalRecovery</th>\n",
              "      <th>InterestRecovery</th>\n",
              "      <th>RecoveryStage</th>\n",
              "      <th>StageActiveSince</th>\n",
              "      <th>ModelVersion</th>\n",
              "      <th>Rating</th>\n",
              "      <th>EL_V0</th>\n",
              "      <th>Rating_V0</th>\n",
              "      <th>EL_V1</th>\n",
              "      <th>Rating_V1</th>\n",
              "      <th>Rating_V2</th>\n",
              "      <th>Status</th>\n",
              "      <th>Restructured</th>\n",
              "      <th>ActiveLateCategory</th>\n",
              "      <th>WorseLateCategory</th>\n",
              "      <th>CreditScoreEsMicroL</th>\n",
              "      <th>CreditScoreEsEquifaxRisk</th>\n",
              "      <th>CreditScoreFiAsiakasTietoRiskGrade</th>\n",
              "      <th>CreditScoreEeMini</th>\n",
              "      <th>PrincipalPaymentsMade</th>\n",
              "      <th>InterestAndPenaltyPaymentsMade</th>\n",
              "      <th>PrincipalWriteOffs</th>\n",
              "      <th>InterestAndPenaltyWriteOffs</th>\n",
              "      <th>PrincipalBalance</th>\n",
              "      <th>InterestAndPenaltyBalance</th>\n",
              "      <th>NoOfPreviousLoansBeforeLoan</th>\n",
              "      <th>AmountOfPreviousLoansBeforeLoan</th>\n",
              "      <th>PreviousRepaymentsBeforeLoan</th>\n",
              "      <th>PreviousEarlyRepaymentsBefoleLoan</th>\n",
              "      <th>PreviousEarlyRepaymentsCountBeforeLoan</th>\n",
              "      <th>GracePeriodStart</th>\n",
              "      <th>GracePeriodEnd</th>\n",
              "      <th>NextPaymentDate</th>\n",
              "      <th>NextPaymentNr</th>\n",
              "      <th>NrOfScheduledPayments</th>\n",
              "      <th>ReScheduledOn</th>\n",
              "      <th>PrincipalDebtServicingCost</th>\n",
              "      <th>InterestAndPenaltyDebtServicingCost</th>\n",
              "      <th>ActiveLateLastPaymentCategory</th>\n",
              "    </tr>\n",
              "  </thead>\n",
              "  <tbody>\n",
              "    <tr>\n",
              "      <th>0</th>\n",
              "      <td>2020-01-27</td>\n",
              "      <td>F0660C80-83F3-4A97-8DA0-9C250112D6EC</td>\n",
              "      <td>659</td>\n",
              "      <td>2009-06-11 16:40:39</td>\n",
              "      <td>2009-06-11 16:40:39</td>\n",
              "      <td>0</td>\n",
              "      <td>0</td>\n",
              "      <td>115.0410</td>\n",
              "      <td>KARU</td>\n",
              "      <td>True</td>\n",
              "      <td>2009-06-11 16:40:39</td>\n",
              "      <td>2009-06-16</td>\n",
              "      <td>2010-07-06</td>\n",
              "      <td>2009-07-27</td>\n",
              "      <td>2010-06-25</td>\n",
              "      <td>2010-06-25</td>\n",
              "      <td>17</td>\n",
              "      <td>5</td>\n",
              "      <td>2.0</td>\n",
              "      <td>1</td>\n",
              "      <td>61</td>\n",
              "      <td>1947-11-26</td>\n",
              "      <td>1.0</td>\n",
              "      <td>EE</td>\n",
              "      <td>319.5582</td>\n",
              "      <td>115.0408</td>\n",
              "      <td>30.0</td>\n",
              "      <td>12</td>\n",
              "      <td>NaN</td>\n",
              "      <td>HARJU</td>\n",
              "      <td>TALLINN</td>\n",
              "      <td>7</td>\n",
              "      <td>3.0</td>\n",
              "      <td>1.0</td>\n",
              "      <td>0</td>\n",
              "      <td>3.0</td>\n",
              "      <td>UpTo3Years</td>\n",
              "      <td>klienditeenindaja</td>\n",
              "      <td>MoreThan25Years</td>\n",
              "      <td>7.0</td>\n",
              "      <td>NaN</td>\n",
              "      <td>6000.0</td>\n",
              "      <td>0.0</td>\n",
              "      <td>0.0</td>\n",
              "      <td>0.0</td>\n",
              "      <td>0.0</td>\n",
              "      <td>0.0</td>\n",
              "      <td>4500.0</td>\n",
              "      <td>10500.0</td>\n",
              "      <td>0</td>\n",
              "      <td>0.0</td>\n",
              "      <td>0</td>\n",
              "      <td>0.0</td>\n",
              "      <td>0.0</td>\n",
              "      <td>25</td>\n",
              "      <td>True</td>\n",
              "      <td>1800.0000</td>\n",
              "      <td>319.0800</td>\n",
              "      <td>2010-07-06</td>\n",
              "      <td>NaN</td>\n",
              "      <td>NaN</td>\n",
              "      <td>NaN</td>\n",
              "      <td>NaN</td>\n",
              "      <td>NaN</td>\n",
              "      <td>NaN</td>\n",
              "      <td>NaN</td>\n",
              "      <td>NaN</td>\n",
              "      <td>NaN</td>\n",
              "      <td>NaN</td>\n",
              "      <td>NaN</td>\n",
              "      <td>NaN</td>\n",
              "      <td>NaN</td>\n",
              "      <td>NaN</td>\n",
              "      <td>NaN</td>\n",
              "      <td>NaN</td>\n",
              "      <td>NaN</td>\n",
              "      <td>NaN</td>\n",
              "      <td>NaN</td>\n",
              "      <td>NaN</td>\n",
              "      <td>NaN</td>\n",
              "      <td>NaN</td>\n",
              "      <td>NaN</td>\n",
              "      <td>NaN</td>\n",
              "      <td>NaN</td>\n",
              "      <td>Repaid</td>\n",
              "      <td>False</td>\n",
              "      <td>NaN</td>\n",
              "      <td>91-120</td>\n",
              "      <td>NaN</td>\n",
              "      <td>NaN</td>\n",
              "      <td>NaN</td>\n",
              "      <td>NaN</td>\n",
              "      <td>115.0408</td>\n",
              "      <td>20.4222</td>\n",
              "      <td>0.0</td>\n",
              "      <td>0.0</td>\n",
              "      <td>0.00</td>\n",
              "      <td>0.00</td>\n",
              "      <td>1</td>\n",
              "      <td>83.0852</td>\n",
              "      <td>0.0000</td>\n",
              "      <td>0.0</td>\n",
              "      <td>0</td>\n",
              "      <td>NaN</td>\n",
              "      <td>NaN</td>\n",
              "      <td>NaN</td>\n",
              "      <td>NaN</td>\n",
              "      <td>NaN</td>\n",
              "      <td>NaN</td>\n",
              "      <td>0.0</td>\n",
              "      <td>0.0</td>\n",
              "      <td>NaN</td>\n",
              "    </tr>\n",
              "    <tr>\n",
              "      <th>1</th>\n",
              "      <td>2020-01-27</td>\n",
              "      <td>978BB85B-1C69-4D51-8447-9C240104A3A2</td>\n",
              "      <td>654</td>\n",
              "      <td>2009-06-10 15:48:57</td>\n",
              "      <td>2009-06-10 15:48:57</td>\n",
              "      <td>0</td>\n",
              "      <td>0</td>\n",
              "      <td>140.6057</td>\n",
              "      <td>koort681</td>\n",
              "      <td>False</td>\n",
              "      <td>2009-06-10 15:48:57</td>\n",
              "      <td>2009-06-15</td>\n",
              "      <td>2009-07-07</td>\n",
              "      <td>2009-07-15</td>\n",
              "      <td>2009-07-15</td>\n",
              "      <td>2009-07-15</td>\n",
              "      <td>20</td>\n",
              "      <td>4</td>\n",
              "      <td>2.0</td>\n",
              "      <td>1</td>\n",
              "      <td>48</td>\n",
              "      <td>1960-11-05</td>\n",
              "      <td>1.0</td>\n",
              "      <td>EE</td>\n",
              "      <td>191.7349</td>\n",
              "      <td>140.6057</td>\n",
              "      <td>25.0</td>\n",
              "      <td>1</td>\n",
              "      <td>NaN</td>\n",
              "      <td>IDA-VIRU</td>\n",
              "      <td>KOHTLA-JARVE</td>\n",
              "      <td>7</td>\n",
              "      <td>5.0</td>\n",
              "      <td>4.0</td>\n",
              "      <td>0</td>\n",
              "      <td>3.0</td>\n",
              "      <td>MoreThan5Years</td>\n",
              "      <td>Õppealajuhataja lasteaias</td>\n",
              "      <td>MoreThan25Years</td>\n",
              "      <td>16.0</td>\n",
              "      <td>NaN</td>\n",
              "      <td>8300.0</td>\n",
              "      <td>0.0</td>\n",
              "      <td>0.0</td>\n",
              "      <td>0.0</td>\n",
              "      <td>0.0</td>\n",
              "      <td>0.0</td>\n",
              "      <td>2500.0</td>\n",
              "      <td>10800.0</td>\n",
              "      <td>0</td>\n",
              "      <td>0.0</td>\n",
              "      <td>0</td>\n",
              "      <td>0.0</td>\n",
              "      <td>0.0</td>\n",
              "      <td>15</td>\n",
              "      <td>True</td>\n",
              "      <td>2200.0000</td>\n",
              "      <td>45.8300</td>\n",
              "      <td>2009-07-07</td>\n",
              "      <td>NaN</td>\n",
              "      <td>NaN</td>\n",
              "      <td>NaN</td>\n",
              "      <td>NaN</td>\n",
              "      <td>NaN</td>\n",
              "      <td>NaN</td>\n",
              "      <td>NaN</td>\n",
              "      <td>NaN</td>\n",
              "      <td>NaN</td>\n",
              "      <td>NaN</td>\n",
              "      <td>NaN</td>\n",
              "      <td>NaN</td>\n",
              "      <td>NaN</td>\n",
              "      <td>NaN</td>\n",
              "      <td>NaN</td>\n",
              "      <td>NaN</td>\n",
              "      <td>NaN</td>\n",
              "      <td>NaN</td>\n",
              "      <td>NaN</td>\n",
              "      <td>NaN</td>\n",
              "      <td>NaN</td>\n",
              "      <td>NaN</td>\n",
              "      <td>NaN</td>\n",
              "      <td>NaN</td>\n",
              "      <td>NaN</td>\n",
              "      <td>Repaid</td>\n",
              "      <td>False</td>\n",
              "      <td>NaN</td>\n",
              "      <td>NaN</td>\n",
              "      <td>NaN</td>\n",
              "      <td>NaN</td>\n",
              "      <td>NaN</td>\n",
              "      <td>NaN</td>\n",
              "      <td>140.6057</td>\n",
              "      <td>2.0227</td>\n",
              "      <td>0.0</td>\n",
              "      <td>0.0</td>\n",
              "      <td>0.00</td>\n",
              "      <td>0.00</td>\n",
              "      <td>2</td>\n",
              "      <td>255.6467</td>\n",
              "      <td>258.6256</td>\n",
              "      <td>0.0</td>\n",
              "      <td>0</td>\n",
              "      <td>NaN</td>\n",
              "      <td>NaN</td>\n",
              "      <td>NaN</td>\n",
              "      <td>NaN</td>\n",
              "      <td>NaN</td>\n",
              "      <td>NaN</td>\n",
              "      <td>0.0</td>\n",
              "      <td>0.0</td>\n",
              "      <td>NaN</td>\n",
              "    </tr>\n",
              "    <tr>\n",
              "      <th>2</th>\n",
              "      <td>2020-01-27</td>\n",
              "      <td>EA44027E-7FA7-4BB2-846D-9C1F013C8A22</td>\n",
              "      <td>641</td>\n",
              "      <td>2009-06-05 19:12:29</td>\n",
              "      <td>2009-06-05 19:12:29</td>\n",
              "      <td>0</td>\n",
              "      <td>0</td>\n",
              "      <td>319.5580</td>\n",
              "      <td>0ie</td>\n",
              "      <td>True</td>\n",
              "      <td>2009-06-05 19:12:29</td>\n",
              "      <td>2009-06-15</td>\n",
              "      <td>NaN</td>\n",
              "      <td>2009-07-27</td>\n",
              "      <td>2011-02-25</td>\n",
              "      <td>2014-05-13</td>\n",
              "      <td>20</td>\n",
              "      <td>6</td>\n",
              "      <td>2.0</td>\n",
              "      <td>1</td>\n",
              "      <td>58</td>\n",
              "      <td>1950-11-13</td>\n",
              "      <td>1.0</td>\n",
              "      <td>EE</td>\n",
              "      <td>319.5582</td>\n",
              "      <td>319.5409</td>\n",
              "      <td>25.0</td>\n",
              "      <td>20</td>\n",
              "      <td>NaN</td>\n",
              "      <td>PÄRNU</td>\n",
              "      <td>PÄRNU</td>\n",
              "      <td>2</td>\n",
              "      <td>4.0</td>\n",
              "      <td>1.0</td>\n",
              "      <td>0</td>\n",
              "      <td>3.0</td>\n",
              "      <td>UpTo4Years</td>\n",
              "      <td>teenindaja</td>\n",
              "      <td>MoreThan25Years</td>\n",
              "      <td>9.0</td>\n",
              "      <td>NaN</td>\n",
              "      <td>5000.0</td>\n",
              "      <td>0.0</td>\n",
              "      <td>0.0</td>\n",
              "      <td>0.0</td>\n",
              "      <td>0.0</td>\n",
              "      <td>0.0</td>\n",
              "      <td>2000.0</td>\n",
              "      <td>7000.0</td>\n",
              "      <td>0</td>\n",
              "      <td>0.0</td>\n",
              "      <td>0</td>\n",
              "      <td>0.0</td>\n",
              "      <td>0.0</td>\n",
              "      <td>25</td>\n",
              "      <td>True</td>\n",
              "      <td>319.5409</td>\n",
              "      <td>197.2926</td>\n",
              "      <td>2012-10-01</td>\n",
              "      <td>2813.0</td>\n",
              "      <td>2012-05-14</td>\n",
              "      <td>2935.0</td>\n",
              "      <td>2012-01-13</td>\n",
              "      <td>NaN</td>\n",
              "      <td>NaN</td>\n",
              "      <td>NaN</td>\n",
              "      <td>NaN</td>\n",
              "      <td>2012-07-16</td>\n",
              "      <td>116.35</td>\n",
              "      <td>236.97</td>\n",
              "      <td>38.24</td>\n",
              "      <td>279.5049</td>\n",
              "      <td>270.7323</td>\n",
              "      <td>163.1549</td>\n",
              "      <td>50.99</td>\n",
              "      <td>NaN</td>\n",
              "      <td>2016-03-03 00:00:00</td>\n",
              "      <td>NaN</td>\n",
              "      <td>NaN</td>\n",
              "      <td>NaN</td>\n",
              "      <td>NaN</td>\n",
              "      <td>NaN</td>\n",
              "      <td>NaN</td>\n",
              "      <td>NaN</td>\n",
              "      <td>Late</td>\n",
              "      <td>True</td>\n",
              "      <td>180+</td>\n",
              "      <td>180+</td>\n",
              "      <td>NaN</td>\n",
              "      <td>NaN</td>\n",
              "      <td>NaN</td>\n",
              "      <td>NaN</td>\n",
              "      <td>203.1909</td>\n",
              "      <td>59.7626</td>\n",
              "      <td>0.0</td>\n",
              "      <td>0.0</td>\n",
              "      <td>116.35</td>\n",
              "      <td>414.07</td>\n",
              "      <td>0</td>\n",
              "      <td>0.0000</td>\n",
              "      <td>0.0000</td>\n",
              "      <td>0.0</td>\n",
              "      <td>0</td>\n",
              "      <td>NaN</td>\n",
              "      <td>NaN</td>\n",
              "      <td>NaN</td>\n",
              "      <td>NaN</td>\n",
              "      <td>NaN</td>\n",
              "      <td>NaN</td>\n",
              "      <td>0.0</td>\n",
              "      <td>0.0</td>\n",
              "      <td>180+</td>\n",
              "    </tr>\n",
              "    <tr>\n",
              "      <th>3</th>\n",
              "      <td>2020-01-27</td>\n",
              "      <td>CE67AD25-2951-4BEE-96BD-9C2700C61EF4</td>\n",
              "      <td>668</td>\n",
              "      <td>2009-06-13 12:01:20</td>\n",
              "      <td>2009-06-13 12:01:20</td>\n",
              "      <td>0</td>\n",
              "      <td>0</td>\n",
              "      <td>57.5205</td>\n",
              "      <td>Alyona</td>\n",
              "      <td>True</td>\n",
              "      <td>2009-06-13 12:01:20</td>\n",
              "      <td>2009-06-15</td>\n",
              "      <td>2010-09-15</td>\n",
              "      <td>2009-07-15</td>\n",
              "      <td>2010-09-15</td>\n",
              "      <td>2010-09-15</td>\n",
              "      <td>12</td>\n",
              "      <td>7</td>\n",
              "      <td>2.0</td>\n",
              "      <td>1</td>\n",
              "      <td>23</td>\n",
              "      <td>1986-03-29</td>\n",
              "      <td>1.0</td>\n",
              "      <td>EE</td>\n",
              "      <td>127.8233</td>\n",
              "      <td>57.5205</td>\n",
              "      <td>45.0</td>\n",
              "      <td>15</td>\n",
              "      <td>NaN</td>\n",
              "      <td>HARJU</td>\n",
              "      <td>PALDISKI</td>\n",
              "      <td>0</td>\n",
              "      <td>2.0</td>\n",
              "      <td>3.0</td>\n",
              "      <td>1</td>\n",
              "      <td>NaN</td>\n",
              "      <td>UpTo2Years</td>\n",
              "      <td>juhtmekoitja</td>\n",
              "      <td>2To5Years</td>\n",
              "      <td>1.0</td>\n",
              "      <td>NaN</td>\n",
              "      <td>11000.0</td>\n",
              "      <td>0.0</td>\n",
              "      <td>0.0</td>\n",
              "      <td>0.0</td>\n",
              "      <td>0.0</td>\n",
              "      <td>0.0</td>\n",
              "      <td>600.0</td>\n",
              "      <td>11600.0</td>\n",
              "      <td>0</td>\n",
              "      <td>0.0</td>\n",
              "      <td>0</td>\n",
              "      <td>0.0</td>\n",
              "      <td>0.0</td>\n",
              "      <td>15</td>\n",
              "      <td>True</td>\n",
              "      <td>900.0000</td>\n",
              "      <td>293.1000</td>\n",
              "      <td>2010-09-15</td>\n",
              "      <td>NaN</td>\n",
              "      <td>NaN</td>\n",
              "      <td>NaN</td>\n",
              "      <td>NaN</td>\n",
              "      <td>NaN</td>\n",
              "      <td>NaN</td>\n",
              "      <td>NaN</td>\n",
              "      <td>NaN</td>\n",
              "      <td>NaN</td>\n",
              "      <td>NaN</td>\n",
              "      <td>NaN</td>\n",
              "      <td>NaN</td>\n",
              "      <td>NaN</td>\n",
              "      <td>NaN</td>\n",
              "      <td>NaN</td>\n",
              "      <td>NaN</td>\n",
              "      <td>NaN</td>\n",
              "      <td>NaN</td>\n",
              "      <td>NaN</td>\n",
              "      <td>NaN</td>\n",
              "      <td>NaN</td>\n",
              "      <td>NaN</td>\n",
              "      <td>NaN</td>\n",
              "      <td>NaN</td>\n",
              "      <td>NaN</td>\n",
              "      <td>Repaid</td>\n",
              "      <td>False</td>\n",
              "      <td>NaN</td>\n",
              "      <td>31-60</td>\n",
              "      <td>NaN</td>\n",
              "      <td>NaN</td>\n",
              "      <td>NaN</td>\n",
              "      <td>NaN</td>\n",
              "      <td>57.5205</td>\n",
              "      <td>18.7323</td>\n",
              "      <td>0.0</td>\n",
              "      <td>0.0</td>\n",
              "      <td>0.00</td>\n",
              "      <td>0.00</td>\n",
              "      <td>1</td>\n",
              "      <td>134.2144</td>\n",
              "      <td>0.0000</td>\n",
              "      <td>0.0</td>\n",
              "      <td>0</td>\n",
              "      <td>NaN</td>\n",
              "      <td>NaN</td>\n",
              "      <td>NaN</td>\n",
              "      <td>NaN</td>\n",
              "      <td>NaN</td>\n",
              "      <td>NaN</td>\n",
              "      <td>0.0</td>\n",
              "      <td>0.0</td>\n",
              "      <td>NaN</td>\n",
              "    </tr>\n",
              "    <tr>\n",
              "      <th>4</th>\n",
              "      <td>2020-01-27</td>\n",
              "      <td>9408BF8C-B159-4D6A-9D61-9C2400A986E3</td>\n",
              "      <td>652</td>\n",
              "      <td>2009-06-10 10:17:13</td>\n",
              "      <td>2009-06-10 10:17:13</td>\n",
              "      <td>0</td>\n",
              "      <td>0</td>\n",
              "      <td>319.5582</td>\n",
              "      <td>Kai</td>\n",
              "      <td>True</td>\n",
              "      <td>2009-06-10 10:17:13</td>\n",
              "      <td>2009-06-14</td>\n",
              "      <td>2016-07-28</td>\n",
              "      <td>2009-07-27</td>\n",
              "      <td>2010-06-25</td>\n",
              "      <td>2010-06-25</td>\n",
              "      <td>10</td>\n",
              "      <td>4</td>\n",
              "      <td>2.0</td>\n",
              "      <td>1</td>\n",
              "      <td>25</td>\n",
              "      <td>1983-09-30</td>\n",
              "      <td>1.0</td>\n",
              "      <td>EE</td>\n",
              "      <td>319.5582</td>\n",
              "      <td>319.5436</td>\n",
              "      <td>30.0</td>\n",
              "      <td>12</td>\n",
              "      <td>NaN</td>\n",
              "      <td>TARTU</td>\n",
              "      <td>TARTU</td>\n",
              "      <td>6</td>\n",
              "      <td>4.0</td>\n",
              "      <td>2.0</td>\n",
              "      <td>0</td>\n",
              "      <td>3.0</td>\n",
              "      <td>UpTo2Years</td>\n",
              "      <td>klienditeenindaja</td>\n",
              "      <td>5To10Years</td>\n",
              "      <td>7.0</td>\n",
              "      <td>NaN</td>\n",
              "      <td>6800.0</td>\n",
              "      <td>0.0</td>\n",
              "      <td>0.0</td>\n",
              "      <td>0.0</td>\n",
              "      <td>0.0</td>\n",
              "      <td>0.0</td>\n",
              "      <td>0.0</td>\n",
              "      <td>6800.0</td>\n",
              "      <td>0</td>\n",
              "      <td>0.0</td>\n",
              "      <td>0</td>\n",
              "      <td>0.0</td>\n",
              "      <td>0.0</td>\n",
              "      <td>25</td>\n",
              "      <td>True</td>\n",
              "      <td>5000.0000</td>\n",
              "      <td>833.8100</td>\n",
              "      <td>2015-07-16</td>\n",
              "      <td>NaN</td>\n",
              "      <td>NaN</td>\n",
              "      <td>3835.0</td>\n",
              "      <td>2009-07-27</td>\n",
              "      <td>NaN</td>\n",
              "      <td>NaN</td>\n",
              "      <td>NaN</td>\n",
              "      <td>NaN</td>\n",
              "      <td>2009-09-28</td>\n",
              "      <td>NaN</td>\n",
              "      <td>247.76</td>\n",
              "      <td>29.84</td>\n",
              "      <td>319.5436</td>\n",
              "      <td>319.5436</td>\n",
              "      <td>319.5436</td>\n",
              "      <td>220.42</td>\n",
              "      <td>NaN</td>\n",
              "      <td>NaN</td>\n",
              "      <td>NaN</td>\n",
              "      <td>NaN</td>\n",
              "      <td>NaN</td>\n",
              "      <td>NaN</td>\n",
              "      <td>NaN</td>\n",
              "      <td>NaN</td>\n",
              "      <td>NaN</td>\n",
              "      <td>Repaid</td>\n",
              "      <td>False</td>\n",
              "      <td>NaN</td>\n",
              "      <td>180+</td>\n",
              "      <td>NaN</td>\n",
              "      <td>NaN</td>\n",
              "      <td>NaN</td>\n",
              "      <td>NaN</td>\n",
              "      <td>319.5436</td>\n",
              "      <td>220.4200</td>\n",
              "      <td>0.0</td>\n",
              "      <td>2.4</td>\n",
              "      <td>0.00</td>\n",
              "      <td>0.00</td>\n",
              "      <td>1</td>\n",
              "      <td>146.9966</td>\n",
              "      <td>0.0000</td>\n",
              "      <td>0.0</td>\n",
              "      <td>0</td>\n",
              "      <td>NaN</td>\n",
              "      <td>NaN</td>\n",
              "      <td>NaN</td>\n",
              "      <td>NaN</td>\n",
              "      <td>NaN</td>\n",
              "      <td>NaN</td>\n",
              "      <td>0.0</td>\n",
              "      <td>0.0</td>\n",
              "      <td>180+</td>\n",
              "    </tr>\n",
              "  </tbody>\n",
              "</table>\n",
              "</div>\n",
              "      <button class=\"colab-df-convert\" onclick=\"convertToInteractive('df-09cf4768-0136-4172-9a76-8cdd9022cae2')\"\n",
              "              title=\"Convert this dataframe to an interactive table.\"\n",
              "              style=\"display:none;\">\n",
              "        \n",
              "  <svg xmlns=\"http://www.w3.org/2000/svg\" height=\"24px\"viewBox=\"0 0 24 24\"\n",
              "       width=\"24px\">\n",
              "    <path d=\"M0 0h24v24H0V0z\" fill=\"none\"/>\n",
              "    <path d=\"M18.56 5.44l.94 2.06.94-2.06 2.06-.94-2.06-.94-.94-2.06-.94 2.06-2.06.94zm-11 1L8.5 8.5l.94-2.06 2.06-.94-2.06-.94L8.5 2.5l-.94 2.06-2.06.94zm10 10l.94 2.06.94-2.06 2.06-.94-2.06-.94-.94-2.06-.94 2.06-2.06.94z\"/><path d=\"M17.41 7.96l-1.37-1.37c-.4-.4-.92-.59-1.43-.59-.52 0-1.04.2-1.43.59L10.3 9.45l-7.72 7.72c-.78.78-.78 2.05 0 2.83L4 21.41c.39.39.9.59 1.41.59.51 0 1.02-.2 1.41-.59l7.78-7.78 2.81-2.81c.8-.78.8-2.07 0-2.86zM5.41 20L4 18.59l7.72-7.72 1.47 1.35L5.41 20z\"/>\n",
              "  </svg>\n",
              "      </button>\n",
              "      \n",
              "  <style>\n",
              "    .colab-df-container {\n",
              "      display:flex;\n",
              "      flex-wrap:wrap;\n",
              "      gap: 12px;\n",
              "    }\n",
              "\n",
              "    .colab-df-convert {\n",
              "      background-color: #E8F0FE;\n",
              "      border: none;\n",
              "      border-radius: 50%;\n",
              "      cursor: pointer;\n",
              "      display: none;\n",
              "      fill: #1967D2;\n",
              "      height: 32px;\n",
              "      padding: 0 0 0 0;\n",
              "      width: 32px;\n",
              "    }\n",
              "\n",
              "    .colab-df-convert:hover {\n",
              "      background-color: #E2EBFA;\n",
              "      box-shadow: 0px 1px 2px rgba(60, 64, 67, 0.3), 0px 1px 3px 1px rgba(60, 64, 67, 0.15);\n",
              "      fill: #174EA6;\n",
              "    }\n",
              "\n",
              "    [theme=dark] .colab-df-convert {\n",
              "      background-color: #3B4455;\n",
              "      fill: #D2E3FC;\n",
              "    }\n",
              "\n",
              "    [theme=dark] .colab-df-convert:hover {\n",
              "      background-color: #434B5C;\n",
              "      box-shadow: 0px 1px 3px 1px rgba(0, 0, 0, 0.15);\n",
              "      filter: drop-shadow(0px 1px 2px rgba(0, 0, 0, 0.3));\n",
              "      fill: #FFFFFF;\n",
              "    }\n",
              "  </style>\n",
              "\n",
              "      <script>\n",
              "        const buttonEl =\n",
              "          document.querySelector('#df-09cf4768-0136-4172-9a76-8cdd9022cae2 button.colab-df-convert');\n",
              "        buttonEl.style.display =\n",
              "          google.colab.kernel.accessAllowed ? 'block' : 'none';\n",
              "\n",
              "        async function convertToInteractive(key) {\n",
              "          const element = document.querySelector('#df-09cf4768-0136-4172-9a76-8cdd9022cae2');\n",
              "          const dataTable =\n",
              "            await google.colab.kernel.invokeFunction('convertToInteractive',\n",
              "                                                     [key], {});\n",
              "          if (!dataTable) return;\n",
              "\n",
              "          const docLinkHtml = 'Like what you see? Visit the ' +\n",
              "            '<a target=\"_blank\" href=https://colab.research.google.com/notebooks/data_table.ipynb>data table notebook</a>'\n",
              "            + ' to learn more about interactive tables.';\n",
              "          element.innerHTML = '';\n",
              "          dataTable['output_type'] = 'display_data';\n",
              "          await google.colab.output.renderOutput(dataTable, element);\n",
              "          const docLink = document.createElement('div');\n",
              "          docLink.innerHTML = docLinkHtml;\n",
              "          element.appendChild(docLink);\n",
              "        }\n",
              "      </script>\n",
              "    </div>\n",
              "  </div>\n",
              "  "
            ]
          },
          "metadata": {},
          "execution_count": 583
        }
      ],
      "source": [
        "df.head()"
      ]
    },
    {
      "cell_type": "markdown",
      "metadata": {
        "id": "8H2vDcRFcOf0"
      },
      "source": [
        "# **Percentage of Missing Values**"
      ]
    },
    {
      "cell_type": "code",
      "source": [
        "# To show all the null percentage of columns\n",
        "\n",
        "percent_missing=((df.isnull().sum() / len(df)) *100).round()\n",
        "\n",
        "missing_value_df = pd.DataFrame({'column_name': df.columns,\n",
        "                                 'percent_missing': percent_missing})\n",
        "percent_missing"
      ],
      "metadata": {
        "colab": {
          "base_uri": "https://localhost:8080/"
        },
        "id": "faLgl74bZw-B",
        "outputId": "4bf98560-58d0-4d06-bd91-51446a11f5db"
      },
      "execution_count": 584,
      "outputs": [
        {
          "output_type": "execute_result",
          "data": {
            "text/plain": [
              "ReportAsOfEOD                              0.0\n",
              "LoanId                                     0.0\n",
              "LoanNumber                                 0.0\n",
              "ListedOnUTC                                0.0\n",
              "BiddingStartedOn                           0.0\n",
              "BidsPortfolioManager                       0.0\n",
              "BidsApi                                    0.0\n",
              "BidsManual                                 0.0\n",
              "UserName                                   0.0\n",
              "NewCreditCustomer                          0.0\n",
              "LoanApplicationStartedDate                 0.0\n",
              "LoanDate                                   0.0\n",
              "ContractEndDate                           56.0\n",
              "FirstPaymentDate                           0.0\n",
              "MaturityDate_Original                      0.0\n",
              "MaturityDate_Last                          0.0\n",
              "ApplicationSignedHour                      0.0\n",
              "ApplicationSignedWeekday                   0.0\n",
              "VerificationType                           0.0\n",
              "LanguageCode                               0.0\n",
              "Age                                        0.0\n",
              "DateOfBirth                                0.0\n",
              "Gender                                     0.0\n",
              "Country                                    0.0\n",
              "AppliedAmount                              0.0\n",
              "Amount                                     0.0\n",
              "Interest                                   0.0\n",
              "LoanDuration                               0.0\n",
              "MonthlyPayment                             5.0\n",
              "County                                    27.0\n",
              "City                                       7.0\n",
              "UseOfLoan                                  0.0\n",
              "Education                                  0.0\n",
              "MaritalStatus                              0.0\n",
              "NrOfDependants                            74.0\n",
              "EmploymentStatus                           0.0\n",
              "EmploymentDurationCurrentEmployer          1.0\n",
              "EmploymentPosition                        73.0\n",
              "WorkExperience                            73.0\n",
              "OccupationArea                             0.0\n",
              "HomeOwnershipType                          1.0\n",
              "IncomeFromPrincipalEmployer                0.0\n",
              "IncomeFromPension                          0.0\n",
              "IncomeFromFamilyAllowance                  0.0\n",
              "IncomeFromSocialWelfare                    0.0\n",
              "IncomeFromLeavePay                         0.0\n",
              "IncomeFromChildSupport                     0.0\n",
              "IncomeOther                                0.0\n",
              "IncomeTotal                                0.0\n",
              "ExistingLiabilities                        0.0\n",
              "LiabilitiesTotal                           0.0\n",
              "RefinanceLiabilities                       0.0\n",
              "DebtToIncome                               0.0\n",
              "FreeCash                                   0.0\n",
              "MonthlyPaymentDay                          0.0\n",
              "ActiveScheduleFirstPaymentReached          0.0\n",
              "PlannedPrincipalTillDate                  60.0\n",
              "PlannedInterestTillDate                    3.0\n",
              "LastPaymentOn                              7.0\n",
              "CurrentDebtDaysPrimary                    64.0\n",
              "DebtOccuredOn                             64.0\n",
              "CurrentDebtDaysSecondary                  61.0\n",
              "DebtOccuredOnForSecondary                 61.0\n",
              "ExpectedLoss                               2.0\n",
              "LossGivenDefault                           2.0\n",
              "ExpectedReturn                             2.0\n",
              "ProbabilityOfDefault                       2.0\n",
              "DefaultDate                               68.0\n",
              "PrincipalOverdueBySchedule                11.0\n",
              "PlannedPrincipalPostDefault               68.0\n",
              "PlannedInterestPostDefault                68.0\n",
              "EAD1                                      68.0\n",
              "EAD2                                      68.0\n",
              "PrincipalRecovery                         68.0\n",
              "InterestRecovery                          68.0\n",
              "RecoveryStage                             43.0\n",
              "StageActiveSince                          40.0\n",
              "ModelVersion                               2.0\n",
              "Rating                                     2.0\n",
              "EL_V0                                     97.0\n",
              "Rating_V0                                 97.0\n",
              "EL_V1                                     90.0\n",
              "Rating_V1                                 90.0\n",
              "Rating_V2                                 81.0\n",
              "Status                                     0.0\n",
              "Restructured                               0.0\n",
              "ActiveLateCategory                        64.0\n",
              "WorseLateCategory                         34.0\n",
              "CreditScoreEsMicroL                       22.0\n",
              "CreditScoreEsEquifaxRisk                  91.0\n",
              "CreditScoreFiAsiakasTietoRiskGrade        76.0\n",
              "CreditScoreEeMini                         47.0\n",
              "PrincipalPaymentsMade                      0.0\n",
              "InterestAndPenaltyPaymentsMade             0.0\n",
              "PrincipalWriteOffs                        56.0\n",
              "InterestAndPenaltyWriteOffs               56.0\n",
              "PrincipalBalance                           0.0\n",
              "InterestAndPenaltyBalance                  0.0\n",
              "NoOfPreviousLoansBeforeLoan                0.0\n",
              "AmountOfPreviousLoansBeforeLoan            0.0\n",
              "PreviousRepaymentsBeforeLoan              32.0\n",
              "PreviousEarlyRepaymentsBefoleLoan         57.0\n",
              "PreviousEarlyRepaymentsCountBeforeLoan     0.0\n",
              "GracePeriodStart                          86.0\n",
              "GracePeriodEnd                            86.0\n",
              "NextPaymentDate                           51.0\n",
              "NextPaymentNr                             27.0\n",
              "NrOfScheduledPayments                     27.0\n",
              "ReScheduledOn                             70.0\n",
              "PrincipalDebtServicingCost                56.0\n",
              "InterestAndPenaltyDebtServicingCost       56.0\n",
              "ActiveLateLastPaymentCategory             61.0\n",
              "dtype: float64"
            ]
          },
          "metadata": {},
          "execution_count": 584
        }
      ]
    },
    {
      "cell_type": "markdown",
      "metadata": {
        "id": "3MX6WsyUcOf5"
      },
      "source": [
        "Removing all the features which have more than 40% missing values"
      ]
    },
    {
      "cell_type": "code",
      "execution_count": 585,
      "metadata": {
        "id": "kRT67w4KcOf6",
        "outputId": "f7aa45e8-b5ff-478a-f440-44fa21969f36",
        "colab": {
          "base_uri": "https://localhost:8080/"
        }
      },
      "outputs": [
        {
          "output_type": "execute_result",
          "data": {
            "text/plain": [
              "Index(['ContractEndDate', 'NrOfDependants', 'EmploymentPosition',\n",
              "       'WorkExperience', 'PlannedPrincipalTillDate', 'CurrentDebtDaysPrimary',\n",
              "       'DebtOccuredOn', 'CurrentDebtDaysSecondary',\n",
              "       'DebtOccuredOnForSecondary', 'DefaultDate',\n",
              "       'PlannedPrincipalPostDefault', 'PlannedInterestPostDefault', 'EAD1',\n",
              "       'EAD2', 'PrincipalRecovery', 'InterestRecovery', 'RecoveryStage',\n",
              "       'EL_V0', 'Rating_V0', 'EL_V1', 'Rating_V1', 'Rating_V2',\n",
              "       'ActiveLateCategory', 'CreditScoreEsEquifaxRisk',\n",
              "       'CreditScoreFiAsiakasTietoRiskGrade', 'CreditScoreEeMini',\n",
              "       'PrincipalWriteOffs', 'InterestAndPenaltyWriteOffs',\n",
              "       'PreviousEarlyRepaymentsBefoleLoan', 'GracePeriodStart',\n",
              "       'GracePeriodEnd', 'NextPaymentDate', 'ReScheduledOn',\n",
              "       'PrincipalDebtServicingCost', 'InterestAndPenaltyDebtServicingCost',\n",
              "       'ActiveLateLastPaymentCategory'],\n",
              "      dtype='object')"
            ]
          },
          "metadata": {},
          "execution_count": 585
        }
      ],
      "source": [
        "# removing the columns having more than 40% missing values\n",
        "percent_missing[percent_missing>40].index"
      ]
    },
    {
      "cell_type": "code",
      "execution_count": 586,
      "metadata": {
        "id": "Jikc0Mz_cOf8"
      },
      "outputs": [],
      "source": [
        "# print missing values columns \n",
        "miss_col=['ContractEndDate', 'NrOfDependants', 'EmploymentPosition',\n",
        "       'WorkExperience', 'PlannedPrincipalTillDate', 'CurrentDebtDaysPrimary',\n",
        "       'DebtOccuredOn', 'CurrentDebtDaysSecondary',\n",
        "       'DebtOccuredOnForSecondary',\n",
        "       'PlannedPrincipalPostDefault', 'PlannedInterestPostDefault', 'EAD1',\n",
        "       'EAD2', 'PrincipalRecovery', 'InterestRecovery', 'RecoveryStage',\n",
        "       'EL_V0', 'Rating_V0', 'EL_V1', 'Rating_V1', 'Rating_V2',\n",
        "       'ActiveLateCategory', 'CreditScoreEsEquifaxRisk',\n",
        "       'CreditScoreFiAsiakasTietoRiskGrade', 'CreditScoreEeMini',\n",
        "       'PrincipalWriteOffs', 'InterestAndPenaltyWriteOffs',\n",
        "       'PreviousEarlyRepaymentsBefoleLoan', 'GracePeriodStart',\n",
        "       'GracePeriodEnd', 'NextPaymentDate', 'ReScheduledOn',\n",
        "       'PrincipalDebtServicingCost', 'InterestAndPenaltyDebtServicingCost',\n",
        "       'ActiveLateLastPaymentCategory']"
      ]
    },
    {
      "cell_type": "code",
      "execution_count": 587,
      "metadata": {
        "id": "zIDqSW_ecOgA",
        "outputId": "2588b2b6-9817-42ea-e9cc-04b26af58802",
        "colab": {
          "base_uri": "https://localhost:8080/"
        }
      },
      "outputs": [
        {
          "output_type": "execute_result",
          "data": {
            "text/plain": [
              "(134529, 77)"
            ]
          },
          "metadata": {},
          "execution_count": 587
        }
      ],
      "source": [
        "# drop missing values columns \n",
        "loan = df.drop(columns=miss_col)\n",
        "loan.shape"
      ]
    },
    {
      "cell_type": "markdown",
      "metadata": {
        "id": "V_WiF5B5cOgD"
      },
      "source": [
        "Apart from missing value features there are some features which will have no role in default prediction like 'ReportAsOfEOD', 'LoanId', 'LoanNumber', 'ListedOnUTC', 'DateOfBirth' (**because age is already present**), 'BiddingStartedOn','UserName','NextPaymentNr','NrOfScheduledPayments','IncomeFromPrincipalEmployer', 'IncomeFromPension',\n",
        "'IncomeFromFamilyAllowance', 'IncomeFromSocialWelfare','IncomeFromLeavePay', 'IncomeFromChildSupport', 'IncomeOther' (**As Total income is already present which is total of all these income**), 'LoanApplicationStartedDate','ApplicationSignedHour',\n",
        "       'ApplicationSignedWeekday','ActiveScheduleFirstPaymentReached', 'PlannedInterestTillDate',\n",
        "       'LastPaymentOn', 'ExpectedLoss', 'LossGivenDefault', 'ExpectedReturn',\n",
        "       'ProbabilityOfDefault', 'PrincipalOverdueBySchedule',\n",
        "       'StageActiveSince', 'ModelVersion','WorseLateCategory'"
      ]
    },
    {
      "cell_type": "code",
      "execution_count": 588,
      "metadata": {
        "id": "z0HlXLo_cOgD"
      },
      "outputs": [],
      "source": [
        "cols_del = ['ReportAsOfEOD', 'LoanId', 'LoanNumber', 'ListedOnUTC', 'DateOfBirth',\n",
        "       'BiddingStartedOn','UserName','NextPaymentNr',\n",
        "       'NrOfScheduledPayments','IncomeFromPrincipalEmployer', 'IncomeFromPension',\n",
        "       'IncomeFromFamilyAllowance', 'IncomeFromSocialWelfare',\n",
        "       'IncomeFromLeavePay', 'IncomeFromChildSupport', 'IncomeOther','LoanApplicationStartedDate','ApplicationSignedHour',\n",
        "       'ApplicationSignedWeekday','ActiveScheduleFirstPaymentReached', 'PlannedInterestTillDate',\n",
        "       'ExpectedLoss', 'LossGivenDefault', 'ExpectedReturn',\n",
        "       'ProbabilityOfDefault', 'PrincipalOverdueBySchedule',\n",
        "       'StageActiveSince', 'ModelVersion','WorseLateCategory']"
      ]
    },
    {
      "cell_type": "code",
      "execution_count": 589,
      "metadata": {
        "id": "tLY5tF5QcOgF"
      },
      "outputs": [],
      "source": [
        "loan = loan.drop(cols_del,axis=1)"
      ]
    },
    {
      "cell_type": "code",
      "execution_count": 590,
      "metadata": {
        "id": "SuLhEUDqcOgG",
        "outputId": "c414f3d6-44f5-46b0-c9db-ce99e5cdf386",
        "colab": {
          "base_uri": "https://localhost:8080/"
        }
      },
      "outputs": [
        {
          "output_type": "execute_result",
          "data": {
            "text/plain": [
              "(134529, 48)"
            ]
          },
          "metadata": {},
          "execution_count": 590
        }
      ],
      "source": [
        "loan.shape"
      ]
    },
    {
      "cell_type": "markdown",
      "metadata": {
        "id": "MZ547QSVcOgH"
      },
      "source": [
        "## Creating Target Variable\n",
        "\n",
        "Here, status is the variable which help us in creating target variable. The reason for not making status as target variable is that it has three unique values **current, Late and repaid**. There is no default feature but there is a feature **default date** which tells us when the borrower has defaulted means on which date the borrower defaulted. So, we will be combining **Status** and **Default date** features for creating target  variable.The reason we cannot simply treat Late as default because it also has some records in which actual status is Late but the user has never defaulted i.e., default date is null.\n",
        "So we will first filter out all the current status records because they are not matured yet they are current loans. "
      ]
    },
    {
      "cell_type": "code",
      "source": [
        "# let's find the counts of each status categories \n",
        "loan['Status'].value_counts()"
      ],
      "metadata": {
        "colab": {
          "base_uri": "https://localhost:8080/"
        },
        "id": "BsBo19uBhu8z",
        "outputId": "70833ded-fa88-44f6-febf-31a3b03f7ed2"
      },
      "execution_count": 591,
      "outputs": [
        {
          "output_type": "execute_result",
          "data": {
            "text/plain": [
              "Current    57135\n",
              "Late       45772\n",
              "Repaid     31622\n",
              "Name: Status, dtype: int64"
            ]
          },
          "metadata": {},
          "execution_count": 591
        }
      ]
    },
    {
      "cell_type": "code",
      "execution_count": 592,
      "metadata": {
        "id": "o14N3xVDcOgK",
        "colab": {
          "base_uri": "https://localhost:8080/"
        },
        "outputId": "f96a9c17-a314-43e3-ed55-a6d046db933b"
      },
      "outputs": [
        {
          "output_type": "execute_result",
          "data": {
            "text/plain": [
              "Current    57135\n",
              "Name: Status, dtype: int64"
            ]
          },
          "metadata": {},
          "execution_count": 592
        }
      ],
      "source": [
        "# filtering out Current Status records\n",
        "loan = loan[ loan['Status'] == \"Current\"]\n",
        "loan['Status'].value_counts()"
      ]
    },
    {
      "cell_type": "code",
      "source": [
        "loan.shape"
      ],
      "metadata": {
        "colab": {
          "base_uri": "https://localhost:8080/"
        },
        "id": "kunRVtOLs4Za",
        "outputId": "df2e940c-32cb-499b-db94-7b56ced70f68"
      },
      "execution_count": 593,
      "outputs": [
        {
          "output_type": "execute_result",
          "data": {
            "text/plain": [
              "(57135, 48)"
            ]
          },
          "metadata": {},
          "execution_count": 593
        }
      ]
    },
    {
      "cell_type": "markdown",
      "metadata": {
        "id": "1Kehn_zacOgK"
      },
      "source": [
        "Now, we will create new target variable in which 0 will be assigned when default date is null means borrower has never defaulted while 1 in case default date is present."
      ]
    },
    {
      "cell_type": "code",
      "source": [
        "loan[\"DefaultDate\"].isnull().sum()"
      ],
      "metadata": {
        "colab": {
          "base_uri": "https://localhost:8080/"
        },
        "id": "oIXmNTNekw1h",
        "outputId": "bbddbe11-4404-4496-dce7-60d7687a8233"
      },
      "execution_count": 594,
      "outputs": [
        {
          "output_type": "execute_result",
          "data": {
            "text/plain": [
              "57014"
            ]
          },
          "metadata": {},
          "execution_count": 594
        }
      ]
    },
    {
      "cell_type": "code",
      "execution_count": 595,
      "metadata": {
        "id": "QaYozEf8cOgL"
      },
      "outputs": [],
      "source": [
        "loan[\"Target\"]=loan[\"DefaultDate\"].fillna(0).apply( lambda x : 1 if x!=0 else 0 )"
      ]
    },
    {
      "cell_type": "code",
      "execution_count": 596,
      "metadata": {
        "id": "LFHBZhdHcOgM",
        "colab": {
          "base_uri": "https://localhost:8080/"
        },
        "outputId": "6b14c028-0df1-4983-e23d-9b86047e9d6c"
      },
      "outputs": [
        {
          "output_type": "execute_result",
          "data": {
            "text/plain": [
              "0    57014\n",
              "1      121\n",
              "Name: Target, dtype: int64"
            ]
          },
          "metadata": {},
          "execution_count": 596
        }
      ],
      "source": [
        "# check the counts of default and nondefault \n",
        "loan[\"Target\"].value_counts()"
      ]
    },
    {
      "cell_type": "markdown",
      "metadata": {
        "id": "qVUZYEVlcOgT"
      },
      "source": [
        "Now, we will remove Loan Status and default date as we have already created target variable with the help of these two features"
      ]
    },
    {
      "cell_type": "code",
      "execution_count": 597,
      "metadata": {
        "id": "QB0Tb-n-cOgN"
      },
      "outputs": [],
      "source": [
        "loan = loan.drop(columns=[\"Status\",\"DefaultDate\"])"
      ]
    },
    {
      "cell_type": "code",
      "source": [
        "loan.shape"
      ],
      "metadata": {
        "colab": {
          "base_uri": "https://localhost:8080/"
        },
        "id": "25Gu8SJUsqB6",
        "outputId": "4c2c6bd3-07a3-41e9-f25c-28be9a5d30ee"
      },
      "execution_count": 598,
      "outputs": [
        {
          "output_type": "execute_result",
          "data": {
            "text/plain": [
              "(57135, 47)"
            ]
          },
          "metadata": {},
          "execution_count": 598
        }
      ]
    },
    {
      "cell_type": "code",
      "execution_count": 600,
      "metadata": {
        "id": "imTJQhpTcOgS",
        "colab": {
          "base_uri": "https://localhost:8080/",
          "height": 357
        },
        "outputId": "f15fdb86-9405-46dd-cb36-b8ccb6ded5bd"
      },
      "outputs": [
        {
          "output_type": "execute_result",
          "data": {
            "text/plain": [
              "     BidsPortfolioManager  BidsApi  BidsManual  NewCreditCustomer    LoanDate  \\\n",
              "491                  1355        0       645.0               True  2015-01-06   \n",
              "523                  1000        0         0.0              False  2015-01-07   \n",
              "536                  2345        0       655.0              False  2015-01-07   \n",
              "541                  2045        0       955.0               True  2015-01-08   \n",
              "544                  1500        0         0.0               True  2015-01-08   \n",
              "\n",
              "    FirstPaymentDate MaturityDate_Original MaturityDate_Last  \\\n",
              "491       2015-02-16            2020-01-15        2021-01-15   \n",
              "523       2015-03-06            2020-02-06        2021-11-08   \n",
              "536       2015-02-16            2020-01-14        2024-02-23   \n",
              "541       2015-02-20            2020-01-20        2021-01-04   \n",
              "544       2015-02-25            2020-01-27        2020-01-27   \n",
              "\n",
              "     VerificationType  LanguageCode  Age  Gender Country  AppliedAmount  \\\n",
              "491               3.0             4   28     0.0      FI         2000.0   \n",
              "523               4.0             1   27     0.0      EE         1000.0   \n",
              "536               3.0             1   29     0.0      EE         3000.0   \n",
              "541               3.0             4   25     0.0      FI         3000.0   \n",
              "544               1.0             1   30     0.0      EE         1500.0   \n",
              "\n",
              "     Amount  Interest  LoanDuration  MonthlyPayment         County  \\\n",
              "491  2000.0     24.46            60           63.90   POHJOIS-SAVO   \n",
              "523  1000.0     17.74            60           28.17  LÄÄNE-VIRUMAA   \n",
              "536  3000.0     17.87            60           84.72       PÄRNUMAA   \n",
              "541  3000.0     27.98            60          102.12   POHJOIS-SAVO   \n",
              "544  1500.0     29.25            60           52.84          TARTU   \n",
              "\n",
              "            City  UseOfLoan  Education  MaritalStatus  EmploymentStatus  \\\n",
              "491       KUOPIO          7        5.0            2.0               3.0   \n",
              "523  SÕMERU VALD          7        4.0            3.0               3.0   \n",
              "536        PÄRNU          7        2.0            3.0               3.0   \n",
              "541       KUOPIO          0        3.0            3.0               3.0   \n",
              "544       KABINA          7        4.0            2.0               5.0   \n",
              "\n",
              "    EmploymentDurationCurrentEmployer  OccupationArea  HomeOwnershipType  \\\n",
              "491                        UpTo2Years             6.0                1.0   \n",
              "523                         UpTo1Year             1.0                6.0   \n",
              "536                        UpTo3Years             3.0                3.0   \n",
              "541                        UpTo5Years            10.0                4.0   \n",
              "544                    MoreThan5Years             5.0                3.0   \n",
              "\n",
              "     IncomeTotal  ExistingLiabilities  LiabilitiesTotal  RefinanceLiabilities  \\\n",
              "491       2097.0                    1            629.00                     0   \n",
              "523        560.0                    8           1327.37                     2   \n",
              "536        745.0                    4            427.03                     0   \n",
              "541       1530.0                    4            955.00                     0   \n",
              "544       1500.0                    2            465.00                     0   \n",
              "\n",
              "     DebtToIncome  FreeCash  MonthlyPaymentDay LastPaymentOn Rating  \\\n",
              "491          3.05   1404.10                 15    2020-01-17      D   \n",
              "523         47.56     43.67                  6    2020-01-08      B   \n",
              "536         27.48    290.28                 14    2020-01-23      B   \n",
              "541         36.41    472.88                 27    2020-01-20      D   \n",
              "544          4.52    982.16                 25    2019-12-27      D   \n",
              "\n",
              "     Restructured CreditScoreEsMicroL  PrincipalPaymentsMade  \\\n",
              "491          True                 NaN                1387.57   \n",
              "523          True                 NaN                 608.05   \n",
              "536          True                 NaN                1270.42   \n",
              "541          True                 NaN                1916.72   \n",
              "544         False                 NaN                1453.11   \n",
              "\n",
              "     InterestAndPenaltyPaymentsMade  PrincipalBalance  \\\n",
              "491                         1845.64            612.43   \n",
              "523                          638.67            391.95   \n",
              "536                         1890.24           1729.58   \n",
              "541                         3144.21           1083.28   \n",
              "544                         1396.06             46.89   \n",
              "\n",
              "     InterestAndPenaltyBalance  NoOfPreviousLoansBeforeLoan  \\\n",
              "491                        0.0                            0   \n",
              "523                        0.0                            1   \n",
              "536                        0.0                            1   \n",
              "541                        0.0                            0   \n",
              "544                        0.0                            0   \n",
              "\n",
              "     AmountOfPreviousLoansBeforeLoan  PreviousRepaymentsBeforeLoan  \\\n",
              "491                              0.0                          0.00   \n",
              "523                           1300.0                        187.87   \n",
              "536                           1000.0                        623.89   \n",
              "541                              0.0                          0.00   \n",
              "544                              0.0                          0.00   \n",
              "\n",
              "     PreviousEarlyRepaymentsCountBeforeLoan  Target  \n",
              "491                                       0       0  \n",
              "523                                       0       0  \n",
              "536                                       0       0  \n",
              "541                                       0       0  \n",
              "544                                       0       0  "
            ],
            "text/html": [
              "\n",
              "  <div id=\"df-154970e7-013e-4ecd-ab3e-bfd394efb2bd\">\n",
              "    <div class=\"colab-df-container\">\n",
              "      <div>\n",
              "<style scoped>\n",
              "    .dataframe tbody tr th:only-of-type {\n",
              "        vertical-align: middle;\n",
              "    }\n",
              "\n",
              "    .dataframe tbody tr th {\n",
              "        vertical-align: top;\n",
              "    }\n",
              "\n",
              "    .dataframe thead th {\n",
              "        text-align: right;\n",
              "    }\n",
              "</style>\n",
              "<table border=\"1\" class=\"dataframe\">\n",
              "  <thead>\n",
              "    <tr style=\"text-align: right;\">\n",
              "      <th></th>\n",
              "      <th>BidsPortfolioManager</th>\n",
              "      <th>BidsApi</th>\n",
              "      <th>BidsManual</th>\n",
              "      <th>NewCreditCustomer</th>\n",
              "      <th>LoanDate</th>\n",
              "      <th>FirstPaymentDate</th>\n",
              "      <th>MaturityDate_Original</th>\n",
              "      <th>MaturityDate_Last</th>\n",
              "      <th>VerificationType</th>\n",
              "      <th>LanguageCode</th>\n",
              "      <th>Age</th>\n",
              "      <th>Gender</th>\n",
              "      <th>Country</th>\n",
              "      <th>AppliedAmount</th>\n",
              "      <th>Amount</th>\n",
              "      <th>Interest</th>\n",
              "      <th>LoanDuration</th>\n",
              "      <th>MonthlyPayment</th>\n",
              "      <th>County</th>\n",
              "      <th>City</th>\n",
              "      <th>UseOfLoan</th>\n",
              "      <th>Education</th>\n",
              "      <th>MaritalStatus</th>\n",
              "      <th>EmploymentStatus</th>\n",
              "      <th>EmploymentDurationCurrentEmployer</th>\n",
              "      <th>OccupationArea</th>\n",
              "      <th>HomeOwnershipType</th>\n",
              "      <th>IncomeTotal</th>\n",
              "      <th>ExistingLiabilities</th>\n",
              "      <th>LiabilitiesTotal</th>\n",
              "      <th>RefinanceLiabilities</th>\n",
              "      <th>DebtToIncome</th>\n",
              "      <th>FreeCash</th>\n",
              "      <th>MonthlyPaymentDay</th>\n",
              "      <th>LastPaymentOn</th>\n",
              "      <th>Rating</th>\n",
              "      <th>Restructured</th>\n",
              "      <th>CreditScoreEsMicroL</th>\n",
              "      <th>PrincipalPaymentsMade</th>\n",
              "      <th>InterestAndPenaltyPaymentsMade</th>\n",
              "      <th>PrincipalBalance</th>\n",
              "      <th>InterestAndPenaltyBalance</th>\n",
              "      <th>NoOfPreviousLoansBeforeLoan</th>\n",
              "      <th>AmountOfPreviousLoansBeforeLoan</th>\n",
              "      <th>PreviousRepaymentsBeforeLoan</th>\n",
              "      <th>PreviousEarlyRepaymentsCountBeforeLoan</th>\n",
              "      <th>Target</th>\n",
              "    </tr>\n",
              "  </thead>\n",
              "  <tbody>\n",
              "    <tr>\n",
              "      <th>491</th>\n",
              "      <td>1355</td>\n",
              "      <td>0</td>\n",
              "      <td>645.0</td>\n",
              "      <td>True</td>\n",
              "      <td>2015-01-06</td>\n",
              "      <td>2015-02-16</td>\n",
              "      <td>2020-01-15</td>\n",
              "      <td>2021-01-15</td>\n",
              "      <td>3.0</td>\n",
              "      <td>4</td>\n",
              "      <td>28</td>\n",
              "      <td>0.0</td>\n",
              "      <td>FI</td>\n",
              "      <td>2000.0</td>\n",
              "      <td>2000.0</td>\n",
              "      <td>24.46</td>\n",
              "      <td>60</td>\n",
              "      <td>63.90</td>\n",
              "      <td>POHJOIS-SAVO</td>\n",
              "      <td>KUOPIO</td>\n",
              "      <td>7</td>\n",
              "      <td>5.0</td>\n",
              "      <td>2.0</td>\n",
              "      <td>3.0</td>\n",
              "      <td>UpTo2Years</td>\n",
              "      <td>6.0</td>\n",
              "      <td>1.0</td>\n",
              "      <td>2097.0</td>\n",
              "      <td>1</td>\n",
              "      <td>629.00</td>\n",
              "      <td>0</td>\n",
              "      <td>3.05</td>\n",
              "      <td>1404.10</td>\n",
              "      <td>15</td>\n",
              "      <td>2020-01-17</td>\n",
              "      <td>D</td>\n",
              "      <td>True</td>\n",
              "      <td>NaN</td>\n",
              "      <td>1387.57</td>\n",
              "      <td>1845.64</td>\n",
              "      <td>612.43</td>\n",
              "      <td>0.0</td>\n",
              "      <td>0</td>\n",
              "      <td>0.0</td>\n",
              "      <td>0.00</td>\n",
              "      <td>0</td>\n",
              "      <td>0</td>\n",
              "    </tr>\n",
              "    <tr>\n",
              "      <th>523</th>\n",
              "      <td>1000</td>\n",
              "      <td>0</td>\n",
              "      <td>0.0</td>\n",
              "      <td>False</td>\n",
              "      <td>2015-01-07</td>\n",
              "      <td>2015-03-06</td>\n",
              "      <td>2020-02-06</td>\n",
              "      <td>2021-11-08</td>\n",
              "      <td>4.0</td>\n",
              "      <td>1</td>\n",
              "      <td>27</td>\n",
              "      <td>0.0</td>\n",
              "      <td>EE</td>\n",
              "      <td>1000.0</td>\n",
              "      <td>1000.0</td>\n",
              "      <td>17.74</td>\n",
              "      <td>60</td>\n",
              "      <td>28.17</td>\n",
              "      <td>LÄÄNE-VIRUMAA</td>\n",
              "      <td>SÕMERU VALD</td>\n",
              "      <td>7</td>\n",
              "      <td>4.0</td>\n",
              "      <td>3.0</td>\n",
              "      <td>3.0</td>\n",
              "      <td>UpTo1Year</td>\n",
              "      <td>1.0</td>\n",
              "      <td>6.0</td>\n",
              "      <td>560.0</td>\n",
              "      <td>8</td>\n",
              "      <td>1327.37</td>\n",
              "      <td>2</td>\n",
              "      <td>47.56</td>\n",
              "      <td>43.67</td>\n",
              "      <td>6</td>\n",
              "      <td>2020-01-08</td>\n",
              "      <td>B</td>\n",
              "      <td>True</td>\n",
              "      <td>NaN</td>\n",
              "      <td>608.05</td>\n",
              "      <td>638.67</td>\n",
              "      <td>391.95</td>\n",
              "      <td>0.0</td>\n",
              "      <td>1</td>\n",
              "      <td>1300.0</td>\n",
              "      <td>187.87</td>\n",
              "      <td>0</td>\n",
              "      <td>0</td>\n",
              "    </tr>\n",
              "    <tr>\n",
              "      <th>536</th>\n",
              "      <td>2345</td>\n",
              "      <td>0</td>\n",
              "      <td>655.0</td>\n",
              "      <td>False</td>\n",
              "      <td>2015-01-07</td>\n",
              "      <td>2015-02-16</td>\n",
              "      <td>2020-01-14</td>\n",
              "      <td>2024-02-23</td>\n",
              "      <td>3.0</td>\n",
              "      <td>1</td>\n",
              "      <td>29</td>\n",
              "      <td>0.0</td>\n",
              "      <td>EE</td>\n",
              "      <td>3000.0</td>\n",
              "      <td>3000.0</td>\n",
              "      <td>17.87</td>\n",
              "      <td>60</td>\n",
              "      <td>84.72</td>\n",
              "      <td>PÄRNUMAA</td>\n",
              "      <td>PÄRNU</td>\n",
              "      <td>7</td>\n",
              "      <td>2.0</td>\n",
              "      <td>3.0</td>\n",
              "      <td>3.0</td>\n",
              "      <td>UpTo3Years</td>\n",
              "      <td>3.0</td>\n",
              "      <td>3.0</td>\n",
              "      <td>745.0</td>\n",
              "      <td>4</td>\n",
              "      <td>427.03</td>\n",
              "      <td>0</td>\n",
              "      <td>27.48</td>\n",
              "      <td>290.28</td>\n",
              "      <td>14</td>\n",
              "      <td>2020-01-23</td>\n",
              "      <td>B</td>\n",
              "      <td>True</td>\n",
              "      <td>NaN</td>\n",
              "      <td>1270.42</td>\n",
              "      <td>1890.24</td>\n",
              "      <td>1729.58</td>\n",
              "      <td>0.0</td>\n",
              "      <td>1</td>\n",
              "      <td>1000.0</td>\n",
              "      <td>623.89</td>\n",
              "      <td>0</td>\n",
              "      <td>0</td>\n",
              "    </tr>\n",
              "    <tr>\n",
              "      <th>541</th>\n",
              "      <td>2045</td>\n",
              "      <td>0</td>\n",
              "      <td>955.0</td>\n",
              "      <td>True</td>\n",
              "      <td>2015-01-08</td>\n",
              "      <td>2015-02-20</td>\n",
              "      <td>2020-01-20</td>\n",
              "      <td>2021-01-04</td>\n",
              "      <td>3.0</td>\n",
              "      <td>4</td>\n",
              "      <td>25</td>\n",
              "      <td>0.0</td>\n",
              "      <td>FI</td>\n",
              "      <td>3000.0</td>\n",
              "      <td>3000.0</td>\n",
              "      <td>27.98</td>\n",
              "      <td>60</td>\n",
              "      <td>102.12</td>\n",
              "      <td>POHJOIS-SAVO</td>\n",
              "      <td>KUOPIO</td>\n",
              "      <td>0</td>\n",
              "      <td>3.0</td>\n",
              "      <td>3.0</td>\n",
              "      <td>3.0</td>\n",
              "      <td>UpTo5Years</td>\n",
              "      <td>10.0</td>\n",
              "      <td>4.0</td>\n",
              "      <td>1530.0</td>\n",
              "      <td>4</td>\n",
              "      <td>955.00</td>\n",
              "      <td>0</td>\n",
              "      <td>36.41</td>\n",
              "      <td>472.88</td>\n",
              "      <td>27</td>\n",
              "      <td>2020-01-20</td>\n",
              "      <td>D</td>\n",
              "      <td>True</td>\n",
              "      <td>NaN</td>\n",
              "      <td>1916.72</td>\n",
              "      <td>3144.21</td>\n",
              "      <td>1083.28</td>\n",
              "      <td>0.0</td>\n",
              "      <td>0</td>\n",
              "      <td>0.0</td>\n",
              "      <td>0.00</td>\n",
              "      <td>0</td>\n",
              "      <td>0</td>\n",
              "    </tr>\n",
              "    <tr>\n",
              "      <th>544</th>\n",
              "      <td>1500</td>\n",
              "      <td>0</td>\n",
              "      <td>0.0</td>\n",
              "      <td>True</td>\n",
              "      <td>2015-01-08</td>\n",
              "      <td>2015-02-25</td>\n",
              "      <td>2020-01-27</td>\n",
              "      <td>2020-01-27</td>\n",
              "      <td>1.0</td>\n",
              "      <td>1</td>\n",
              "      <td>30</td>\n",
              "      <td>0.0</td>\n",
              "      <td>EE</td>\n",
              "      <td>1500.0</td>\n",
              "      <td>1500.0</td>\n",
              "      <td>29.25</td>\n",
              "      <td>60</td>\n",
              "      <td>52.84</td>\n",
              "      <td>TARTU</td>\n",
              "      <td>KABINA</td>\n",
              "      <td>7</td>\n",
              "      <td>4.0</td>\n",
              "      <td>2.0</td>\n",
              "      <td>5.0</td>\n",
              "      <td>MoreThan5Years</td>\n",
              "      <td>5.0</td>\n",
              "      <td>3.0</td>\n",
              "      <td>1500.0</td>\n",
              "      <td>2</td>\n",
              "      <td>465.00</td>\n",
              "      <td>0</td>\n",
              "      <td>4.52</td>\n",
              "      <td>982.16</td>\n",
              "      <td>25</td>\n",
              "      <td>2019-12-27</td>\n",
              "      <td>D</td>\n",
              "      <td>False</td>\n",
              "      <td>NaN</td>\n",
              "      <td>1453.11</td>\n",
              "      <td>1396.06</td>\n",
              "      <td>46.89</td>\n",
              "      <td>0.0</td>\n",
              "      <td>0</td>\n",
              "      <td>0.0</td>\n",
              "      <td>0.00</td>\n",
              "      <td>0</td>\n",
              "      <td>0</td>\n",
              "    </tr>\n",
              "  </tbody>\n",
              "</table>\n",
              "</div>\n",
              "      <button class=\"colab-df-convert\" onclick=\"convertToInteractive('df-154970e7-013e-4ecd-ab3e-bfd394efb2bd')\"\n",
              "              title=\"Convert this dataframe to an interactive table.\"\n",
              "              style=\"display:none;\">\n",
              "        \n",
              "  <svg xmlns=\"http://www.w3.org/2000/svg\" height=\"24px\"viewBox=\"0 0 24 24\"\n",
              "       width=\"24px\">\n",
              "    <path d=\"M0 0h24v24H0V0z\" fill=\"none\"/>\n",
              "    <path d=\"M18.56 5.44l.94 2.06.94-2.06 2.06-.94-2.06-.94-.94-2.06-.94 2.06-2.06.94zm-11 1L8.5 8.5l.94-2.06 2.06-.94-2.06-.94L8.5 2.5l-.94 2.06-2.06.94zm10 10l.94 2.06.94-2.06 2.06-.94-2.06-.94-.94-2.06-.94 2.06-2.06.94z\"/><path d=\"M17.41 7.96l-1.37-1.37c-.4-.4-.92-.59-1.43-.59-.52 0-1.04.2-1.43.59L10.3 9.45l-7.72 7.72c-.78.78-.78 2.05 0 2.83L4 21.41c.39.39.9.59 1.41.59.51 0 1.02-.2 1.41-.59l7.78-7.78 2.81-2.81c.8-.78.8-2.07 0-2.86zM5.41 20L4 18.59l7.72-7.72 1.47 1.35L5.41 20z\"/>\n",
              "  </svg>\n",
              "      </button>\n",
              "      \n",
              "  <style>\n",
              "    .colab-df-container {\n",
              "      display:flex;\n",
              "      flex-wrap:wrap;\n",
              "      gap: 12px;\n",
              "    }\n",
              "\n",
              "    .colab-df-convert {\n",
              "      background-color: #E8F0FE;\n",
              "      border: none;\n",
              "      border-radius: 50%;\n",
              "      cursor: pointer;\n",
              "      display: none;\n",
              "      fill: #1967D2;\n",
              "      height: 32px;\n",
              "      padding: 0 0 0 0;\n",
              "      width: 32px;\n",
              "    }\n",
              "\n",
              "    .colab-df-convert:hover {\n",
              "      background-color: #E2EBFA;\n",
              "      box-shadow: 0px 1px 2px rgba(60, 64, 67, 0.3), 0px 1px 3px 1px rgba(60, 64, 67, 0.15);\n",
              "      fill: #174EA6;\n",
              "    }\n",
              "\n",
              "    [theme=dark] .colab-df-convert {\n",
              "      background-color: #3B4455;\n",
              "      fill: #D2E3FC;\n",
              "    }\n",
              "\n",
              "    [theme=dark] .colab-df-convert:hover {\n",
              "      background-color: #434B5C;\n",
              "      box-shadow: 0px 1px 3px 1px rgba(0, 0, 0, 0.15);\n",
              "      filter: drop-shadow(0px 1px 2px rgba(0, 0, 0, 0.3));\n",
              "      fill: #FFFFFF;\n",
              "    }\n",
              "  </style>\n",
              "\n",
              "      <script>\n",
              "        const buttonEl =\n",
              "          document.querySelector('#df-154970e7-013e-4ecd-ab3e-bfd394efb2bd button.colab-df-convert');\n",
              "        buttonEl.style.display =\n",
              "          google.colab.kernel.accessAllowed ? 'block' : 'none';\n",
              "\n",
              "        async function convertToInteractive(key) {\n",
              "          const element = document.querySelector('#df-154970e7-013e-4ecd-ab3e-bfd394efb2bd');\n",
              "          const dataTable =\n",
              "            await google.colab.kernel.invokeFunction('convertToInteractive',\n",
              "                                                     [key], {});\n",
              "          if (!dataTable) return;\n",
              "\n",
              "          const docLinkHtml = 'Like what you see? Visit the ' +\n",
              "            '<a target=\"_blank\" href=https://colab.research.google.com/notebooks/data_table.ipynb>data table notebook</a>'\n",
              "            + ' to learn more about interactive tables.';\n",
              "          element.innerHTML = '';\n",
              "          dataTable['output_type'] = 'display_data';\n",
              "          await google.colab.output.renderOutput(dataTable, element);\n",
              "          const docLink = document.createElement('div');\n",
              "          docLink.innerHTML = docLinkHtml;\n",
              "          element.appendChild(docLink);\n",
              "        }\n",
              "      </script>\n",
              "    </div>\n",
              "  </div>\n",
              "  "
            ]
          },
          "metadata": {},
          "execution_count": 600
        }
      ],
      "source": [
        "loan.head()"
      ]
    },
    {
      "cell_type": "markdown",
      "metadata": {
        "id": "Zetfg1sIcOgV"
      },
      "source": [
        "## **Checking datatype of all features**\n",
        "In this step we will see any data type mismatch"
      ]
    },
    {
      "cell_type": "code",
      "execution_count": 601,
      "metadata": {
        "id": "jydMujjscOgW",
        "colab": {
          "base_uri": "https://localhost:8080/"
        },
        "outputId": "4ae7c4f7-4ee9-4ab4-a351-12a473e2bab5"
      },
      "outputs": [
        {
          "output_type": "execute_result",
          "data": {
            "text/plain": [
              "array([dtype('int64'), dtype('float64'), dtype('bool'), dtype('O')],\n",
              "      dtype=object)"
            ]
          },
          "metadata": {},
          "execution_count": 601
        }
      ],
      "source": [
        "loan.dtypes.unique()"
      ]
    },
    {
      "cell_type": "markdown",
      "metadata": {
        "id": "D0qdcmoAcOgW"
      },
      "source": [
        "**Checking distribution of categorical variables**"
      ]
    },
    {
      "cell_type": "code",
      "execution_count": 602,
      "metadata": {
        "id": "BVBK7c3IcOgX",
        "colab": {
          "base_uri": "https://localhost:8080/"
        },
        "outputId": "89bc92a9-ff48-4222-e351-63eda5b65fb0"
      },
      "outputs": [
        {
          "output_type": "stream",
          "name": "stdout",
          "text": [
            "13\n"
          ]
        },
        {
          "output_type": "execute_result",
          "data": {
            "text/plain": [
              "['NewCreditCustomer',\n",
              " 'LoanDate',\n",
              " 'FirstPaymentDate',\n",
              " 'MaturityDate_Original',\n",
              " 'MaturityDate_Last',\n",
              " 'Country',\n",
              " 'County',\n",
              " 'City',\n",
              " 'EmploymentDurationCurrentEmployer',\n",
              " 'LastPaymentOn',\n",
              " 'Rating',\n",
              " 'Restructured',\n",
              " 'CreditScoreEsMicroL']"
            ]
          },
          "metadata": {},
          "execution_count": 602
        }
      ],
      "source": [
        "Category_Cols = [ col for col in loan if loan[col].dtype in [\"object\",\"bool\"] ]\n",
        "print(len(Category_Cols))\n",
        "Category_Cols"
      ]
    },
    {
      "cell_type": "code",
      "source": [
        "Category_Data = loan[Category_Cols]\n",
        "Category_Data.head()"
      ],
      "metadata": {
        "colab": {
          "base_uri": "https://localhost:8080/",
          "height": 357
        },
        "id": "QhS4hDdfuDWB",
        "outputId": "34cbed2b-7168-405f-a84e-f3872f05f161"
      },
      "execution_count": 603,
      "outputs": [
        {
          "output_type": "execute_result",
          "data": {
            "text/plain": [
              "     NewCreditCustomer    LoanDate FirstPaymentDate MaturityDate_Original  \\\n",
              "491               True  2015-01-06       2015-02-16            2020-01-15   \n",
              "523              False  2015-01-07       2015-03-06            2020-02-06   \n",
              "536              False  2015-01-07       2015-02-16            2020-01-14   \n",
              "541               True  2015-01-08       2015-02-20            2020-01-20   \n",
              "544               True  2015-01-08       2015-02-25            2020-01-27   \n",
              "\n",
              "    MaturityDate_Last Country         County         City  \\\n",
              "491        2021-01-15      FI   POHJOIS-SAVO       KUOPIO   \n",
              "523        2021-11-08      EE  LÄÄNE-VIRUMAA  SÕMERU VALD   \n",
              "536        2024-02-23      EE       PÄRNUMAA        PÄRNU   \n",
              "541        2021-01-04      FI   POHJOIS-SAVO       KUOPIO   \n",
              "544        2020-01-27      EE          TARTU       KABINA   \n",
              "\n",
              "    EmploymentDurationCurrentEmployer LastPaymentOn Rating  Restructured  \\\n",
              "491                        UpTo2Years    2020-01-17      D          True   \n",
              "523                         UpTo1Year    2020-01-08      B          True   \n",
              "536                        UpTo3Years    2020-01-23      B          True   \n",
              "541                        UpTo5Years    2020-01-20      D          True   \n",
              "544                    MoreThan5Years    2019-12-27      D         False   \n",
              "\n",
              "    CreditScoreEsMicroL  \n",
              "491                 NaN  \n",
              "523                 NaN  \n",
              "536                 NaN  \n",
              "541                 NaN  \n",
              "544                 NaN  "
            ],
            "text/html": [
              "\n",
              "  <div id=\"df-17269d2d-5117-44c4-839d-2eead3727ec4\">\n",
              "    <div class=\"colab-df-container\">\n",
              "      <div>\n",
              "<style scoped>\n",
              "    .dataframe tbody tr th:only-of-type {\n",
              "        vertical-align: middle;\n",
              "    }\n",
              "\n",
              "    .dataframe tbody tr th {\n",
              "        vertical-align: top;\n",
              "    }\n",
              "\n",
              "    .dataframe thead th {\n",
              "        text-align: right;\n",
              "    }\n",
              "</style>\n",
              "<table border=\"1\" class=\"dataframe\">\n",
              "  <thead>\n",
              "    <tr style=\"text-align: right;\">\n",
              "      <th></th>\n",
              "      <th>NewCreditCustomer</th>\n",
              "      <th>LoanDate</th>\n",
              "      <th>FirstPaymentDate</th>\n",
              "      <th>MaturityDate_Original</th>\n",
              "      <th>MaturityDate_Last</th>\n",
              "      <th>Country</th>\n",
              "      <th>County</th>\n",
              "      <th>City</th>\n",
              "      <th>EmploymentDurationCurrentEmployer</th>\n",
              "      <th>LastPaymentOn</th>\n",
              "      <th>Rating</th>\n",
              "      <th>Restructured</th>\n",
              "      <th>CreditScoreEsMicroL</th>\n",
              "    </tr>\n",
              "  </thead>\n",
              "  <tbody>\n",
              "    <tr>\n",
              "      <th>491</th>\n",
              "      <td>True</td>\n",
              "      <td>2015-01-06</td>\n",
              "      <td>2015-02-16</td>\n",
              "      <td>2020-01-15</td>\n",
              "      <td>2021-01-15</td>\n",
              "      <td>FI</td>\n",
              "      <td>POHJOIS-SAVO</td>\n",
              "      <td>KUOPIO</td>\n",
              "      <td>UpTo2Years</td>\n",
              "      <td>2020-01-17</td>\n",
              "      <td>D</td>\n",
              "      <td>True</td>\n",
              "      <td>NaN</td>\n",
              "    </tr>\n",
              "    <tr>\n",
              "      <th>523</th>\n",
              "      <td>False</td>\n",
              "      <td>2015-01-07</td>\n",
              "      <td>2015-03-06</td>\n",
              "      <td>2020-02-06</td>\n",
              "      <td>2021-11-08</td>\n",
              "      <td>EE</td>\n",
              "      <td>LÄÄNE-VIRUMAA</td>\n",
              "      <td>SÕMERU VALD</td>\n",
              "      <td>UpTo1Year</td>\n",
              "      <td>2020-01-08</td>\n",
              "      <td>B</td>\n",
              "      <td>True</td>\n",
              "      <td>NaN</td>\n",
              "    </tr>\n",
              "    <tr>\n",
              "      <th>536</th>\n",
              "      <td>False</td>\n",
              "      <td>2015-01-07</td>\n",
              "      <td>2015-02-16</td>\n",
              "      <td>2020-01-14</td>\n",
              "      <td>2024-02-23</td>\n",
              "      <td>EE</td>\n",
              "      <td>PÄRNUMAA</td>\n",
              "      <td>PÄRNU</td>\n",
              "      <td>UpTo3Years</td>\n",
              "      <td>2020-01-23</td>\n",
              "      <td>B</td>\n",
              "      <td>True</td>\n",
              "      <td>NaN</td>\n",
              "    </tr>\n",
              "    <tr>\n",
              "      <th>541</th>\n",
              "      <td>True</td>\n",
              "      <td>2015-01-08</td>\n",
              "      <td>2015-02-20</td>\n",
              "      <td>2020-01-20</td>\n",
              "      <td>2021-01-04</td>\n",
              "      <td>FI</td>\n",
              "      <td>POHJOIS-SAVO</td>\n",
              "      <td>KUOPIO</td>\n",
              "      <td>UpTo5Years</td>\n",
              "      <td>2020-01-20</td>\n",
              "      <td>D</td>\n",
              "      <td>True</td>\n",
              "      <td>NaN</td>\n",
              "    </tr>\n",
              "    <tr>\n",
              "      <th>544</th>\n",
              "      <td>True</td>\n",
              "      <td>2015-01-08</td>\n",
              "      <td>2015-02-25</td>\n",
              "      <td>2020-01-27</td>\n",
              "      <td>2020-01-27</td>\n",
              "      <td>EE</td>\n",
              "      <td>TARTU</td>\n",
              "      <td>KABINA</td>\n",
              "      <td>MoreThan5Years</td>\n",
              "      <td>2019-12-27</td>\n",
              "      <td>D</td>\n",
              "      <td>False</td>\n",
              "      <td>NaN</td>\n",
              "    </tr>\n",
              "  </tbody>\n",
              "</table>\n",
              "</div>\n",
              "      <button class=\"colab-df-convert\" onclick=\"convertToInteractive('df-17269d2d-5117-44c4-839d-2eead3727ec4')\"\n",
              "              title=\"Convert this dataframe to an interactive table.\"\n",
              "              style=\"display:none;\">\n",
              "        \n",
              "  <svg xmlns=\"http://www.w3.org/2000/svg\" height=\"24px\"viewBox=\"0 0 24 24\"\n",
              "       width=\"24px\">\n",
              "    <path d=\"M0 0h24v24H0V0z\" fill=\"none\"/>\n",
              "    <path d=\"M18.56 5.44l.94 2.06.94-2.06 2.06-.94-2.06-.94-.94-2.06-.94 2.06-2.06.94zm-11 1L8.5 8.5l.94-2.06 2.06-.94-2.06-.94L8.5 2.5l-.94 2.06-2.06.94zm10 10l.94 2.06.94-2.06 2.06-.94-2.06-.94-.94-2.06-.94 2.06-2.06.94z\"/><path d=\"M17.41 7.96l-1.37-1.37c-.4-.4-.92-.59-1.43-.59-.52 0-1.04.2-1.43.59L10.3 9.45l-7.72 7.72c-.78.78-.78 2.05 0 2.83L4 21.41c.39.39.9.59 1.41.59.51 0 1.02-.2 1.41-.59l7.78-7.78 2.81-2.81c.8-.78.8-2.07 0-2.86zM5.41 20L4 18.59l7.72-7.72 1.47 1.35L5.41 20z\"/>\n",
              "  </svg>\n",
              "      </button>\n",
              "      \n",
              "  <style>\n",
              "    .colab-df-container {\n",
              "      display:flex;\n",
              "      flex-wrap:wrap;\n",
              "      gap: 12px;\n",
              "    }\n",
              "\n",
              "    .colab-df-convert {\n",
              "      background-color: #E8F0FE;\n",
              "      border: none;\n",
              "      border-radius: 50%;\n",
              "      cursor: pointer;\n",
              "      display: none;\n",
              "      fill: #1967D2;\n",
              "      height: 32px;\n",
              "      padding: 0 0 0 0;\n",
              "      width: 32px;\n",
              "    }\n",
              "\n",
              "    .colab-df-convert:hover {\n",
              "      background-color: #E2EBFA;\n",
              "      box-shadow: 0px 1px 2px rgba(60, 64, 67, 0.3), 0px 1px 3px 1px rgba(60, 64, 67, 0.15);\n",
              "      fill: #174EA6;\n",
              "    }\n",
              "\n",
              "    [theme=dark] .colab-df-convert {\n",
              "      background-color: #3B4455;\n",
              "      fill: #D2E3FC;\n",
              "    }\n",
              "\n",
              "    [theme=dark] .colab-df-convert:hover {\n",
              "      background-color: #434B5C;\n",
              "      box-shadow: 0px 1px 3px 1px rgba(0, 0, 0, 0.15);\n",
              "      filter: drop-shadow(0px 1px 2px rgba(0, 0, 0, 0.3));\n",
              "      fill: #FFFFFF;\n",
              "    }\n",
              "  </style>\n",
              "\n",
              "      <script>\n",
              "        const buttonEl =\n",
              "          document.querySelector('#df-17269d2d-5117-44c4-839d-2eead3727ec4 button.colab-df-convert');\n",
              "        buttonEl.style.display =\n",
              "          google.colab.kernel.accessAllowed ? 'block' : 'none';\n",
              "\n",
              "        async function convertToInteractive(key) {\n",
              "          const element = document.querySelector('#df-17269d2d-5117-44c4-839d-2eead3727ec4');\n",
              "          const dataTable =\n",
              "            await google.colab.kernel.invokeFunction('convertToInteractive',\n",
              "                                                     [key], {});\n",
              "          if (!dataTable) return;\n",
              "\n",
              "          const docLinkHtml = 'Like what you see? Visit the ' +\n",
              "            '<a target=\"_blank\" href=https://colab.research.google.com/notebooks/data_table.ipynb>data table notebook</a>'\n",
              "            + ' to learn more about interactive tables.';\n",
              "          element.innerHTML = '';\n",
              "          dataTable['output_type'] = 'display_data';\n",
              "          await google.colab.output.renderOutput(dataTable, element);\n",
              "          const docLink = document.createElement('div');\n",
              "          docLink.innerHTML = docLinkHtml;\n",
              "          element.appendChild(docLink);\n",
              "        }\n",
              "      </script>\n",
              "    </div>\n",
              "  </div>\n",
              "  "
            ]
          },
          "metadata": {},
          "execution_count": 603
        }
      ]
    },
    {
      "cell_type": "markdown",
      "metadata": {
        "id": "mBpXyzeZcOgY"
      },
      "source": [
        "**Checking distribution of all numeric columns**"
      ]
    },
    {
      "cell_type": "code",
      "execution_count": 604,
      "metadata": {
        "id": "ljfOPwe2cOgY",
        "colab": {
          "base_uri": "https://localhost:8080/"
        },
        "outputId": "9cbb630b-24fd-4674-a12f-9af6fa94e61f"
      },
      "outputs": [
        {
          "output_type": "stream",
          "name": "stdout",
          "text": [
            "34\n"
          ]
        },
        {
          "output_type": "execute_result",
          "data": {
            "text/plain": [
              "['BidsPortfolioManager',\n",
              " 'BidsApi',\n",
              " 'BidsManual',\n",
              " 'VerificationType',\n",
              " 'LanguageCode',\n",
              " 'Age',\n",
              " 'Gender',\n",
              " 'AppliedAmount',\n",
              " 'Amount',\n",
              " 'Interest',\n",
              " 'LoanDuration',\n",
              " 'MonthlyPayment',\n",
              " 'UseOfLoan',\n",
              " 'Education',\n",
              " 'MaritalStatus',\n",
              " 'EmploymentStatus',\n",
              " 'OccupationArea',\n",
              " 'HomeOwnershipType',\n",
              " 'IncomeTotal',\n",
              " 'ExistingLiabilities',\n",
              " 'LiabilitiesTotal',\n",
              " 'RefinanceLiabilities',\n",
              " 'DebtToIncome',\n",
              " 'FreeCash',\n",
              " 'MonthlyPaymentDay',\n",
              " 'PrincipalPaymentsMade',\n",
              " 'InterestAndPenaltyPaymentsMade',\n",
              " 'PrincipalBalance',\n",
              " 'InterestAndPenaltyBalance',\n",
              " 'NoOfPreviousLoansBeforeLoan',\n",
              " 'AmountOfPreviousLoansBeforeLoan',\n",
              " 'PreviousRepaymentsBeforeLoan',\n",
              " 'PreviousEarlyRepaymentsCountBeforeLoan',\n",
              " 'Target']"
            ]
          },
          "metadata": {},
          "execution_count": 604
        }
      ],
      "source": [
        "Numeric_Cols = [ col for col in loan if loan[col].dtype in [\"int64\",\"float64\"]]\n",
        "print(len(Numeric_Cols))\n",
        "Numeric_Cols"
      ]
    },
    {
      "cell_type": "code",
      "source": [
        "Numeric_Data = loan[Numeric_Cols]\n",
        "Numeric_Data.head()"
      ],
      "metadata": {
        "colab": {
          "base_uri": "https://localhost:8080/",
          "height": 270
        },
        "id": "WZjrm0OXum5L",
        "outputId": "17fead08-9a55-4d81-cb82-b6789d367c7a"
      },
      "execution_count": 605,
      "outputs": [
        {
          "output_type": "execute_result",
          "data": {
            "text/plain": [
              "     BidsPortfolioManager  BidsApi  BidsManual  VerificationType  \\\n",
              "491                  1355        0       645.0               3.0   \n",
              "523                  1000        0         0.0               4.0   \n",
              "536                  2345        0       655.0               3.0   \n",
              "541                  2045        0       955.0               3.0   \n",
              "544                  1500        0         0.0               1.0   \n",
              "\n",
              "     LanguageCode  Age  Gender  AppliedAmount  Amount  Interest  LoanDuration  \\\n",
              "491             4   28     0.0         2000.0  2000.0     24.46            60   \n",
              "523             1   27     0.0         1000.0  1000.0     17.74            60   \n",
              "536             1   29     0.0         3000.0  3000.0     17.87            60   \n",
              "541             4   25     0.0         3000.0  3000.0     27.98            60   \n",
              "544             1   30     0.0         1500.0  1500.0     29.25            60   \n",
              "\n",
              "     MonthlyPayment  UseOfLoan  Education  MaritalStatus  EmploymentStatus  \\\n",
              "491           63.90          7        5.0            2.0               3.0   \n",
              "523           28.17          7        4.0            3.0               3.0   \n",
              "536           84.72          7        2.0            3.0               3.0   \n",
              "541          102.12          0        3.0            3.0               3.0   \n",
              "544           52.84          7        4.0            2.0               5.0   \n",
              "\n",
              "     OccupationArea  HomeOwnershipType  IncomeTotal  ExistingLiabilities  \\\n",
              "491             6.0                1.0       2097.0                    1   \n",
              "523             1.0                6.0        560.0                    8   \n",
              "536             3.0                3.0        745.0                    4   \n",
              "541            10.0                4.0       1530.0                    4   \n",
              "544             5.0                3.0       1500.0                    2   \n",
              "\n",
              "     LiabilitiesTotal  RefinanceLiabilities  DebtToIncome  FreeCash  \\\n",
              "491            629.00                     0          3.05   1404.10   \n",
              "523           1327.37                     2         47.56     43.67   \n",
              "536            427.03                     0         27.48    290.28   \n",
              "541            955.00                     0         36.41    472.88   \n",
              "544            465.00                     0          4.52    982.16   \n",
              "\n",
              "     MonthlyPaymentDay  PrincipalPaymentsMade  InterestAndPenaltyPaymentsMade  \\\n",
              "491                 15                1387.57                         1845.64   \n",
              "523                  6                 608.05                          638.67   \n",
              "536                 14                1270.42                         1890.24   \n",
              "541                 27                1916.72                         3144.21   \n",
              "544                 25                1453.11                         1396.06   \n",
              "\n",
              "     PrincipalBalance  InterestAndPenaltyBalance  NoOfPreviousLoansBeforeLoan  \\\n",
              "491            612.43                        0.0                            0   \n",
              "523            391.95                        0.0                            1   \n",
              "536           1729.58                        0.0                            1   \n",
              "541           1083.28                        0.0                            0   \n",
              "544             46.89                        0.0                            0   \n",
              "\n",
              "     AmountOfPreviousLoansBeforeLoan  PreviousRepaymentsBeforeLoan  \\\n",
              "491                              0.0                          0.00   \n",
              "523                           1300.0                        187.87   \n",
              "536                           1000.0                        623.89   \n",
              "541                              0.0                          0.00   \n",
              "544                              0.0                          0.00   \n",
              "\n",
              "     PreviousEarlyRepaymentsCountBeforeLoan  Target  \n",
              "491                                       0       0  \n",
              "523                                       0       0  \n",
              "536                                       0       0  \n",
              "541                                       0       0  \n",
              "544                                       0       0  "
            ],
            "text/html": [
              "\n",
              "  <div id=\"df-48b0d657-94c4-49e6-b26b-9ec13445c26d\">\n",
              "    <div class=\"colab-df-container\">\n",
              "      <div>\n",
              "<style scoped>\n",
              "    .dataframe tbody tr th:only-of-type {\n",
              "        vertical-align: middle;\n",
              "    }\n",
              "\n",
              "    .dataframe tbody tr th {\n",
              "        vertical-align: top;\n",
              "    }\n",
              "\n",
              "    .dataframe thead th {\n",
              "        text-align: right;\n",
              "    }\n",
              "</style>\n",
              "<table border=\"1\" class=\"dataframe\">\n",
              "  <thead>\n",
              "    <tr style=\"text-align: right;\">\n",
              "      <th></th>\n",
              "      <th>BidsPortfolioManager</th>\n",
              "      <th>BidsApi</th>\n",
              "      <th>BidsManual</th>\n",
              "      <th>VerificationType</th>\n",
              "      <th>LanguageCode</th>\n",
              "      <th>Age</th>\n",
              "      <th>Gender</th>\n",
              "      <th>AppliedAmount</th>\n",
              "      <th>Amount</th>\n",
              "      <th>Interest</th>\n",
              "      <th>LoanDuration</th>\n",
              "      <th>MonthlyPayment</th>\n",
              "      <th>UseOfLoan</th>\n",
              "      <th>Education</th>\n",
              "      <th>MaritalStatus</th>\n",
              "      <th>EmploymentStatus</th>\n",
              "      <th>OccupationArea</th>\n",
              "      <th>HomeOwnershipType</th>\n",
              "      <th>IncomeTotal</th>\n",
              "      <th>ExistingLiabilities</th>\n",
              "      <th>LiabilitiesTotal</th>\n",
              "      <th>RefinanceLiabilities</th>\n",
              "      <th>DebtToIncome</th>\n",
              "      <th>FreeCash</th>\n",
              "      <th>MonthlyPaymentDay</th>\n",
              "      <th>PrincipalPaymentsMade</th>\n",
              "      <th>InterestAndPenaltyPaymentsMade</th>\n",
              "      <th>PrincipalBalance</th>\n",
              "      <th>InterestAndPenaltyBalance</th>\n",
              "      <th>NoOfPreviousLoansBeforeLoan</th>\n",
              "      <th>AmountOfPreviousLoansBeforeLoan</th>\n",
              "      <th>PreviousRepaymentsBeforeLoan</th>\n",
              "      <th>PreviousEarlyRepaymentsCountBeforeLoan</th>\n",
              "      <th>Target</th>\n",
              "    </tr>\n",
              "  </thead>\n",
              "  <tbody>\n",
              "    <tr>\n",
              "      <th>491</th>\n",
              "      <td>1355</td>\n",
              "      <td>0</td>\n",
              "      <td>645.0</td>\n",
              "      <td>3.0</td>\n",
              "      <td>4</td>\n",
              "      <td>28</td>\n",
              "      <td>0.0</td>\n",
              "      <td>2000.0</td>\n",
              "      <td>2000.0</td>\n",
              "      <td>24.46</td>\n",
              "      <td>60</td>\n",
              "      <td>63.90</td>\n",
              "      <td>7</td>\n",
              "      <td>5.0</td>\n",
              "      <td>2.0</td>\n",
              "      <td>3.0</td>\n",
              "      <td>6.0</td>\n",
              "      <td>1.0</td>\n",
              "      <td>2097.0</td>\n",
              "      <td>1</td>\n",
              "      <td>629.00</td>\n",
              "      <td>0</td>\n",
              "      <td>3.05</td>\n",
              "      <td>1404.10</td>\n",
              "      <td>15</td>\n",
              "      <td>1387.57</td>\n",
              "      <td>1845.64</td>\n",
              "      <td>612.43</td>\n",
              "      <td>0.0</td>\n",
              "      <td>0</td>\n",
              "      <td>0.0</td>\n",
              "      <td>0.00</td>\n",
              "      <td>0</td>\n",
              "      <td>0</td>\n",
              "    </tr>\n",
              "    <tr>\n",
              "      <th>523</th>\n",
              "      <td>1000</td>\n",
              "      <td>0</td>\n",
              "      <td>0.0</td>\n",
              "      <td>4.0</td>\n",
              "      <td>1</td>\n",
              "      <td>27</td>\n",
              "      <td>0.0</td>\n",
              "      <td>1000.0</td>\n",
              "      <td>1000.0</td>\n",
              "      <td>17.74</td>\n",
              "      <td>60</td>\n",
              "      <td>28.17</td>\n",
              "      <td>7</td>\n",
              "      <td>4.0</td>\n",
              "      <td>3.0</td>\n",
              "      <td>3.0</td>\n",
              "      <td>1.0</td>\n",
              "      <td>6.0</td>\n",
              "      <td>560.0</td>\n",
              "      <td>8</td>\n",
              "      <td>1327.37</td>\n",
              "      <td>2</td>\n",
              "      <td>47.56</td>\n",
              "      <td>43.67</td>\n",
              "      <td>6</td>\n",
              "      <td>608.05</td>\n",
              "      <td>638.67</td>\n",
              "      <td>391.95</td>\n",
              "      <td>0.0</td>\n",
              "      <td>1</td>\n",
              "      <td>1300.0</td>\n",
              "      <td>187.87</td>\n",
              "      <td>0</td>\n",
              "      <td>0</td>\n",
              "    </tr>\n",
              "    <tr>\n",
              "      <th>536</th>\n",
              "      <td>2345</td>\n",
              "      <td>0</td>\n",
              "      <td>655.0</td>\n",
              "      <td>3.0</td>\n",
              "      <td>1</td>\n",
              "      <td>29</td>\n",
              "      <td>0.0</td>\n",
              "      <td>3000.0</td>\n",
              "      <td>3000.0</td>\n",
              "      <td>17.87</td>\n",
              "      <td>60</td>\n",
              "      <td>84.72</td>\n",
              "      <td>7</td>\n",
              "      <td>2.0</td>\n",
              "      <td>3.0</td>\n",
              "      <td>3.0</td>\n",
              "      <td>3.0</td>\n",
              "      <td>3.0</td>\n",
              "      <td>745.0</td>\n",
              "      <td>4</td>\n",
              "      <td>427.03</td>\n",
              "      <td>0</td>\n",
              "      <td>27.48</td>\n",
              "      <td>290.28</td>\n",
              "      <td>14</td>\n",
              "      <td>1270.42</td>\n",
              "      <td>1890.24</td>\n",
              "      <td>1729.58</td>\n",
              "      <td>0.0</td>\n",
              "      <td>1</td>\n",
              "      <td>1000.0</td>\n",
              "      <td>623.89</td>\n",
              "      <td>0</td>\n",
              "      <td>0</td>\n",
              "    </tr>\n",
              "    <tr>\n",
              "      <th>541</th>\n",
              "      <td>2045</td>\n",
              "      <td>0</td>\n",
              "      <td>955.0</td>\n",
              "      <td>3.0</td>\n",
              "      <td>4</td>\n",
              "      <td>25</td>\n",
              "      <td>0.0</td>\n",
              "      <td>3000.0</td>\n",
              "      <td>3000.0</td>\n",
              "      <td>27.98</td>\n",
              "      <td>60</td>\n",
              "      <td>102.12</td>\n",
              "      <td>0</td>\n",
              "      <td>3.0</td>\n",
              "      <td>3.0</td>\n",
              "      <td>3.0</td>\n",
              "      <td>10.0</td>\n",
              "      <td>4.0</td>\n",
              "      <td>1530.0</td>\n",
              "      <td>4</td>\n",
              "      <td>955.00</td>\n",
              "      <td>0</td>\n",
              "      <td>36.41</td>\n",
              "      <td>472.88</td>\n",
              "      <td>27</td>\n",
              "      <td>1916.72</td>\n",
              "      <td>3144.21</td>\n",
              "      <td>1083.28</td>\n",
              "      <td>0.0</td>\n",
              "      <td>0</td>\n",
              "      <td>0.0</td>\n",
              "      <td>0.00</td>\n",
              "      <td>0</td>\n",
              "      <td>0</td>\n",
              "    </tr>\n",
              "    <tr>\n",
              "      <th>544</th>\n",
              "      <td>1500</td>\n",
              "      <td>0</td>\n",
              "      <td>0.0</td>\n",
              "      <td>1.0</td>\n",
              "      <td>1</td>\n",
              "      <td>30</td>\n",
              "      <td>0.0</td>\n",
              "      <td>1500.0</td>\n",
              "      <td>1500.0</td>\n",
              "      <td>29.25</td>\n",
              "      <td>60</td>\n",
              "      <td>52.84</td>\n",
              "      <td>7</td>\n",
              "      <td>4.0</td>\n",
              "      <td>2.0</td>\n",
              "      <td>5.0</td>\n",
              "      <td>5.0</td>\n",
              "      <td>3.0</td>\n",
              "      <td>1500.0</td>\n",
              "      <td>2</td>\n",
              "      <td>465.00</td>\n",
              "      <td>0</td>\n",
              "      <td>4.52</td>\n",
              "      <td>982.16</td>\n",
              "      <td>25</td>\n",
              "      <td>1453.11</td>\n",
              "      <td>1396.06</td>\n",
              "      <td>46.89</td>\n",
              "      <td>0.0</td>\n",
              "      <td>0</td>\n",
              "      <td>0.0</td>\n",
              "      <td>0.00</td>\n",
              "      <td>0</td>\n",
              "      <td>0</td>\n",
              "    </tr>\n",
              "  </tbody>\n",
              "</table>\n",
              "</div>\n",
              "      <button class=\"colab-df-convert\" onclick=\"convertToInteractive('df-48b0d657-94c4-49e6-b26b-9ec13445c26d')\"\n",
              "              title=\"Convert this dataframe to an interactive table.\"\n",
              "              style=\"display:none;\">\n",
              "        \n",
              "  <svg xmlns=\"http://www.w3.org/2000/svg\" height=\"24px\"viewBox=\"0 0 24 24\"\n",
              "       width=\"24px\">\n",
              "    <path d=\"M0 0h24v24H0V0z\" fill=\"none\"/>\n",
              "    <path d=\"M18.56 5.44l.94 2.06.94-2.06 2.06-.94-2.06-.94-.94-2.06-.94 2.06-2.06.94zm-11 1L8.5 8.5l.94-2.06 2.06-.94-2.06-.94L8.5 2.5l-.94 2.06-2.06.94zm10 10l.94 2.06.94-2.06 2.06-.94-2.06-.94-.94-2.06-.94 2.06-2.06.94z\"/><path d=\"M17.41 7.96l-1.37-1.37c-.4-.4-.92-.59-1.43-.59-.52 0-1.04.2-1.43.59L10.3 9.45l-7.72 7.72c-.78.78-.78 2.05 0 2.83L4 21.41c.39.39.9.59 1.41.59.51 0 1.02-.2 1.41-.59l7.78-7.78 2.81-2.81c.8-.78.8-2.07 0-2.86zM5.41 20L4 18.59l7.72-7.72 1.47 1.35L5.41 20z\"/>\n",
              "  </svg>\n",
              "      </button>\n",
              "      \n",
              "  <style>\n",
              "    .colab-df-container {\n",
              "      display:flex;\n",
              "      flex-wrap:wrap;\n",
              "      gap: 12px;\n",
              "    }\n",
              "\n",
              "    .colab-df-convert {\n",
              "      background-color: #E8F0FE;\n",
              "      border: none;\n",
              "      border-radius: 50%;\n",
              "      cursor: pointer;\n",
              "      display: none;\n",
              "      fill: #1967D2;\n",
              "      height: 32px;\n",
              "      padding: 0 0 0 0;\n",
              "      width: 32px;\n",
              "    }\n",
              "\n",
              "    .colab-df-convert:hover {\n",
              "      background-color: #E2EBFA;\n",
              "      box-shadow: 0px 1px 2px rgba(60, 64, 67, 0.3), 0px 1px 3px 1px rgba(60, 64, 67, 0.15);\n",
              "      fill: #174EA6;\n",
              "    }\n",
              "\n",
              "    [theme=dark] .colab-df-convert {\n",
              "      background-color: #3B4455;\n",
              "      fill: #D2E3FC;\n",
              "    }\n",
              "\n",
              "    [theme=dark] .colab-df-convert:hover {\n",
              "      background-color: #434B5C;\n",
              "      box-shadow: 0px 1px 3px 1px rgba(0, 0, 0, 0.15);\n",
              "      filter: drop-shadow(0px 1px 2px rgba(0, 0, 0, 0.3));\n",
              "      fill: #FFFFFF;\n",
              "    }\n",
              "  </style>\n",
              "\n",
              "      <script>\n",
              "        const buttonEl =\n",
              "          document.querySelector('#df-48b0d657-94c4-49e6-b26b-9ec13445c26d button.colab-df-convert');\n",
              "        buttonEl.style.display =\n",
              "          google.colab.kernel.accessAllowed ? 'block' : 'none';\n",
              "\n",
              "        async function convertToInteractive(key) {\n",
              "          const element = document.querySelector('#df-48b0d657-94c4-49e6-b26b-9ec13445c26d');\n",
              "          const dataTable =\n",
              "            await google.colab.kernel.invokeFunction('convertToInteractive',\n",
              "                                                     [key], {});\n",
              "          if (!dataTable) return;\n",
              "\n",
              "          const docLinkHtml = 'Like what you see? Visit the ' +\n",
              "            '<a target=\"_blank\" href=https://colab.research.google.com/notebooks/data_table.ipynb>data table notebook</a>'\n",
              "            + ' to learn more about interactive tables.';\n",
              "          element.innerHTML = '';\n",
              "          dataTable['output_type'] = 'display_data';\n",
              "          await google.colab.output.renderOutput(dataTable, element);\n",
              "          const docLink = document.createElement('div');\n",
              "          docLink.innerHTML = docLinkHtml;\n",
              "          element.appendChild(docLink);\n",
              "        }\n",
              "      </script>\n",
              "    </div>\n",
              "  </div>\n",
              "  "
            ]
          },
          "metadata": {},
          "execution_count": 605
        }
      ]
    },
    {
      "cell_type": "markdown",
      "metadata": {
        "id": "5kio25h2cOgZ"
      },
      "source": [
        "- First we will delete all the features related to date as it is not a time series analysis so these features will not help in predicting target variable.\n",
        "- As we can see in numeric column distribution there are many columns which are present as numeric but they are actually categorical as per data description such as Verification Type, Language Code, Gender, Use of Loan, Education, Marital Status,EmployementStatus, OccupationArea etc.\n",
        "- So we will convert these features to categorical features"
      ]
    },
    {
      "cell_type": "markdown",
      "source": [
        "**Delete all the features related to date**"
      ],
      "metadata": {
        "id": "vR6e-ErzvbAp"
      }
    },
    {
      "cell_type": "code",
      "source": [
        "loan = loan.drop(columns=[\"LoanDate\",\"FirstPaymentDate\",\"MaturityDate_Original\",\"MaturityDate_Last\",\"LastPaymentOn\"])\n",
        "loan.shape"
      ],
      "metadata": {
        "id": "b-NCy16DvajQ",
        "colab": {
          "base_uri": "https://localhost:8080/"
        },
        "outputId": "0245e2d5-466c-4342-8ebb-8967dc0a4e8e"
      },
      "execution_count": 606,
      "outputs": [
        {
          "output_type": "execute_result",
          "data": {
            "text/plain": [
              "(57135, 42)"
            ]
          },
          "metadata": {},
          "execution_count": 606
        }
      ]
    },
    {
      "cell_type": "markdown",
      "metadata": {
        "id": "413QTrf9cOga"
      },
      "source": [
        "**Now we will check the distribution of different datatypes**"
      ]
    },
    {
      "cell_type": "markdown",
      "source": [
        "**Numeric Types**"
      ],
      "metadata": {
        "id": "Sdnz1QQ3qW6M"
      }
    },
    {
      "cell_type": "markdown",
      "source": [
        "> VerificationType\n",
        "\n"
      ],
      "metadata": {
        "id": "tz708s8JBiFG"
      }
    },
    {
      "cell_type": "code",
      "execution_count": 607,
      "metadata": {
        "id": "bAA78wkrcOga",
        "colab": {
          "base_uri": "https://localhost:8080/"
        },
        "outputId": "027dc052-f784-494b-ac55-b39984767083"
      },
      "outputs": [
        {
          "output_type": "stream",
          "name": "stdout",
          "text": [
            "float64\n"
          ]
        },
        {
          "output_type": "execute_result",
          "data": {
            "text/plain": [
              "4.0    33144\n",
              "1.0    23022\n",
              "3.0      968\n",
              "2.0        1\n",
              "Name: VerificationType, dtype: int64"
            ]
          },
          "metadata": {},
          "execution_count": 607
        }
      ],
      "source": [
        "# 0 Not set 1 Income unverified 2 Income unverified, cross-referenced by phone 3 Income verified 4 Income and expenses verified\n",
        "\n",
        "VerificationType_Classes={ 1:\"Income Unverified\" , 2: \"Unverified/Cross Referenced Phone\" , 3:\"Income Verified\" , 4:\"Income Expenses Verified\" }\n",
        "\n",
        "print(loan[\"VerificationType\"].dtypes)\n",
        "loan[\"VerificationType\"].value_counts()"
      ]
    },
    {
      "cell_type": "code",
      "execution_count": 608,
      "metadata": {
        "id": "bTkFv03XcOgb",
        "colab": {
          "base_uri": "https://localhost:8080/"
        },
        "outputId": "8570e005-b2d1-4c05-98c3-566bf071e0f6"
      },
      "outputs": [
        {
          "output_type": "stream",
          "name": "stdout",
          "text": [
            "category\n"
          ]
        },
        {
          "output_type": "execute_result",
          "data": {
            "text/plain": [
              "Income Expenses Verified             33144\n",
              "Income Unverified                    23022\n",
              "Income Verified                        968\n",
              "Unverified/Cross Referenced Phone        1\n",
              "Name: VerificationType, dtype: int64"
            ]
          },
          "metadata": {},
          "execution_count": 608
        }
      ],
      "source": [
        "loan[\"VerificationType\"]= loan[\"VerificationType\"].map(VerificationType_Classes.get).astype(\"category\")\n",
        "\n",
        "print(loan[\"VerificationType\"].dtypes)\n",
        "loan[\"VerificationType\"].value_counts()"
      ]
    },
    {
      "cell_type": "markdown",
      "source": [
        "> Gender"
      ],
      "metadata": {
        "id": "hh-9vJmuBrZs"
      }
    },
    {
      "cell_type": "code",
      "execution_count": 609,
      "metadata": {
        "id": "IK8V06tWcOgb",
        "colab": {
          "base_uri": "https://localhost:8080/"
        },
        "outputId": "6fce35d2-608c-493c-e44e-4ca9b59c8f3a"
      },
      "outputs": [
        {
          "output_type": "stream",
          "name": "stdout",
          "text": [
            "float64\n"
          ]
        },
        {
          "output_type": "execute_result",
          "data": {
            "text/plain": [
              "0.0    34953\n",
              "1.0    17286\n",
              "2.0     4896\n",
              "Name: Gender, dtype: int64"
            ]
          },
          "metadata": {},
          "execution_count": 609
        }
      ],
      "source": [
        "# 0 Male 1 Woman 2 Undefined\n",
        "\n",
        "Gender_Classes={ 0:\"Male\" , 1: \"Woman\" , 2:\"Undefined\"}\n",
        "\n",
        "print(loan[\"Gender\"].dtypes)\n",
        "loan[\"Gender\"].value_counts()"
      ]
    },
    {
      "cell_type": "code",
      "execution_count": 610,
      "metadata": {
        "id": "ad5Opdl6cOgc",
        "colab": {
          "base_uri": "https://localhost:8080/"
        },
        "outputId": "4907509d-96ff-495d-83b7-3dadb32d8ed5"
      },
      "outputs": [
        {
          "output_type": "stream",
          "name": "stdout",
          "text": [
            "category\n"
          ]
        },
        {
          "output_type": "execute_result",
          "data": {
            "text/plain": [
              "Male         34953\n",
              "Woman        17286\n",
              "Undefined     4896\n",
              "Name: Gender, dtype: int64"
            ]
          },
          "metadata": {},
          "execution_count": 610
        }
      ],
      "source": [
        "loan[\"Gender\"]= loan[\"Gender\"].map(Gender_Classes.get).astype(\"category\")\n",
        "\n",
        "print(loan[\"Gender\"].dtypes)\n",
        "loan[\"Gender\"].value_counts()"
      ]
    },
    {
      "cell_type": "markdown",
      "source": [
        "> LanguageCode"
      ],
      "metadata": {
        "id": "P9DKWRsaBwGT"
      }
    },
    {
      "cell_type": "code",
      "execution_count": 611,
      "metadata": {
        "id": "nF1t-E0ycOgd",
        "colab": {
          "base_uri": "https://localhost:8080/"
        },
        "outputId": "aa5f7ee5-95a0-4db5-9962-281e440bfe30"
      },
      "outputs": [
        {
          "output_type": "stream",
          "name": "stdout",
          "text": [
            "int64\n"
          ]
        },
        {
          "output_type": "execute_result",
          "data": {
            "text/plain": [
              "1    31060\n",
              "4    11853\n",
              "6     7696\n",
              "3     6160\n",
              "2      364\n",
              "9        2\n",
              "Name: LanguageCode, dtype: int64"
            ]
          },
          "metadata": {},
          "execution_count": 611
        }
      ],
      "source": [
        "# 1 Estonian 2 English 3 Russian 4 Finnish 5 German 6 Spanish 9 Slovakian\n",
        "\n",
        "LanguageCode_Classes={ 1:\"Estonian\", 2: \"English\", 3:\"Russian\", 4:\"Finnish\", 5:\"German\", 6:\"Spanish\", 9:\"Slovakian\"}\n",
        "\n",
        "print(loan[\"LanguageCode\"].dtypes)\n",
        "loan[\"LanguageCode\"].value_counts()"
      ]
    },
    {
      "cell_type": "markdown",
      "metadata": {
        "id": "cphoYg2xcOge"
      },
      "source": [
        "As we can see from above in language code w ehave only descriptions for values 1,2,3,4,5,6, and 9 but it has other values too like 21,22,15,13,10 and 7 but they are very less it may happen they are local language codes whose decription is not present so we will be treated all these values as others"
      ]
    },
    {
      "cell_type": "code",
      "execution_count": 612,
      "metadata": {
        "id": "ADkX_OuZcOgf",
        "colab": {
          "base_uri": "https://localhost:8080/"
        },
        "outputId": "8df55d91-a107-43a5-c101-9ae81703175a"
      },
      "outputs": [
        {
          "output_type": "stream",
          "name": "stdout",
          "text": [
            "category\n"
          ]
        },
        {
          "output_type": "execute_result",
          "data": {
            "text/plain": [
              "Estonian     31060\n",
              "Finnish      11853\n",
              "Spanish       7696\n",
              "Russian       6160\n",
              "English        364\n",
              "Slovakian        2\n",
              "Name: LanguageCode, dtype: int64"
            ]
          },
          "metadata": {},
          "execution_count": 612
        }
      ],
      "source": [
        "loan[\"LanguageCode\"]= loan[\"LanguageCode\"].map(LanguageCode_Classes.get).astype(\"category\")\n",
        "\n",
        "print(loan[\"LanguageCode\"].dtypes)\n",
        "loan[\"LanguageCode\"].value_counts()"
      ]
    },
    {
      "cell_type": "markdown",
      "source": [
        "> UseOfLoan"
      ],
      "metadata": {
        "id": "YK0X3UnrB1Vk"
      }
    },
    {
      "cell_type": "code",
      "execution_count": 613,
      "metadata": {
        "id": "nZ6L-7zEcOgf",
        "colab": {
          "base_uri": "https://localhost:8080/"
        },
        "outputId": "db6e1829-f782-4cc1-81be-d0dd39a126e2"
      },
      "outputs": [
        {
          "output_type": "stream",
          "name": "stdout",
          "text": [
            "int64\n"
          ]
        },
        {
          "output_type": "execute_result",
          "data": {
            "text/plain": [
              "-1    53769\n",
              " 2     1089\n",
              " 7      772\n",
              " 0      495\n",
              " 6      266\n",
              " 3      207\n",
              " 5      166\n",
              " 8      152\n",
              " 1      112\n",
              " 4      107\n",
              "Name: UseOfLoan, dtype: int64"
            ]
          },
          "metadata": {},
          "execution_count": 613
        }
      ],
      "source": [
        "# -1 NotSet 0 Loan consolidation 1 Real estate 2 Home improvement 3 Business 4 Education 5 Travel 6 Vehicle 7 Other 8 Health\n",
        "UseOfLoan_Classes={ -1:\"Not Set\", 0: \"Loan Consolidation\", 1:\"Real Estate\", 2:\"Home Improvement\",\n",
        "                     3:\"Business\", 4:\"Education\", 5:\"Travel\", 6:\"Vehicle\", 7:\"Other\", 8:\"Health\"}\n",
        "\n",
        "print(loan[\"UseOfLoan\"].dtypes)\n",
        "loan[\"UseOfLoan\"].value_counts()"
      ]
    },
    {
      "cell_type": "markdown",
      "metadata": {
        "id": "YGBBG-p1cOgg"
      },
      "source": [
        "As we can see from above stats most of the loans are -1 category whose description is not avaialble in Bondoro website so we have dig deeper to find that in Bondora most of the loans happened for which purpose so we find in Bondora [Statistics Page](https://www.bondora.com/en/public-statistics) most of the loans around 34.81% are for Not set purpose. so we will encode -1 as Not set category"
      ]
    },
    {
      "cell_type": "code",
      "execution_count": 614,
      "metadata": {
        "id": "MbmkIH-FcOgg",
        "colab": {
          "base_uri": "https://localhost:8080/"
        },
        "outputId": "2e0a12e6-d570-4b0d-ecf8-b55cc4aa9f44"
      },
      "outputs": [
        {
          "output_type": "stream",
          "name": "stdout",
          "text": [
            "category\n"
          ]
        },
        {
          "output_type": "execute_result",
          "data": {
            "text/plain": [
              "Not Set               53769\n",
              "Home Improvement       1089\n",
              "Other                   772\n",
              "Loan Consolidation      495\n",
              "Vehicle                 266\n",
              "Business                207\n",
              "Travel                  166\n",
              "Health                  152\n",
              "Real Estate             112\n",
              "Education               107\n",
              "Name: UseOfLoan, dtype: int64"
            ]
          },
          "metadata": {},
          "execution_count": 614
        }
      ],
      "source": [
        "loan[\"UseOfLoan\"]= loan[\"UseOfLoan\"].map(UseOfLoan_Classes.get).astype(\"category\")\n",
        "\n",
        "print(loan[\"UseOfLoan\"].dtypes)\n",
        "loan[\"UseOfLoan\"].value_counts()"
      ]
    },
    {
      "cell_type": "markdown",
      "source": [
        "> Education"
      ],
      "metadata": {
        "id": "YSXoNLZ7B4ic"
      }
    },
    {
      "cell_type": "code",
      "execution_count": 615,
      "metadata": {
        "id": "X0x9n6K2cOgh",
        "colab": {
          "base_uri": "https://localhost:8080/"
        },
        "outputId": "236226cb-d1b1-41af-f636-c3444369e331"
      },
      "outputs": [
        {
          "output_type": "stream",
          "name": "stdout",
          "text": [
            "float64\n"
          ]
        },
        {
          "output_type": "execute_result",
          "data": {
            "text/plain": [
              " 4.0    22773\n",
              " 5.0    14479\n",
              " 3.0    12003\n",
              " 1.0     6831\n",
              " 2.0     1048\n",
              "-1.0        1\n",
              "Name: Education, dtype: int64"
            ]
          },
          "metadata": {},
          "execution_count": 615
        }
      ],
      "source": [
        "# -1 Not Set 1 Primary education 2 Basic education 3 Vocational education 4 Secondary education 5 Higher education\n",
        "Education_Classes={ -1:\"Not Set\", 1:\"Primary Education\", 2:\"Basic Education\",\n",
        "                     3:\"Vocational Education\", 4:\"Secondary Education\", 5:\"Higher Education\"}\n",
        "\n",
        "print(loan[\"Education\"].dtypes)\n",
        "loan[\"Education\"].value_counts()"
      ]
    },
    {
      "cell_type": "markdown",
      "metadata": {
        "id": "p6KTWR96cOgi"
      },
      "source": [
        "Again as we can see from above description for -1 and 0 in case of education is not present so we will encode them as Not_present as we dont know anything about them."
      ]
    },
    {
      "cell_type": "code",
      "execution_count": 616,
      "metadata": {
        "id": "OgFjsyCxcOgi",
        "colab": {
          "base_uri": "https://localhost:8080/"
        },
        "outputId": "5c8b3ea5-6993-45be-81d4-748e291957d1"
      },
      "outputs": [
        {
          "output_type": "stream",
          "name": "stdout",
          "text": [
            "category\n"
          ]
        },
        {
          "output_type": "execute_result",
          "data": {
            "text/plain": [
              "Secondary Education     22773\n",
              "Higher Education        14479\n",
              "Vocational Education    12003\n",
              "Primary Education        6831\n",
              "Basic Education          1048\n",
              "Not Set                     1\n",
              "Name: Education, dtype: int64"
            ]
          },
          "metadata": {},
          "execution_count": 616
        }
      ],
      "source": [
        "loan[\"Education\"]= loan[\"Education\"].map(Education_Classes.get).astype(\"category\")\n",
        "\n",
        "print(loan[\"Education\"].dtypes)\n",
        "loan[\"Education\"].value_counts()"
      ]
    },
    {
      "cell_type": "markdown",
      "source": [
        "> MaritalStatus"
      ],
      "metadata": {
        "id": "OP14jTz6CB0x"
      }
    },
    {
      "cell_type": "code",
      "execution_count": 617,
      "metadata": {
        "id": "B4YsV3WYcOgj",
        "colab": {
          "base_uri": "https://localhost:8080/"
        },
        "outputId": "bfc0877a-f7ed-4b55-e90e-ea14697e767c"
      },
      "outputs": [
        {
          "output_type": "stream",
          "name": "stdout",
          "text": [
            "float64\n"
          ]
        },
        {
          "output_type": "execute_result",
          "data": {
            "text/plain": [
              "-1.0    53769\n",
              " 1.0     1167\n",
              " 2.0      921\n",
              " 3.0      896\n",
              " 4.0      300\n",
              " 5.0       82\n",
              "Name: MaritalStatus, dtype: int64"
            ]
          },
          "metadata": {},
          "execution_count": 617
        }
      ],
      "source": [
        "# 1 Married 2 Cohabitant 3 Single 4 Divorced 5 Widow\n",
        "MaritalStatus_Classes={ -1:\"Not Specified\", 1:\"Married\", 2:\"Cohabitant\",\n",
        "                     3:\"Single\", 4:\"Divorced\", 5:\"Widow\"}\n",
        "\n",
        "print(loan[\"MaritalStatus\"].dtypes)\n",
        "loan[\"MaritalStatus\"].value_counts()"
      ]
    },
    {
      "cell_type": "markdown",
      "metadata": {
        "id": "MEBT0ZBtcOgj"
      },
      "source": [
        "Again Marital status of value 0 and -1 has no description so we will encode them as Not_specified"
      ]
    },
    {
      "cell_type": "code",
      "execution_count": 618,
      "metadata": {
        "id": "pUPLh8rxcOgk",
        "colab": {
          "base_uri": "https://localhost:8080/"
        },
        "outputId": "80292543-70e2-4555-cd7b-4a3556c847d3"
      },
      "outputs": [
        {
          "output_type": "stream",
          "name": "stdout",
          "text": [
            "category\n"
          ]
        },
        {
          "output_type": "execute_result",
          "data": {
            "text/plain": [
              "Not Specified    53769\n",
              "Married           1167\n",
              "Cohabitant         921\n",
              "Single             896\n",
              "Divorced           300\n",
              "Widow               82\n",
              "Name: MaritalStatus, dtype: int64"
            ]
          },
          "metadata": {},
          "execution_count": 618
        }
      ],
      "source": [
        "loan[\"MaritalStatus\"]= loan[\"MaritalStatus\"].map(MaritalStatus_Classes.get).astype(\"category\")\n",
        "\n",
        "print(loan[\"MaritalStatus\"].dtypes)\n",
        "loan[\"MaritalStatus\"].value_counts()"
      ]
    },
    {
      "cell_type": "markdown",
      "source": [
        "> EmploymentStatus"
      ],
      "metadata": {
        "id": "BLvs9-_YCE_I"
      }
    },
    {
      "cell_type": "code",
      "execution_count": 619,
      "metadata": {
        "id": "o98Bn1cPcOgl",
        "colab": {
          "base_uri": "https://localhost:8080/"
        },
        "outputId": "4a62a8a8-a3a7-4e35-9a84-131f0a30f867"
      },
      "outputs": [
        {
          "output_type": "stream",
          "name": "stdout",
          "text": [
            "float64\n"
          ]
        },
        {
          "output_type": "execute_result",
          "data": {
            "text/plain": [
              "-1.0    53769\n",
              " 3.0     2751\n",
              " 5.0      312\n",
              " 6.0      137\n",
              " 4.0       92\n",
              " 2.0       74\n",
              "Name: EmploymentStatus, dtype: int64"
            ]
          },
          "metadata": {},
          "execution_count": 619
        }
      ],
      "source": [
        "# 1 Unemployed 2 Partially employed 3 Fully employed 4 Self-employed 5 Entrepreneur 6 Retiree\n",
        "EmploymentStatus_Classes={ -1:\"Not Specified\", 1:\"Unemployed\", 2:\"Partially Employed\",\n",
        "                     3:\"Fully Employed\", 4:\"Self Employed\", 5:\"Entrepreneur\", 6:\"Retiree\"}\n",
        "\n",
        "print(loan[\"EmploymentStatus\"].dtypes)\n",
        "loan[\"EmploymentStatus\"].value_counts()"
      ]
    },
    {
      "cell_type": "code",
      "source": [
        "loan[\"EmploymentStatus\"]= loan[\"EmploymentStatus\"].map(EmploymentStatus_Classes.get).astype(\"category\")\n",
        "\n",
        "print(loan[\"EmploymentStatus\"].dtypes)\n",
        "loan[\"EmploymentStatus\"].value_counts()"
      ],
      "metadata": {
        "colab": {
          "base_uri": "https://localhost:8080/"
        },
        "id": "uIcvDPp253Tw",
        "outputId": "426124c7-e1e9-4336-df7a-e55a61998cfe"
      },
      "execution_count": 620,
      "outputs": [
        {
          "output_type": "stream",
          "name": "stdout",
          "text": [
            "category\n"
          ]
        },
        {
          "output_type": "execute_result",
          "data": {
            "text/plain": [
              "Not Specified         53769\n",
              "Fully Employed         2751\n",
              "Entrepreneur            312\n",
              "Retiree                 137\n",
              "Self Employed            92\n",
              "Partially Employed       74\n",
              "Name: EmploymentStatus, dtype: int64"
            ]
          },
          "metadata": {},
          "execution_count": 620
        }
      ]
    },
    {
      "cell_type": "markdown",
      "source": [
        "> OccupationArea"
      ],
      "metadata": {
        "id": "-gVmrCXSCQSA"
      }
    },
    {
      "cell_type": "code",
      "execution_count": 621,
      "metadata": {
        "id": "9TB9PHhYcOgn",
        "colab": {
          "base_uri": "https://localhost:8080/"
        },
        "outputId": "b448f53b-db19-493e-cab0-37a50a5e1ea5"
      },
      "outputs": [
        {
          "output_type": "stream",
          "name": "stdout",
          "text": [
            "float64\n"
          ]
        },
        {
          "output_type": "execute_result",
          "data": {
            "text/plain": [
              "-1.0     53769\n",
              " 1.0       781\n",
              " 7.0       380\n",
              " 3.0       322\n",
              " 6.0       305\n",
              " 17.0      238\n",
              " 8.0       186\n",
              " 16.0      179\n",
              " 9.0       156\n",
              " 10.0      151\n",
              " 15.0      129\n",
              " 19.0      107\n",
              " 18.0       95\n",
              " 11.0       94\n",
              " 13.0       71\n",
              " 4.0        57\n",
              " 14.0       45\n",
              " 12.0       44\n",
              " 5.0        20\n",
              " 2.0         6\n",
              "Name: OccupationArea, dtype: int64"
            ]
          },
          "metadata": {},
          "execution_count": 621
        }
      ],
      "source": [
        "\"\"\"\n",
        "1 Other 2 Mining 3 Processing 4 Energy 5 Utilities 6 Construction 7 Retail and wholesale 8 Transport and warehousing 9 Hospitality and catering \n",
        "10 Info and telecom 11 Finance and insurance 12 Real-estate 13 Research 14 Administrative 15 Civil service & military\n",
        "16 Education 17 Healthcare and social help 18 Art and entertainment 19 Agriculture, forestry and fishing\n",
        "\"\"\"\n",
        "OccupationArea_Classes={ -1:\"Not Specified\", 1:\"Other\", 2:\"Mining\", 3:\"Processing\", 4:\"Energy\", 5:\"Utilities\", 6:\"Construction\", 7:\"Retail and Wholesale\",\n",
        "                        8:\"Transport and Warehousing\", 9:\"Mining\", 10:\"Info and Telecom\", 11:\"Finance and Insurance\", 12:\"Real Estate\", 13:\"Research\",\n",
        "                        14:\"Administrative\", 15:\"Civil Service & Military\", 16:\"Education\", 17:\"Healthcare and SocialHelp\",\n",
        "                        18:\"Art and Entertainment\", 19:\"Agriculture, Forestry and Fishing\"}\n",
        "\n",
        "print(loan[\"OccupationArea\"].dtypes)\n",
        "loan[\"OccupationArea\"].value_counts()"
      ]
    },
    {
      "cell_type": "code",
      "source": [
        "loan[\"OccupationArea\"]= loan[\"OccupationArea\"].map(OccupationArea_Classes.get).astype(\"category\")\n",
        "\n",
        "print(loan[\"OccupationArea\"].dtypes)\n",
        "loan[\"OccupationArea\"].value_counts()"
      ],
      "metadata": {
        "colab": {
          "base_uri": "https://localhost:8080/"
        },
        "id": "x8NWxnAr--8M",
        "outputId": "baad39cc-576a-4493-b603-992f933873fb"
      },
      "execution_count": 622,
      "outputs": [
        {
          "output_type": "stream",
          "name": "stdout",
          "text": [
            "category\n"
          ]
        },
        {
          "output_type": "execute_result",
          "data": {
            "text/plain": [
              "Not Specified                        53769\n",
              "Other                                  781\n",
              "Retail and Wholesale                   380\n",
              "Processing                             322\n",
              "Construction                           305\n",
              "Healthcare and SocialHelp              238\n",
              "Transport and Warehousing              186\n",
              "Education                              179\n",
              "Mining                                 162\n",
              "Info and Telecom                       151\n",
              "Civil Service & Military               129\n",
              "Agriculture, Forestry and Fishing      107\n",
              "Art and Entertainment                   95\n",
              "Finance and Insurance                   94\n",
              "Research                                71\n",
              "Energy                                  57\n",
              "Administrative                          45\n",
              "Real Estate                             44\n",
              "Utilities                               20\n",
              "Name: OccupationArea, dtype: int64"
            ]
          },
          "metadata": {},
          "execution_count": 622
        }
      ]
    },
    {
      "cell_type": "markdown",
      "source": [
        "> HomeOwnershipType"
      ],
      "metadata": {
        "id": "NmwSYUVdCSIx"
      }
    },
    {
      "cell_type": "code",
      "execution_count": 623,
      "metadata": {
        "id": "dzCTe3eicOgr",
        "colab": {
          "base_uri": "https://localhost:8080/"
        },
        "outputId": "df5f3986-41c4-4474-f948-55edebd0589b"
      },
      "outputs": [
        {
          "output_type": "stream",
          "name": "stdout",
          "text": [
            "float64\n"
          ]
        },
        {
          "output_type": "execute_result",
          "data": {
            "text/plain": [
              " 1.0     22740\n",
              " 3.0     12737\n",
              " 2.0      8004\n",
              " 8.0      6695\n",
              " 10.0     4777\n",
              " 7.0       636\n",
              " 5.0       560\n",
              " 4.0       551\n",
              " 6.0       256\n",
              " 9.0       178\n",
              "-1.0         1\n",
              "Name: HomeOwnershipType, dtype: int64"
            ]
          },
          "metadata": {},
          "execution_count": 623
        }
      ],
      "source": [
        "# 0 Homeless 1 Owner 2 Living with parents 3 Tenant, pre-furnished property 4 Tenant, unfurnished property 5 Council house 6 Joint tenant 7 Joint ownership 8 Mortgage 9 Owner with encumbrance 10 Other\n",
        "HomeOwnershipType_Classes={ -1:\"Not Specified\", 1:\"Owner\", 2:\"Living with Parents\", 3:\"Tenant, Pre-Furnished Property\", 4:\"Tenant, Unfurnished Property\",\n",
        "                           5:\"Council House\",6:\"Joint Tenant\", 7:\"Joint Ownership\", 8:\"Mortgage\", 9:\"Owner with Encumbrance\", 10:\"Other\"}\n",
        "\n",
        "print(loan[\"HomeOwnershipType\"].dtypes)\n",
        "loan[\"HomeOwnershipType\"].value_counts()"
      ]
    },
    {
      "cell_type": "code",
      "source": [
        "loan[\"HomeOwnershipType\"]= loan[\"HomeOwnershipType\"].map(HomeOwnershipType_Classes.get).astype(\"category\")\n",
        "\n",
        "print(loan[\"HomeOwnershipType\"].dtypes)\n",
        "loan[\"HomeOwnershipType\"].value_counts()"
      ],
      "metadata": {
        "colab": {
          "base_uri": "https://localhost:8080/"
        },
        "id": "bAxKPRLX_VWD",
        "outputId": "38638b5e-a38c-4cc4-8987-758d7132c658"
      },
      "execution_count": 624,
      "outputs": [
        {
          "output_type": "stream",
          "name": "stdout",
          "text": [
            "category\n"
          ]
        },
        {
          "output_type": "execute_result",
          "data": {
            "text/plain": [
              "Owner                             22740\n",
              "Tenant, Pre-Furnished Property    12737\n",
              "Living with Parents                8004\n",
              "Mortgage                           6695\n",
              "Other                              4777\n",
              "Joint Ownership                     636\n",
              "Council House                       560\n",
              "Tenant, Unfurnished Property        551\n",
              "Joint Tenant                        256\n",
              "Owner with Encumbrance              178\n",
              "Not Specified                         1\n",
              "Name: HomeOwnershipType, dtype: int64"
            ]
          },
          "metadata": {},
          "execution_count": 624
        }
      ]
    },
    {
      "cell_type": "markdown",
      "source": [
        "**Bool Types**"
      ],
      "metadata": {
        "id": "Bvv2nCEZqRiL"
      }
    },
    {
      "cell_type": "markdown",
      "source": [
        "> NewCreditCustomer"
      ],
      "metadata": {
        "id": "tQBGSxCxCIWJ"
      }
    },
    {
      "cell_type": "code",
      "execution_count": 625,
      "metadata": {
        "colab": {
          "base_uri": "https://localhost:8080/"
        },
        "outputId": "a543ccc0-f9ce-447f-9ad4-f37e537a67fb",
        "id": "OKY3CTwV6H5D"
      },
      "outputs": [
        {
          "output_type": "stream",
          "name": "stdout",
          "text": [
            "bool\n"
          ]
        },
        {
          "output_type": "execute_result",
          "data": {
            "text/plain": [
              "True     28941\n",
              "False    28194\n",
              "Name: NewCreditCustomer, dtype: int64"
            ]
          },
          "metadata": {},
          "execution_count": 625
        }
      ],
      "source": [
        "# Did the customer have prior credit history in Bondora 0 Customer had at least 3 months of credit history in Bondora 1 No prior credit history in Bondora\n",
        "print(loan[\"Restructured\"].dtypes)\n",
        "loan[\"NewCreditCustomer\"].value_counts()"
      ]
    },
    {
      "cell_type": "markdown",
      "source": [
        "> Restructured"
      ],
      "metadata": {
        "id": "oZIpER6aCNfZ"
      }
    },
    {
      "cell_type": "code",
      "execution_count": 626,
      "metadata": {
        "colab": {
          "base_uri": "https://localhost:8080/"
        },
        "outputId": "0184f1bb-b74f-4eea-a5cb-eff90f48b698",
        "id": "GvyuxIbC68_5"
      },
      "outputs": [
        {
          "output_type": "stream",
          "name": "stdout",
          "text": [
            "bool\n"
          ]
        },
        {
          "output_type": "execute_result",
          "data": {
            "text/plain": [
              "False    45015\n",
              "True     12120\n",
              "Name: Restructured, dtype: int64"
            ]
          },
          "metadata": {},
          "execution_count": 626
        }
      ],
      "source": [
        "# The original maturity date of the loan has been increased by more than 60 days\n",
        "print(loan[\"Restructured\"].dtypes)\n",
        "loan[\"Restructured\"].value_counts()"
      ]
    },
    {
      "cell_type": "markdown",
      "source": [
        "**String Types**"
      ],
      "metadata": {
        "id": "NAh2gdMzqKyM"
      }
    },
    {
      "cell_type": "markdown",
      "source": [
        "> Country"
      ],
      "metadata": {
        "id": "nxKF-PuNqkLr"
      }
    },
    {
      "cell_type": "code",
      "source": [
        "country_classes = { \"EE\":\"Estonia\", \"FI\":\"Finland\", \"ES\":\"Spain\", \"SK\":\"Slovakia\"}\n",
        "\n",
        "print(loan[\"Country\"].dtypes)\n",
        "loan[\"Country\"].value_counts()"
      ],
      "metadata": {
        "colab": {
          "base_uri": "https://localhost:8080/"
        },
        "id": "wmwVoVCSnrZv",
        "outputId": "9fdab52c-541c-4440-ca6d-7183c3323d62"
      },
      "execution_count": 627,
      "outputs": [
        {
          "output_type": "stream",
          "name": "stdout",
          "text": [
            "object\n"
          ]
        },
        {
          "output_type": "execute_result",
          "data": {
            "text/plain": [
              "EE    37439\n",
              "FI    11973\n",
              "ES     7721\n",
              "SK        2\n",
              "Name: Country, dtype: int64"
            ]
          },
          "metadata": {},
          "execution_count": 627
        }
      ]
    },
    {
      "cell_type": "code",
      "source": [
        "loan[\"Country\"]= loan[\"Country\"].map(country_classes.get).astype(\"category\")\n",
        "\n",
        "print(loan[\"Country\"].dtypes)\n",
        "loan[\"Country\"].value_counts()"
      ],
      "metadata": {
        "colab": {
          "base_uri": "https://localhost:8080/"
        },
        "id": "INB9pKpOodUO",
        "outputId": "be42f38c-6c64-4381-fecb-6c3f87abfbbe"
      },
      "execution_count": 628,
      "outputs": [
        {
          "output_type": "stream",
          "name": "stdout",
          "text": [
            "category\n"
          ]
        },
        {
          "output_type": "execute_result",
          "data": {
            "text/plain": [
              "Estonia     37439\n",
              "Finland     11973\n",
              "Spain        7721\n",
              "Slovakia        2\n",
              "Name: Country, dtype: int64"
            ]
          },
          "metadata": {},
          "execution_count": 628
        }
      ]
    },
    {
      "cell_type": "markdown",
      "source": [
        "> EmploymentDurationCurrentEmployer"
      ],
      "metadata": {
        "id": "iWNEreswql3q"
      }
    },
    {
      "cell_type": "code",
      "source": [
        "print(loan[\"EmploymentDurationCurrentEmployer\"].dtypes)\n",
        "loan[\"EmploymentDurationCurrentEmployer\"].value_counts()"
      ],
      "metadata": {
        "colab": {
          "base_uri": "https://localhost:8080/"
        },
        "id": "_5MDzX6LohZV",
        "outputId": "fd718eb9-bfed-4cb5-bb20-4008dc06c362"
      },
      "execution_count": 629,
      "outputs": [
        {
          "output_type": "stream",
          "name": "stdout",
          "text": [
            "object\n"
          ]
        },
        {
          "output_type": "execute_result",
          "data": {
            "text/plain": [
              "MoreThan5Years    22761\n",
              "UpTo5Years        14634\n",
              "UpTo1Year          9899\n",
              "Retiree            4208\n",
              "Other              3021\n",
              "UpTo2Years          957\n",
              "UpTo3Years          896\n",
              "UpTo4Years          627\n",
              "TrialPeriod         130\n",
              "Name: EmploymentDurationCurrentEmployer, dtype: int64"
            ]
          },
          "metadata": {},
          "execution_count": 629
        }
      ]
    },
    {
      "cell_type": "code",
      "source": [
        "loan[\"EmploymentDurationCurrentEmployer\"]= loan[\"EmploymentDurationCurrentEmployer\"].astype(\"category\")\n",
        "\n",
        "print(loan[\"EmploymentDurationCurrentEmployer\"].dtypes)\n",
        "loan[\"EmploymentDurationCurrentEmployer\"].value_counts()"
      ],
      "metadata": {
        "colab": {
          "base_uri": "https://localhost:8080/"
        },
        "id": "ZKdeslwtpDm2",
        "outputId": "b2ebdbe0-3ec0-49dd-a306-479357222ce6"
      },
      "execution_count": 630,
      "outputs": [
        {
          "output_type": "stream",
          "name": "stdout",
          "text": [
            "category\n"
          ]
        },
        {
          "output_type": "execute_result",
          "data": {
            "text/plain": [
              "MoreThan5Years    22761\n",
              "UpTo5Years        14634\n",
              "UpTo1Year          9899\n",
              "Retiree            4208\n",
              "Other              3021\n",
              "UpTo2Years          957\n",
              "UpTo3Years          896\n",
              "UpTo4Years          627\n",
              "TrialPeriod         130\n",
              "Name: EmploymentDurationCurrentEmployer, dtype: int64"
            ]
          },
          "metadata": {},
          "execution_count": 630
        }
      ]
    },
    {
      "cell_type": "markdown",
      "source": [
        "> Rating"
      ],
      "metadata": {
        "id": "ov25mQ1TqoAj"
      }
    },
    {
      "cell_type": "code",
      "source": [
        "print(loan[\"Rating\"].dtypes)\n",
        "loan[\"Rating\"].value_counts()"
      ],
      "metadata": {
        "colab": {
          "base_uri": "https://localhost:8080/"
        },
        "id": "9eU57SbppZ_E",
        "outputId": "a8ad0d41-7308-48fa-c07b-fd4ef924a9bf"
      },
      "execution_count": 631,
      "outputs": [
        {
          "output_type": "stream",
          "name": "stdout",
          "text": [
            "object\n"
          ]
        },
        {
          "output_type": "execute_result",
          "data": {
            "text/plain": [
              "E     12173\n",
              "D      9786\n",
              "C      9425\n",
              "F      8504\n",
              "B      7710\n",
              "AA     4478\n",
              "A      4086\n",
              "HR      971\n",
              "Name: Rating, dtype: int64"
            ]
          },
          "metadata": {},
          "execution_count": 631
        }
      ]
    },
    {
      "cell_type": "code",
      "source": [
        "loan[\"Rating\"]= loan[\"Rating\"].astype(\"category\")\n",
        "\n",
        "print(loan[\"Rating\"].dtypes)\n",
        "loan[\"Rating\"].value_counts()"
      ],
      "metadata": {
        "colab": {
          "base_uri": "https://localhost:8080/"
        },
        "id": "tg7N31dKpeYM",
        "outputId": "59289438-5d2c-465e-99fb-54c854d81a28"
      },
      "execution_count": 632,
      "outputs": [
        {
          "output_type": "stream",
          "name": "stdout",
          "text": [
            "category\n"
          ]
        },
        {
          "output_type": "execute_result",
          "data": {
            "text/plain": [
              "E     12173\n",
              "D      9786\n",
              "C      9425\n",
              "F      8504\n",
              "B      7710\n",
              "AA     4478\n",
              "A      4086\n",
              "HR      971\n",
              "Name: Rating, dtype: int64"
            ]
          },
          "metadata": {},
          "execution_count": 632
        }
      ]
    },
    {
      "cell_type": "markdown",
      "source": [
        "> CreditScoreEsMicroL"
      ],
      "metadata": {
        "id": "lPpch1IDqqw_"
      }
    },
    {
      "cell_type": "code",
      "source": [
        "print(loan[\"CreditScoreEsMicroL\"].dtypes)\n",
        "loan[\"CreditScoreEsMicroL\"].value_counts()"
      ],
      "metadata": {
        "colab": {
          "base_uri": "https://localhost:8080/"
        },
        "outputId": "c9d1ae4e-9e3d-471c-ac5a-58909932d88b",
        "id": "aWoJPS18ptBq"
      },
      "execution_count": 633,
      "outputs": [
        {
          "output_type": "stream",
          "name": "stdout",
          "text": [
            "object\n"
          ]
        },
        {
          "output_type": "execute_result",
          "data": {
            "text/plain": [
              "M      53222\n",
              "M1       201\n",
              "M2       106\n",
              "M3        98\n",
              "M4        60\n",
              "M5        55\n",
              "M6         4\n",
              "M10        1\n",
              "Name: CreditScoreEsMicroL, dtype: int64"
            ]
          },
          "metadata": {},
          "execution_count": 633
        }
      ]
    },
    {
      "cell_type": "code",
      "source": [
        "loan[\"CreditScoreEsMicroL\"]= loan[\"CreditScoreEsMicroL\"].astype(\"category\")\n",
        "\n",
        "print(loan[\"CreditScoreEsMicroL\"].dtypes)\n",
        "loan[\"CreditScoreEsMicroL\"].value_counts()"
      ],
      "metadata": {
        "colab": {
          "base_uri": "https://localhost:8080/"
        },
        "outputId": "5dab01f3-f680-45c6-a92f-422712514522",
        "id": "3M5mUqw8ptBq"
      },
      "execution_count": 634,
      "outputs": [
        {
          "output_type": "stream",
          "name": "stdout",
          "text": [
            "category\n"
          ]
        },
        {
          "output_type": "execute_result",
          "data": {
            "text/plain": [
              "M      53222\n",
              "M1       201\n",
              "M2       106\n",
              "M3        98\n",
              "M4        60\n",
              "M5        55\n",
              "M6         4\n",
              "M10        1\n",
              "Name: CreditScoreEsMicroL, dtype: int64"
            ]
          },
          "metadata": {},
          "execution_count": 634
        }
      ]
    },
    {
      "cell_type": "markdown",
      "source": [
        "**Verifing Columns Types Conversion**"
      ],
      "metadata": {
        "id": "9uvEEamSBPSo"
      }
    },
    {
      "cell_type": "code",
      "execution_count": 635,
      "metadata": {
        "colab": {
          "base_uri": "https://localhost:8080/"
        },
        "outputId": "a42d7fe4-5138-4eff-cab7-f09289bffaca",
        "id": "jNi-bPmTAYMd"
      },
      "outputs": [
        {
          "output_type": "stream",
          "name": "stdout",
          "text": [
            "13\n"
          ]
        },
        {
          "output_type": "execute_result",
          "data": {
            "text/plain": [
              "['VerificationType',\n",
              " 'LanguageCode',\n",
              " 'Gender',\n",
              " 'Country',\n",
              " 'UseOfLoan',\n",
              " 'Education',\n",
              " 'MaritalStatus',\n",
              " 'EmploymentStatus',\n",
              " 'EmploymentDurationCurrentEmployer',\n",
              " 'OccupationArea',\n",
              " 'HomeOwnershipType',\n",
              " 'Rating',\n",
              " 'CreditScoreEsMicroL']"
            ]
          },
          "metadata": {},
          "execution_count": 635
        }
      ],
      "source": [
        "Category_Cols = [ col for col in loan if loan[col].dtype in [\"category\"] ]\n",
        "print(len(Category_Cols))\n",
        "Category_Cols"
      ]
    },
    {
      "cell_type": "code",
      "source": [
        "Category_Data = loan[Category_Cols]\n",
        "Category_Data.head()"
      ],
      "metadata": {
        "colab": {
          "base_uri": "https://localhost:8080/",
          "height": 357
        },
        "id": "xmidziTCAYMd",
        "outputId": "e76acbd2-386d-4578-aa1a-21d7fea5b54f"
      },
      "execution_count": 636,
      "outputs": [
        {
          "output_type": "execute_result",
          "data": {
            "text/plain": [
              "             VerificationType LanguageCode Gender  Country  \\\n",
              "491           Income Verified      Finnish   Male  Finland   \n",
              "523  Income Expenses Verified     Estonian   Male  Estonia   \n",
              "536           Income Verified     Estonian   Male  Estonia   \n",
              "541           Income Verified      Finnish   Male  Finland   \n",
              "544         Income Unverified     Estonian   Male  Estonia   \n",
              "\n",
              "              UseOfLoan             Education MaritalStatus EmploymentStatus  \\\n",
              "491               Other      Higher Education    Cohabitant   Fully Employed   \n",
              "523               Other   Secondary Education        Single   Fully Employed   \n",
              "536               Other       Basic Education        Single   Fully Employed   \n",
              "541  Loan Consolidation  Vocational Education        Single   Fully Employed   \n",
              "544               Other   Secondary Education    Cohabitant     Entrepreneur   \n",
              "\n",
              "    EmploymentDurationCurrentEmployer    OccupationArea  \\\n",
              "491                        UpTo2Years      Construction   \n",
              "523                         UpTo1Year             Other   \n",
              "536                        UpTo3Years        Processing   \n",
              "541                        UpTo5Years  Info and Telecom   \n",
              "544                    MoreThan5Years         Utilities   \n",
              "\n",
              "                  HomeOwnershipType Rating CreditScoreEsMicroL  \n",
              "491                           Owner      D                 NaN  \n",
              "523                    Joint Tenant      B                 NaN  \n",
              "536  Tenant, Pre-Furnished Property      B                 NaN  \n",
              "541    Tenant, Unfurnished Property      D                 NaN  \n",
              "544  Tenant, Pre-Furnished Property      D                 NaN  "
            ],
            "text/html": [
              "\n",
              "  <div id=\"df-3d3ce5e2-d5f0-4825-b7f8-db238decef2e\">\n",
              "    <div class=\"colab-df-container\">\n",
              "      <div>\n",
              "<style scoped>\n",
              "    .dataframe tbody tr th:only-of-type {\n",
              "        vertical-align: middle;\n",
              "    }\n",
              "\n",
              "    .dataframe tbody tr th {\n",
              "        vertical-align: top;\n",
              "    }\n",
              "\n",
              "    .dataframe thead th {\n",
              "        text-align: right;\n",
              "    }\n",
              "</style>\n",
              "<table border=\"1\" class=\"dataframe\">\n",
              "  <thead>\n",
              "    <tr style=\"text-align: right;\">\n",
              "      <th></th>\n",
              "      <th>VerificationType</th>\n",
              "      <th>LanguageCode</th>\n",
              "      <th>Gender</th>\n",
              "      <th>Country</th>\n",
              "      <th>UseOfLoan</th>\n",
              "      <th>Education</th>\n",
              "      <th>MaritalStatus</th>\n",
              "      <th>EmploymentStatus</th>\n",
              "      <th>EmploymentDurationCurrentEmployer</th>\n",
              "      <th>OccupationArea</th>\n",
              "      <th>HomeOwnershipType</th>\n",
              "      <th>Rating</th>\n",
              "      <th>CreditScoreEsMicroL</th>\n",
              "    </tr>\n",
              "  </thead>\n",
              "  <tbody>\n",
              "    <tr>\n",
              "      <th>491</th>\n",
              "      <td>Income Verified</td>\n",
              "      <td>Finnish</td>\n",
              "      <td>Male</td>\n",
              "      <td>Finland</td>\n",
              "      <td>Other</td>\n",
              "      <td>Higher Education</td>\n",
              "      <td>Cohabitant</td>\n",
              "      <td>Fully Employed</td>\n",
              "      <td>UpTo2Years</td>\n",
              "      <td>Construction</td>\n",
              "      <td>Owner</td>\n",
              "      <td>D</td>\n",
              "      <td>NaN</td>\n",
              "    </tr>\n",
              "    <tr>\n",
              "      <th>523</th>\n",
              "      <td>Income Expenses Verified</td>\n",
              "      <td>Estonian</td>\n",
              "      <td>Male</td>\n",
              "      <td>Estonia</td>\n",
              "      <td>Other</td>\n",
              "      <td>Secondary Education</td>\n",
              "      <td>Single</td>\n",
              "      <td>Fully Employed</td>\n",
              "      <td>UpTo1Year</td>\n",
              "      <td>Other</td>\n",
              "      <td>Joint Tenant</td>\n",
              "      <td>B</td>\n",
              "      <td>NaN</td>\n",
              "    </tr>\n",
              "    <tr>\n",
              "      <th>536</th>\n",
              "      <td>Income Verified</td>\n",
              "      <td>Estonian</td>\n",
              "      <td>Male</td>\n",
              "      <td>Estonia</td>\n",
              "      <td>Other</td>\n",
              "      <td>Basic Education</td>\n",
              "      <td>Single</td>\n",
              "      <td>Fully Employed</td>\n",
              "      <td>UpTo3Years</td>\n",
              "      <td>Processing</td>\n",
              "      <td>Tenant, Pre-Furnished Property</td>\n",
              "      <td>B</td>\n",
              "      <td>NaN</td>\n",
              "    </tr>\n",
              "    <tr>\n",
              "      <th>541</th>\n",
              "      <td>Income Verified</td>\n",
              "      <td>Finnish</td>\n",
              "      <td>Male</td>\n",
              "      <td>Finland</td>\n",
              "      <td>Loan Consolidation</td>\n",
              "      <td>Vocational Education</td>\n",
              "      <td>Single</td>\n",
              "      <td>Fully Employed</td>\n",
              "      <td>UpTo5Years</td>\n",
              "      <td>Info and Telecom</td>\n",
              "      <td>Tenant, Unfurnished Property</td>\n",
              "      <td>D</td>\n",
              "      <td>NaN</td>\n",
              "    </tr>\n",
              "    <tr>\n",
              "      <th>544</th>\n",
              "      <td>Income Unverified</td>\n",
              "      <td>Estonian</td>\n",
              "      <td>Male</td>\n",
              "      <td>Estonia</td>\n",
              "      <td>Other</td>\n",
              "      <td>Secondary Education</td>\n",
              "      <td>Cohabitant</td>\n",
              "      <td>Entrepreneur</td>\n",
              "      <td>MoreThan5Years</td>\n",
              "      <td>Utilities</td>\n",
              "      <td>Tenant, Pre-Furnished Property</td>\n",
              "      <td>D</td>\n",
              "      <td>NaN</td>\n",
              "    </tr>\n",
              "  </tbody>\n",
              "</table>\n",
              "</div>\n",
              "      <button class=\"colab-df-convert\" onclick=\"convertToInteractive('df-3d3ce5e2-d5f0-4825-b7f8-db238decef2e')\"\n",
              "              title=\"Convert this dataframe to an interactive table.\"\n",
              "              style=\"display:none;\">\n",
              "        \n",
              "  <svg xmlns=\"http://www.w3.org/2000/svg\" height=\"24px\"viewBox=\"0 0 24 24\"\n",
              "       width=\"24px\">\n",
              "    <path d=\"M0 0h24v24H0V0z\" fill=\"none\"/>\n",
              "    <path d=\"M18.56 5.44l.94 2.06.94-2.06 2.06-.94-2.06-.94-.94-2.06-.94 2.06-2.06.94zm-11 1L8.5 8.5l.94-2.06 2.06-.94-2.06-.94L8.5 2.5l-.94 2.06-2.06.94zm10 10l.94 2.06.94-2.06 2.06-.94-2.06-.94-.94-2.06-.94 2.06-2.06.94z\"/><path d=\"M17.41 7.96l-1.37-1.37c-.4-.4-.92-.59-1.43-.59-.52 0-1.04.2-1.43.59L10.3 9.45l-7.72 7.72c-.78.78-.78 2.05 0 2.83L4 21.41c.39.39.9.59 1.41.59.51 0 1.02-.2 1.41-.59l7.78-7.78 2.81-2.81c.8-.78.8-2.07 0-2.86zM5.41 20L4 18.59l7.72-7.72 1.47 1.35L5.41 20z\"/>\n",
              "  </svg>\n",
              "      </button>\n",
              "      \n",
              "  <style>\n",
              "    .colab-df-container {\n",
              "      display:flex;\n",
              "      flex-wrap:wrap;\n",
              "      gap: 12px;\n",
              "    }\n",
              "\n",
              "    .colab-df-convert {\n",
              "      background-color: #E8F0FE;\n",
              "      border: none;\n",
              "      border-radius: 50%;\n",
              "      cursor: pointer;\n",
              "      display: none;\n",
              "      fill: #1967D2;\n",
              "      height: 32px;\n",
              "      padding: 0 0 0 0;\n",
              "      width: 32px;\n",
              "    }\n",
              "\n",
              "    .colab-df-convert:hover {\n",
              "      background-color: #E2EBFA;\n",
              "      box-shadow: 0px 1px 2px rgba(60, 64, 67, 0.3), 0px 1px 3px 1px rgba(60, 64, 67, 0.15);\n",
              "      fill: #174EA6;\n",
              "    }\n",
              "\n",
              "    [theme=dark] .colab-df-convert {\n",
              "      background-color: #3B4455;\n",
              "      fill: #D2E3FC;\n",
              "    }\n",
              "\n",
              "    [theme=dark] .colab-df-convert:hover {\n",
              "      background-color: #434B5C;\n",
              "      box-shadow: 0px 1px 3px 1px rgba(0, 0, 0, 0.15);\n",
              "      filter: drop-shadow(0px 1px 2px rgba(0, 0, 0, 0.3));\n",
              "      fill: #FFFFFF;\n",
              "    }\n",
              "  </style>\n",
              "\n",
              "      <script>\n",
              "        const buttonEl =\n",
              "          document.querySelector('#df-3d3ce5e2-d5f0-4825-b7f8-db238decef2e button.colab-df-convert');\n",
              "        buttonEl.style.display =\n",
              "          google.colab.kernel.accessAllowed ? 'block' : 'none';\n",
              "\n",
              "        async function convertToInteractive(key) {\n",
              "          const element = document.querySelector('#df-3d3ce5e2-d5f0-4825-b7f8-db238decef2e');\n",
              "          const dataTable =\n",
              "            await google.colab.kernel.invokeFunction('convertToInteractive',\n",
              "                                                     [key], {});\n",
              "          if (!dataTable) return;\n",
              "\n",
              "          const docLinkHtml = 'Like what you see? Visit the ' +\n",
              "            '<a target=\"_blank\" href=https://colab.research.google.com/notebooks/data_table.ipynb>data table notebook</a>'\n",
              "            + ' to learn more about interactive tables.';\n",
              "          element.innerHTML = '';\n",
              "          dataTable['output_type'] = 'display_data';\n",
              "          await google.colab.output.renderOutput(dataTable, element);\n",
              "          const docLink = document.createElement('div');\n",
              "          docLink.innerHTML = docLinkHtml;\n",
              "          element.appendChild(docLink);\n",
              "        }\n",
              "      </script>\n",
              "    </div>\n",
              "  </div>\n",
              "  "
            ]
          },
          "metadata": {},
          "execution_count": 636
        }
      ]
    },
    {
      "cell_type": "code",
      "source": [
        "bool_Cols = [ col for col in loan if loan[col].dtype in [\"bool\"] ]\n",
        "print(len(bool_Cols))\n",
        "bool_Cols"
      ],
      "metadata": {
        "colab": {
          "base_uri": "https://localhost:8080/"
        },
        "id": "XT3IIjwTgATN",
        "outputId": "16fed8bc-a5f0-4890-865b-fdae2b4d981d"
      },
      "execution_count": 637,
      "outputs": [
        {
          "output_type": "stream",
          "name": "stdout",
          "text": [
            "2\n"
          ]
        },
        {
          "output_type": "execute_result",
          "data": {
            "text/plain": [
              "['NewCreditCustomer', 'Restructured']"
            ]
          },
          "metadata": {},
          "execution_count": 637
        }
      ]
    },
    {
      "cell_type": "code",
      "source": [
        "bool_Data = loan[bool_Cols]\n",
        "bool_Data.head()"
      ],
      "metadata": {
        "colab": {
          "base_uri": "https://localhost:8080/",
          "height": 206
        },
        "id": "z23V-QgOgGk0",
        "outputId": "9984f32c-4841-4de2-a7ca-82ccec2798f5"
      },
      "execution_count": 638,
      "outputs": [
        {
          "output_type": "execute_result",
          "data": {
            "text/plain": [
              "     NewCreditCustomer  Restructured\n",
              "491               True          True\n",
              "523              False          True\n",
              "536              False          True\n",
              "541               True          True\n",
              "544               True         False"
            ],
            "text/html": [
              "\n",
              "  <div id=\"df-b9c2010e-7435-49e6-8519-3a8d55ac4810\">\n",
              "    <div class=\"colab-df-container\">\n",
              "      <div>\n",
              "<style scoped>\n",
              "    .dataframe tbody tr th:only-of-type {\n",
              "        vertical-align: middle;\n",
              "    }\n",
              "\n",
              "    .dataframe tbody tr th {\n",
              "        vertical-align: top;\n",
              "    }\n",
              "\n",
              "    .dataframe thead th {\n",
              "        text-align: right;\n",
              "    }\n",
              "</style>\n",
              "<table border=\"1\" class=\"dataframe\">\n",
              "  <thead>\n",
              "    <tr style=\"text-align: right;\">\n",
              "      <th></th>\n",
              "      <th>NewCreditCustomer</th>\n",
              "      <th>Restructured</th>\n",
              "    </tr>\n",
              "  </thead>\n",
              "  <tbody>\n",
              "    <tr>\n",
              "      <th>491</th>\n",
              "      <td>True</td>\n",
              "      <td>True</td>\n",
              "    </tr>\n",
              "    <tr>\n",
              "      <th>523</th>\n",
              "      <td>False</td>\n",
              "      <td>True</td>\n",
              "    </tr>\n",
              "    <tr>\n",
              "      <th>536</th>\n",
              "      <td>False</td>\n",
              "      <td>True</td>\n",
              "    </tr>\n",
              "    <tr>\n",
              "      <th>541</th>\n",
              "      <td>True</td>\n",
              "      <td>True</td>\n",
              "    </tr>\n",
              "    <tr>\n",
              "      <th>544</th>\n",
              "      <td>True</td>\n",
              "      <td>False</td>\n",
              "    </tr>\n",
              "  </tbody>\n",
              "</table>\n",
              "</div>\n",
              "      <button class=\"colab-df-convert\" onclick=\"convertToInteractive('df-b9c2010e-7435-49e6-8519-3a8d55ac4810')\"\n",
              "              title=\"Convert this dataframe to an interactive table.\"\n",
              "              style=\"display:none;\">\n",
              "        \n",
              "  <svg xmlns=\"http://www.w3.org/2000/svg\" height=\"24px\"viewBox=\"0 0 24 24\"\n",
              "       width=\"24px\">\n",
              "    <path d=\"M0 0h24v24H0V0z\" fill=\"none\"/>\n",
              "    <path d=\"M18.56 5.44l.94 2.06.94-2.06 2.06-.94-2.06-.94-.94-2.06-.94 2.06-2.06.94zm-11 1L8.5 8.5l.94-2.06 2.06-.94-2.06-.94L8.5 2.5l-.94 2.06-2.06.94zm10 10l.94 2.06.94-2.06 2.06-.94-2.06-.94-.94-2.06-.94 2.06-2.06.94z\"/><path d=\"M17.41 7.96l-1.37-1.37c-.4-.4-.92-.59-1.43-.59-.52 0-1.04.2-1.43.59L10.3 9.45l-7.72 7.72c-.78.78-.78 2.05 0 2.83L4 21.41c.39.39.9.59 1.41.59.51 0 1.02-.2 1.41-.59l7.78-7.78 2.81-2.81c.8-.78.8-2.07 0-2.86zM5.41 20L4 18.59l7.72-7.72 1.47 1.35L5.41 20z\"/>\n",
              "  </svg>\n",
              "      </button>\n",
              "      \n",
              "  <style>\n",
              "    .colab-df-container {\n",
              "      display:flex;\n",
              "      flex-wrap:wrap;\n",
              "      gap: 12px;\n",
              "    }\n",
              "\n",
              "    .colab-df-convert {\n",
              "      background-color: #E8F0FE;\n",
              "      border: none;\n",
              "      border-radius: 50%;\n",
              "      cursor: pointer;\n",
              "      display: none;\n",
              "      fill: #1967D2;\n",
              "      height: 32px;\n",
              "      padding: 0 0 0 0;\n",
              "      width: 32px;\n",
              "    }\n",
              "\n",
              "    .colab-df-convert:hover {\n",
              "      background-color: #E2EBFA;\n",
              "      box-shadow: 0px 1px 2px rgba(60, 64, 67, 0.3), 0px 1px 3px 1px rgba(60, 64, 67, 0.15);\n",
              "      fill: #174EA6;\n",
              "    }\n",
              "\n",
              "    [theme=dark] .colab-df-convert {\n",
              "      background-color: #3B4455;\n",
              "      fill: #D2E3FC;\n",
              "    }\n",
              "\n",
              "    [theme=dark] .colab-df-convert:hover {\n",
              "      background-color: #434B5C;\n",
              "      box-shadow: 0px 1px 3px 1px rgba(0, 0, 0, 0.15);\n",
              "      filter: drop-shadow(0px 1px 2px rgba(0, 0, 0, 0.3));\n",
              "      fill: #FFFFFF;\n",
              "    }\n",
              "  </style>\n",
              "\n",
              "      <script>\n",
              "        const buttonEl =\n",
              "          document.querySelector('#df-b9c2010e-7435-49e6-8519-3a8d55ac4810 button.colab-df-convert');\n",
              "        buttonEl.style.display =\n",
              "          google.colab.kernel.accessAllowed ? 'block' : 'none';\n",
              "\n",
              "        async function convertToInteractive(key) {\n",
              "          const element = document.querySelector('#df-b9c2010e-7435-49e6-8519-3a8d55ac4810');\n",
              "          const dataTable =\n",
              "            await google.colab.kernel.invokeFunction('convertToInteractive',\n",
              "                                                     [key], {});\n",
              "          if (!dataTable) return;\n",
              "\n",
              "          const docLinkHtml = 'Like what you see? Visit the ' +\n",
              "            '<a target=\"_blank\" href=https://colab.research.google.com/notebooks/data_table.ipynb>data table notebook</a>'\n",
              "            + ' to learn more about interactive tables.';\n",
              "          element.innerHTML = '';\n",
              "          dataTable['output_type'] = 'display_data';\n",
              "          await google.colab.output.renderOutput(dataTable, element);\n",
              "          const docLink = document.createElement('div');\n",
              "          docLink.innerHTML = docLinkHtml;\n",
              "          element.appendChild(docLink);\n",
              "        }\n",
              "      </script>\n",
              "    </div>\n",
              "  </div>\n",
              "  "
            ]
          },
          "metadata": {},
          "execution_count": 638
        }
      ]
    },
    {
      "cell_type": "code",
      "source": [
        "Numeric_Cols = [ col for col in loan if loan[col].dtype in [\"int64\",\"float64\"]]\n",
        "print(len(Numeric_Cols))\n",
        "Numeric_Cols"
      ],
      "metadata": {
        "colab": {
          "base_uri": "https://localhost:8080/"
        },
        "id": "3XEoGpeQgK78",
        "outputId": "b8da992d-0f15-41a6-9ab0-927721dc19d6"
      },
      "execution_count": 639,
      "outputs": [
        {
          "output_type": "stream",
          "name": "stdout",
          "text": [
            "25\n"
          ]
        },
        {
          "output_type": "execute_result",
          "data": {
            "text/plain": [
              "['BidsPortfolioManager',\n",
              " 'BidsApi',\n",
              " 'BidsManual',\n",
              " 'Age',\n",
              " 'AppliedAmount',\n",
              " 'Amount',\n",
              " 'Interest',\n",
              " 'LoanDuration',\n",
              " 'MonthlyPayment',\n",
              " 'IncomeTotal',\n",
              " 'ExistingLiabilities',\n",
              " 'LiabilitiesTotal',\n",
              " 'RefinanceLiabilities',\n",
              " 'DebtToIncome',\n",
              " 'FreeCash',\n",
              " 'MonthlyPaymentDay',\n",
              " 'PrincipalPaymentsMade',\n",
              " 'InterestAndPenaltyPaymentsMade',\n",
              " 'PrincipalBalance',\n",
              " 'InterestAndPenaltyBalance',\n",
              " 'NoOfPreviousLoansBeforeLoan',\n",
              " 'AmountOfPreviousLoansBeforeLoan',\n",
              " 'PreviousRepaymentsBeforeLoan',\n",
              " 'PreviousEarlyRepaymentsCountBeforeLoan',\n",
              " 'Target']"
            ]
          },
          "metadata": {},
          "execution_count": 639
        }
      ]
    },
    {
      "cell_type": "code",
      "source": [
        "Numeric_Data = loan[Numeric_Cols]\n",
        "Numeric_Data.describe()"
      ],
      "metadata": {
        "colab": {
          "base_uri": "https://localhost:8080/",
          "height": 364
        },
        "id": "94NO7joEgQVU",
        "outputId": "219bfcfb-21a8-4751-da12-dca7da913a27"
      },
      "execution_count": 640,
      "outputs": [
        {
          "output_type": "execute_result",
          "data": {
            "text/plain": [
              "       BidsPortfolioManager       BidsApi    BidsManual           Age  \\\n",
              "count          57135.000000  57135.000000  57135.000000  57135.000000   \n",
              "mean             620.964995     24.160882    554.321362     42.455203   \n",
              "std              971.618839    129.660918    641.063762     12.375511   \n",
              "min                0.000000      0.000000      0.000000     18.000000   \n",
              "25%              106.000000      0.000000    163.500000     33.000000   \n",
              "50%              277.000000      0.000000    349.000000     42.000000   \n",
              "75%              682.000000      5.000000    712.000000     52.000000   \n",
              "max            10625.000000   5565.000000  10630.000000     70.000000   \n",
              "\n",
              "       AppliedAmount        Amount      Interest  LoanDuration  \\\n",
              "count   57135.000000  57135.000000  57135.000000  57135.000000   \n",
              "mean     2702.164943   2640.316899     29.913080     48.489682   \n",
              "std      2247.963237   2175.097309     17.184065     13.031395   \n",
              "min       500.000000    260.000000      7.270000      3.000000   \n",
              "25%       850.000000    850.000000     16.100000     36.000000   \n",
              "50%      2125.000000   2125.000000     27.070000     60.000000   \n",
              "75%      4150.000000   4150.000000     37.500000     60.000000   \n",
              "max     10632.000000  10632.000000    240.560000     60.000000   \n",
              "\n",
              "       MonthlyPayment    IncomeTotal  ExistingLiabilities  LiabilitiesTotal  \\\n",
              "count    57077.000000   57135.000000         57135.000000      57135.000000   \n",
              "mean       105.060883    1527.973334             2.952849        354.913541   \n",
              "std         87.742412    2477.264378             3.313259       1226.279040   \n",
              "min          0.000000       0.000000             0.000000          0.000000   \n",
              "25%         31.140000     840.000000             1.000000         37.000000   \n",
              "50%         90.730000    1200.000000             2.000000        235.000000   \n",
              "75%        143.900000    1800.000000             4.000000        485.575000   \n",
              "max       1284.220000  235800.000000            40.000000     250100.000000   \n",
              "\n",
              "       RefinanceLiabilities  DebtToIncome      FreeCash  MonthlyPaymentDay  \\\n",
              "count          57135.000000  57135.000000  57135.000000       57135.000000   \n",
              "mean               0.034497      2.025020     23.409092          10.854187   \n",
              "std                0.377524      9.216263    369.656875           6.617111   \n",
              "min                0.000000      0.000000    -26.480000           0.000000   \n",
              "25%                0.000000      0.000000      0.000000           5.000000   \n",
              "50%                0.000000      0.000000      0.000000          10.000000   \n",
              "75%                0.000000      0.000000      0.000000          15.000000   \n",
              "max               18.000000     75.610000  82063.820000          27.000000   \n",
              "\n",
              "       PrincipalPaymentsMade  InterestAndPenaltyPaymentsMade  \\\n",
              "count           57135.000000                    57135.000000   \n",
              "mean              333.241858                      468.927808   \n",
              "std               654.100096                      825.562760   \n",
              "min                 0.000000                        0.000000   \n",
              "25%                43.650000                       52.490000   \n",
              "50%               127.910000                      171.340000   \n",
              "75%               323.590000                      514.950000   \n",
              "max             10368.630000                    16873.000000   \n",
              "\n",
              "       PrincipalBalance  InterestAndPenaltyBalance  \\\n",
              "count      57135.000000               57135.000000   \n",
              "mean        2307.074530                   6.056837   \n",
              "std         2021.099842                  52.580527   \n",
              "min            0.000000                   0.000000   \n",
              "25%          602.450000                   0.000000   \n",
              "50%         1902.080000                   0.000000   \n",
              "75%         3538.085000                   0.000000   \n",
              "max        10632.000000                2517.090000   \n",
              "\n",
              "       NoOfPreviousLoansBeforeLoan  AmountOfPreviousLoansBeforeLoan  \\\n",
              "count                 57135.000000                     57135.000000   \n",
              "mean                      1.957417                      3811.408472   \n",
              "std                       2.750272                      5078.599057   \n",
              "min                       0.000000                         0.000000   \n",
              "25%                       0.000000                         0.000000   \n",
              "50%                       1.000000                      2000.000000   \n",
              "75%                       3.000000                      5845.000000   \n",
              "max                      25.000000                     53762.000000   \n",
              "\n",
              "       PreviousRepaymentsBeforeLoan  PreviousEarlyRepaymentsCountBeforeLoan  \\\n",
              "count                  33290.000000                            57135.000000   \n",
              "mean                    1045.732929                                0.059648   \n",
              "std                     1975.382472                                0.321914   \n",
              "min                        0.000000                                0.000000   \n",
              "25%                      141.160000                                0.000000   \n",
              "50%                      349.915000                                0.000000   \n",
              "75%                      960.440000                                0.000000   \n",
              "max                    26996.320000                                8.000000   \n",
              "\n",
              "             Target  \n",
              "count  57135.000000  \n",
              "mean       0.002118  \n",
              "std        0.045971  \n",
              "min        0.000000  \n",
              "25%        0.000000  \n",
              "50%        0.000000  \n",
              "75%        0.000000  \n",
              "max        1.000000  "
            ],
            "text/html": [
              "\n",
              "  <div id=\"df-49ce6b9e-fbb6-471d-8f54-ee227a6eee28\">\n",
              "    <div class=\"colab-df-container\">\n",
              "      <div>\n",
              "<style scoped>\n",
              "    .dataframe tbody tr th:only-of-type {\n",
              "        vertical-align: middle;\n",
              "    }\n",
              "\n",
              "    .dataframe tbody tr th {\n",
              "        vertical-align: top;\n",
              "    }\n",
              "\n",
              "    .dataframe thead th {\n",
              "        text-align: right;\n",
              "    }\n",
              "</style>\n",
              "<table border=\"1\" class=\"dataframe\">\n",
              "  <thead>\n",
              "    <tr style=\"text-align: right;\">\n",
              "      <th></th>\n",
              "      <th>BidsPortfolioManager</th>\n",
              "      <th>BidsApi</th>\n",
              "      <th>BidsManual</th>\n",
              "      <th>Age</th>\n",
              "      <th>AppliedAmount</th>\n",
              "      <th>Amount</th>\n",
              "      <th>Interest</th>\n",
              "      <th>LoanDuration</th>\n",
              "      <th>MonthlyPayment</th>\n",
              "      <th>IncomeTotal</th>\n",
              "      <th>ExistingLiabilities</th>\n",
              "      <th>LiabilitiesTotal</th>\n",
              "      <th>RefinanceLiabilities</th>\n",
              "      <th>DebtToIncome</th>\n",
              "      <th>FreeCash</th>\n",
              "      <th>MonthlyPaymentDay</th>\n",
              "      <th>PrincipalPaymentsMade</th>\n",
              "      <th>InterestAndPenaltyPaymentsMade</th>\n",
              "      <th>PrincipalBalance</th>\n",
              "      <th>InterestAndPenaltyBalance</th>\n",
              "      <th>NoOfPreviousLoansBeforeLoan</th>\n",
              "      <th>AmountOfPreviousLoansBeforeLoan</th>\n",
              "      <th>PreviousRepaymentsBeforeLoan</th>\n",
              "      <th>PreviousEarlyRepaymentsCountBeforeLoan</th>\n",
              "      <th>Target</th>\n",
              "    </tr>\n",
              "  </thead>\n",
              "  <tbody>\n",
              "    <tr>\n",
              "      <th>count</th>\n",
              "      <td>57135.000000</td>\n",
              "      <td>57135.000000</td>\n",
              "      <td>57135.000000</td>\n",
              "      <td>57135.000000</td>\n",
              "      <td>57135.000000</td>\n",
              "      <td>57135.000000</td>\n",
              "      <td>57135.000000</td>\n",
              "      <td>57135.000000</td>\n",
              "      <td>57077.000000</td>\n",
              "      <td>57135.000000</td>\n",
              "      <td>57135.000000</td>\n",
              "      <td>57135.000000</td>\n",
              "      <td>57135.000000</td>\n",
              "      <td>57135.000000</td>\n",
              "      <td>57135.000000</td>\n",
              "      <td>57135.000000</td>\n",
              "      <td>57135.000000</td>\n",
              "      <td>57135.000000</td>\n",
              "      <td>57135.000000</td>\n",
              "      <td>57135.000000</td>\n",
              "      <td>57135.000000</td>\n",
              "      <td>57135.000000</td>\n",
              "      <td>33290.000000</td>\n",
              "      <td>57135.000000</td>\n",
              "      <td>57135.000000</td>\n",
              "    </tr>\n",
              "    <tr>\n",
              "      <th>mean</th>\n",
              "      <td>620.964995</td>\n",
              "      <td>24.160882</td>\n",
              "      <td>554.321362</td>\n",
              "      <td>42.455203</td>\n",
              "      <td>2702.164943</td>\n",
              "      <td>2640.316899</td>\n",
              "      <td>29.913080</td>\n",
              "      <td>48.489682</td>\n",
              "      <td>105.060883</td>\n",
              "      <td>1527.973334</td>\n",
              "      <td>2.952849</td>\n",
              "      <td>354.913541</td>\n",
              "      <td>0.034497</td>\n",
              "      <td>2.025020</td>\n",
              "      <td>23.409092</td>\n",
              "      <td>10.854187</td>\n",
              "      <td>333.241858</td>\n",
              "      <td>468.927808</td>\n",
              "      <td>2307.074530</td>\n",
              "      <td>6.056837</td>\n",
              "      <td>1.957417</td>\n",
              "      <td>3811.408472</td>\n",
              "      <td>1045.732929</td>\n",
              "      <td>0.059648</td>\n",
              "      <td>0.002118</td>\n",
              "    </tr>\n",
              "    <tr>\n",
              "      <th>std</th>\n",
              "      <td>971.618839</td>\n",
              "      <td>129.660918</td>\n",
              "      <td>641.063762</td>\n",
              "      <td>12.375511</td>\n",
              "      <td>2247.963237</td>\n",
              "      <td>2175.097309</td>\n",
              "      <td>17.184065</td>\n",
              "      <td>13.031395</td>\n",
              "      <td>87.742412</td>\n",
              "      <td>2477.264378</td>\n",
              "      <td>3.313259</td>\n",
              "      <td>1226.279040</td>\n",
              "      <td>0.377524</td>\n",
              "      <td>9.216263</td>\n",
              "      <td>369.656875</td>\n",
              "      <td>6.617111</td>\n",
              "      <td>654.100096</td>\n",
              "      <td>825.562760</td>\n",
              "      <td>2021.099842</td>\n",
              "      <td>52.580527</td>\n",
              "      <td>2.750272</td>\n",
              "      <td>5078.599057</td>\n",
              "      <td>1975.382472</td>\n",
              "      <td>0.321914</td>\n",
              "      <td>0.045971</td>\n",
              "    </tr>\n",
              "    <tr>\n",
              "      <th>min</th>\n",
              "      <td>0.000000</td>\n",
              "      <td>0.000000</td>\n",
              "      <td>0.000000</td>\n",
              "      <td>18.000000</td>\n",
              "      <td>500.000000</td>\n",
              "      <td>260.000000</td>\n",
              "      <td>7.270000</td>\n",
              "      <td>3.000000</td>\n",
              "      <td>0.000000</td>\n",
              "      <td>0.000000</td>\n",
              "      <td>0.000000</td>\n",
              "      <td>0.000000</td>\n",
              "      <td>0.000000</td>\n",
              "      <td>0.000000</td>\n",
              "      <td>-26.480000</td>\n",
              "      <td>0.000000</td>\n",
              "      <td>0.000000</td>\n",
              "      <td>0.000000</td>\n",
              "      <td>0.000000</td>\n",
              "      <td>0.000000</td>\n",
              "      <td>0.000000</td>\n",
              "      <td>0.000000</td>\n",
              "      <td>0.000000</td>\n",
              "      <td>0.000000</td>\n",
              "      <td>0.000000</td>\n",
              "    </tr>\n",
              "    <tr>\n",
              "      <th>25%</th>\n",
              "      <td>106.000000</td>\n",
              "      <td>0.000000</td>\n",
              "      <td>163.500000</td>\n",
              "      <td>33.000000</td>\n",
              "      <td>850.000000</td>\n",
              "      <td>850.000000</td>\n",
              "      <td>16.100000</td>\n",
              "      <td>36.000000</td>\n",
              "      <td>31.140000</td>\n",
              "      <td>840.000000</td>\n",
              "      <td>1.000000</td>\n",
              "      <td>37.000000</td>\n",
              "      <td>0.000000</td>\n",
              "      <td>0.000000</td>\n",
              "      <td>0.000000</td>\n",
              "      <td>5.000000</td>\n",
              "      <td>43.650000</td>\n",
              "      <td>52.490000</td>\n",
              "      <td>602.450000</td>\n",
              "      <td>0.000000</td>\n",
              "      <td>0.000000</td>\n",
              "      <td>0.000000</td>\n",
              "      <td>141.160000</td>\n",
              "      <td>0.000000</td>\n",
              "      <td>0.000000</td>\n",
              "    </tr>\n",
              "    <tr>\n",
              "      <th>50%</th>\n",
              "      <td>277.000000</td>\n",
              "      <td>0.000000</td>\n",
              "      <td>349.000000</td>\n",
              "      <td>42.000000</td>\n",
              "      <td>2125.000000</td>\n",
              "      <td>2125.000000</td>\n",
              "      <td>27.070000</td>\n",
              "      <td>60.000000</td>\n",
              "      <td>90.730000</td>\n",
              "      <td>1200.000000</td>\n",
              "      <td>2.000000</td>\n",
              "      <td>235.000000</td>\n",
              "      <td>0.000000</td>\n",
              "      <td>0.000000</td>\n",
              "      <td>0.000000</td>\n",
              "      <td>10.000000</td>\n",
              "      <td>127.910000</td>\n",
              "      <td>171.340000</td>\n",
              "      <td>1902.080000</td>\n",
              "      <td>0.000000</td>\n",
              "      <td>1.000000</td>\n",
              "      <td>2000.000000</td>\n",
              "      <td>349.915000</td>\n",
              "      <td>0.000000</td>\n",
              "      <td>0.000000</td>\n",
              "    </tr>\n",
              "    <tr>\n",
              "      <th>75%</th>\n",
              "      <td>682.000000</td>\n",
              "      <td>5.000000</td>\n",
              "      <td>712.000000</td>\n",
              "      <td>52.000000</td>\n",
              "      <td>4150.000000</td>\n",
              "      <td>4150.000000</td>\n",
              "      <td>37.500000</td>\n",
              "      <td>60.000000</td>\n",
              "      <td>143.900000</td>\n",
              "      <td>1800.000000</td>\n",
              "      <td>4.000000</td>\n",
              "      <td>485.575000</td>\n",
              "      <td>0.000000</td>\n",
              "      <td>0.000000</td>\n",
              "      <td>0.000000</td>\n",
              "      <td>15.000000</td>\n",
              "      <td>323.590000</td>\n",
              "      <td>514.950000</td>\n",
              "      <td>3538.085000</td>\n",
              "      <td>0.000000</td>\n",
              "      <td>3.000000</td>\n",
              "      <td>5845.000000</td>\n",
              "      <td>960.440000</td>\n",
              "      <td>0.000000</td>\n",
              "      <td>0.000000</td>\n",
              "    </tr>\n",
              "    <tr>\n",
              "      <th>max</th>\n",
              "      <td>10625.000000</td>\n",
              "      <td>5565.000000</td>\n",
              "      <td>10630.000000</td>\n",
              "      <td>70.000000</td>\n",
              "      <td>10632.000000</td>\n",
              "      <td>10632.000000</td>\n",
              "      <td>240.560000</td>\n",
              "      <td>60.000000</td>\n",
              "      <td>1284.220000</td>\n",
              "      <td>235800.000000</td>\n",
              "      <td>40.000000</td>\n",
              "      <td>250100.000000</td>\n",
              "      <td>18.000000</td>\n",
              "      <td>75.610000</td>\n",
              "      <td>82063.820000</td>\n",
              "      <td>27.000000</td>\n",
              "      <td>10368.630000</td>\n",
              "      <td>16873.000000</td>\n",
              "      <td>10632.000000</td>\n",
              "      <td>2517.090000</td>\n",
              "      <td>25.000000</td>\n",
              "      <td>53762.000000</td>\n",
              "      <td>26996.320000</td>\n",
              "      <td>8.000000</td>\n",
              "      <td>1.000000</td>\n",
              "    </tr>\n",
              "  </tbody>\n",
              "</table>\n",
              "</div>\n",
              "      <button class=\"colab-df-convert\" onclick=\"convertToInteractive('df-49ce6b9e-fbb6-471d-8f54-ee227a6eee28')\"\n",
              "              title=\"Convert this dataframe to an interactive table.\"\n",
              "              style=\"display:none;\">\n",
              "        \n",
              "  <svg xmlns=\"http://www.w3.org/2000/svg\" height=\"24px\"viewBox=\"0 0 24 24\"\n",
              "       width=\"24px\">\n",
              "    <path d=\"M0 0h24v24H0V0z\" fill=\"none\"/>\n",
              "    <path d=\"M18.56 5.44l.94 2.06.94-2.06 2.06-.94-2.06-.94-.94-2.06-.94 2.06-2.06.94zm-11 1L8.5 8.5l.94-2.06 2.06-.94-2.06-.94L8.5 2.5l-.94 2.06-2.06.94zm10 10l.94 2.06.94-2.06 2.06-.94-2.06-.94-.94-2.06-.94 2.06-2.06.94z\"/><path d=\"M17.41 7.96l-1.37-1.37c-.4-.4-.92-.59-1.43-.59-.52 0-1.04.2-1.43.59L10.3 9.45l-7.72 7.72c-.78.78-.78 2.05 0 2.83L4 21.41c.39.39.9.59 1.41.59.51 0 1.02-.2 1.41-.59l7.78-7.78 2.81-2.81c.8-.78.8-2.07 0-2.86zM5.41 20L4 18.59l7.72-7.72 1.47 1.35L5.41 20z\"/>\n",
              "  </svg>\n",
              "      </button>\n",
              "      \n",
              "  <style>\n",
              "    .colab-df-container {\n",
              "      display:flex;\n",
              "      flex-wrap:wrap;\n",
              "      gap: 12px;\n",
              "    }\n",
              "\n",
              "    .colab-df-convert {\n",
              "      background-color: #E8F0FE;\n",
              "      border: none;\n",
              "      border-radius: 50%;\n",
              "      cursor: pointer;\n",
              "      display: none;\n",
              "      fill: #1967D2;\n",
              "      height: 32px;\n",
              "      padding: 0 0 0 0;\n",
              "      width: 32px;\n",
              "    }\n",
              "\n",
              "    .colab-df-convert:hover {\n",
              "      background-color: #E2EBFA;\n",
              "      box-shadow: 0px 1px 2px rgba(60, 64, 67, 0.3), 0px 1px 3px 1px rgba(60, 64, 67, 0.15);\n",
              "      fill: #174EA6;\n",
              "    }\n",
              "\n",
              "    [theme=dark] .colab-df-convert {\n",
              "      background-color: #3B4455;\n",
              "      fill: #D2E3FC;\n",
              "    }\n",
              "\n",
              "    [theme=dark] .colab-df-convert:hover {\n",
              "      background-color: #434B5C;\n",
              "      box-shadow: 0px 1px 3px 1px rgba(0, 0, 0, 0.15);\n",
              "      filter: drop-shadow(0px 1px 2px rgba(0, 0, 0, 0.3));\n",
              "      fill: #FFFFFF;\n",
              "    }\n",
              "  </style>\n",
              "\n",
              "      <script>\n",
              "        const buttonEl =\n",
              "          document.querySelector('#df-49ce6b9e-fbb6-471d-8f54-ee227a6eee28 button.colab-df-convert');\n",
              "        buttonEl.style.display =\n",
              "          google.colab.kernel.accessAllowed ? 'block' : 'none';\n",
              "\n",
              "        async function convertToInteractive(key) {\n",
              "          const element = document.querySelector('#df-49ce6b9e-fbb6-471d-8f54-ee227a6eee28');\n",
              "          const dataTable =\n",
              "            await google.colab.kernel.invokeFunction('convertToInteractive',\n",
              "                                                     [key], {});\n",
              "          if (!dataTable) return;\n",
              "\n",
              "          const docLinkHtml = 'Like what you see? Visit the ' +\n",
              "            '<a target=\"_blank\" href=https://colab.research.google.com/notebooks/data_table.ipynb>data table notebook</a>'\n",
              "            + ' to learn more about interactive tables.';\n",
              "          element.innerHTML = '';\n",
              "          dataTable['output_type'] = 'display_data';\n",
              "          await google.colab.output.renderOutput(dataTable, element);\n",
              "          const docLink = document.createElement('div');\n",
              "          docLink.innerHTML = docLinkHtml;\n",
              "          element.appendChild(docLink);\n",
              "        }\n",
              "      </script>\n",
              "    </div>\n",
              "  </div>\n",
              "  "
            ]
          },
          "metadata": {},
          "execution_count": 640
        }
      ]
    },
    {
      "cell_type": "code",
      "source": [
        "object_Cols = [ col for col in loan if loan[col].dtype in [\"object\"]]\n",
        "print(len(object_Cols))\n",
        "object_Cols"
      ],
      "metadata": {
        "colab": {
          "base_uri": "https://localhost:8080/"
        },
        "id": "C5kvJemVgww8",
        "outputId": "20a63f0a-ce61-4ce6-f3f7-9f06c2e136aa"
      },
      "execution_count": 641,
      "outputs": [
        {
          "output_type": "stream",
          "name": "stdout",
          "text": [
            "2\n"
          ]
        },
        {
          "output_type": "execute_result",
          "data": {
            "text/plain": [
              "['County', 'City']"
            ]
          },
          "metadata": {},
          "execution_count": 641
        }
      ]
    },
    {
      "cell_type": "code",
      "source": [
        "object_Data = loan[object_Cols]\n",
        "object_Data.head()"
      ],
      "metadata": {
        "colab": {
          "base_uri": "https://localhost:8080/",
          "height": 206
        },
        "id": "FhlmXTe2gye8",
        "outputId": "065593ac-10eb-4243-a81d-1b69e06efa59"
      },
      "execution_count": 642,
      "outputs": [
        {
          "output_type": "execute_result",
          "data": {
            "text/plain": [
              "            County         City\n",
              "491   POHJOIS-SAVO       KUOPIO\n",
              "523  LÄÄNE-VIRUMAA  SÕMERU VALD\n",
              "536       PÄRNUMAA        PÄRNU\n",
              "541   POHJOIS-SAVO       KUOPIO\n",
              "544          TARTU       KABINA"
            ],
            "text/html": [
              "\n",
              "  <div id=\"df-89a73143-08d4-402b-a582-fe42b5988d9f\">\n",
              "    <div class=\"colab-df-container\">\n",
              "      <div>\n",
              "<style scoped>\n",
              "    .dataframe tbody tr th:only-of-type {\n",
              "        vertical-align: middle;\n",
              "    }\n",
              "\n",
              "    .dataframe tbody tr th {\n",
              "        vertical-align: top;\n",
              "    }\n",
              "\n",
              "    .dataframe thead th {\n",
              "        text-align: right;\n",
              "    }\n",
              "</style>\n",
              "<table border=\"1\" class=\"dataframe\">\n",
              "  <thead>\n",
              "    <tr style=\"text-align: right;\">\n",
              "      <th></th>\n",
              "      <th>County</th>\n",
              "      <th>City</th>\n",
              "    </tr>\n",
              "  </thead>\n",
              "  <tbody>\n",
              "    <tr>\n",
              "      <th>491</th>\n",
              "      <td>POHJOIS-SAVO</td>\n",
              "      <td>KUOPIO</td>\n",
              "    </tr>\n",
              "    <tr>\n",
              "      <th>523</th>\n",
              "      <td>LÄÄNE-VIRUMAA</td>\n",
              "      <td>SÕMERU VALD</td>\n",
              "    </tr>\n",
              "    <tr>\n",
              "      <th>536</th>\n",
              "      <td>PÄRNUMAA</td>\n",
              "      <td>PÄRNU</td>\n",
              "    </tr>\n",
              "    <tr>\n",
              "      <th>541</th>\n",
              "      <td>POHJOIS-SAVO</td>\n",
              "      <td>KUOPIO</td>\n",
              "    </tr>\n",
              "    <tr>\n",
              "      <th>544</th>\n",
              "      <td>TARTU</td>\n",
              "      <td>KABINA</td>\n",
              "    </tr>\n",
              "  </tbody>\n",
              "</table>\n",
              "</div>\n",
              "      <button class=\"colab-df-convert\" onclick=\"convertToInteractive('df-89a73143-08d4-402b-a582-fe42b5988d9f')\"\n",
              "              title=\"Convert this dataframe to an interactive table.\"\n",
              "              style=\"display:none;\">\n",
              "        \n",
              "  <svg xmlns=\"http://www.w3.org/2000/svg\" height=\"24px\"viewBox=\"0 0 24 24\"\n",
              "       width=\"24px\">\n",
              "    <path d=\"M0 0h24v24H0V0z\" fill=\"none\"/>\n",
              "    <path d=\"M18.56 5.44l.94 2.06.94-2.06 2.06-.94-2.06-.94-.94-2.06-.94 2.06-2.06.94zm-11 1L8.5 8.5l.94-2.06 2.06-.94-2.06-.94L8.5 2.5l-.94 2.06-2.06.94zm10 10l.94 2.06.94-2.06 2.06-.94-2.06-.94-.94-2.06-.94 2.06-2.06.94z\"/><path d=\"M17.41 7.96l-1.37-1.37c-.4-.4-.92-.59-1.43-.59-.52 0-1.04.2-1.43.59L10.3 9.45l-7.72 7.72c-.78.78-.78 2.05 0 2.83L4 21.41c.39.39.9.59 1.41.59.51 0 1.02-.2 1.41-.59l7.78-7.78 2.81-2.81c.8-.78.8-2.07 0-2.86zM5.41 20L4 18.59l7.72-7.72 1.47 1.35L5.41 20z\"/>\n",
              "  </svg>\n",
              "      </button>\n",
              "      \n",
              "  <style>\n",
              "    .colab-df-container {\n",
              "      display:flex;\n",
              "      flex-wrap:wrap;\n",
              "      gap: 12px;\n",
              "    }\n",
              "\n",
              "    .colab-df-convert {\n",
              "      background-color: #E8F0FE;\n",
              "      border: none;\n",
              "      border-radius: 50%;\n",
              "      cursor: pointer;\n",
              "      display: none;\n",
              "      fill: #1967D2;\n",
              "      height: 32px;\n",
              "      padding: 0 0 0 0;\n",
              "      width: 32px;\n",
              "    }\n",
              "\n",
              "    .colab-df-convert:hover {\n",
              "      background-color: #E2EBFA;\n",
              "      box-shadow: 0px 1px 2px rgba(60, 64, 67, 0.3), 0px 1px 3px 1px rgba(60, 64, 67, 0.15);\n",
              "      fill: #174EA6;\n",
              "    }\n",
              "\n",
              "    [theme=dark] .colab-df-convert {\n",
              "      background-color: #3B4455;\n",
              "      fill: #D2E3FC;\n",
              "    }\n",
              "\n",
              "    [theme=dark] .colab-df-convert:hover {\n",
              "      background-color: #434B5C;\n",
              "      box-shadow: 0px 1px 3px 1px rgba(0, 0, 0, 0.15);\n",
              "      filter: drop-shadow(0px 1px 2px rgba(0, 0, 0, 0.3));\n",
              "      fill: #FFFFFF;\n",
              "    }\n",
              "  </style>\n",
              "\n",
              "      <script>\n",
              "        const buttonEl =\n",
              "          document.querySelector('#df-89a73143-08d4-402b-a582-fe42b5988d9f button.colab-df-convert');\n",
              "        buttonEl.style.display =\n",
              "          google.colab.kernel.accessAllowed ? 'block' : 'none';\n",
              "\n",
              "        async function convertToInteractive(key) {\n",
              "          const element = document.querySelector('#df-89a73143-08d4-402b-a582-fe42b5988d9f');\n",
              "          const dataTable =\n",
              "            await google.colab.kernel.invokeFunction('convertToInteractive',\n",
              "                                                     [key], {});\n",
              "          if (!dataTable) return;\n",
              "\n",
              "          const docLinkHtml = 'Like what you see? Visit the ' +\n",
              "            '<a target=\"_blank\" href=https://colab.research.google.com/notebooks/data_table.ipynb>data table notebook</a>'\n",
              "            + ' to learn more about interactive tables.';\n",
              "          element.innerHTML = '';\n",
              "          dataTable['output_type'] = 'display_data';\n",
              "          await google.colab.output.renderOutput(dataTable, element);\n",
              "          const docLink = document.createElement('div');\n",
              "          docLink.innerHTML = docLinkHtml;\n",
              "          element.appendChild(docLink);\n",
              "        }\n",
              "      </script>\n",
              "    </div>\n",
              "  </div>\n",
              "  "
            ]
          },
          "metadata": {},
          "execution_count": 642
        }
      ]
    },
    {
      "cell_type": "code",
      "source": [
        "object_Data.describe()"
      ],
      "metadata": {
        "colab": {
          "base_uri": "https://localhost:8080/",
          "height": 175
        },
        "id": "qK6EH9vWhIU0",
        "outputId": "a715995c-d97f-46ee-806b-4ad8bfb42b05"
      },
      "execution_count": 643,
      "outputs": [
        {
          "output_type": "execute_result",
          "data": {
            "text/plain": [
              "               County     City\n",
              "count           40810    52385\n",
              "unique            287     3325\n",
              "top     Harju maakond  Tallinn\n",
              "freq            13269     9137"
            ],
            "text/html": [
              "\n",
              "  <div id=\"df-db5e2759-1688-4d0b-b700-096a919d6a41\">\n",
              "    <div class=\"colab-df-container\">\n",
              "      <div>\n",
              "<style scoped>\n",
              "    .dataframe tbody tr th:only-of-type {\n",
              "        vertical-align: middle;\n",
              "    }\n",
              "\n",
              "    .dataframe tbody tr th {\n",
              "        vertical-align: top;\n",
              "    }\n",
              "\n",
              "    .dataframe thead th {\n",
              "        text-align: right;\n",
              "    }\n",
              "</style>\n",
              "<table border=\"1\" class=\"dataframe\">\n",
              "  <thead>\n",
              "    <tr style=\"text-align: right;\">\n",
              "      <th></th>\n",
              "      <th>County</th>\n",
              "      <th>City</th>\n",
              "    </tr>\n",
              "  </thead>\n",
              "  <tbody>\n",
              "    <tr>\n",
              "      <th>count</th>\n",
              "      <td>40810</td>\n",
              "      <td>52385</td>\n",
              "    </tr>\n",
              "    <tr>\n",
              "      <th>unique</th>\n",
              "      <td>287</td>\n",
              "      <td>3325</td>\n",
              "    </tr>\n",
              "    <tr>\n",
              "      <th>top</th>\n",
              "      <td>Harju maakond</td>\n",
              "      <td>Tallinn</td>\n",
              "    </tr>\n",
              "    <tr>\n",
              "      <th>freq</th>\n",
              "      <td>13269</td>\n",
              "      <td>9137</td>\n",
              "    </tr>\n",
              "  </tbody>\n",
              "</table>\n",
              "</div>\n",
              "      <button class=\"colab-df-convert\" onclick=\"convertToInteractive('df-db5e2759-1688-4d0b-b700-096a919d6a41')\"\n",
              "              title=\"Convert this dataframe to an interactive table.\"\n",
              "              style=\"display:none;\">\n",
              "        \n",
              "  <svg xmlns=\"http://www.w3.org/2000/svg\" height=\"24px\"viewBox=\"0 0 24 24\"\n",
              "       width=\"24px\">\n",
              "    <path d=\"M0 0h24v24H0V0z\" fill=\"none\"/>\n",
              "    <path d=\"M18.56 5.44l.94 2.06.94-2.06 2.06-.94-2.06-.94-.94-2.06-.94 2.06-2.06.94zm-11 1L8.5 8.5l.94-2.06 2.06-.94-2.06-.94L8.5 2.5l-.94 2.06-2.06.94zm10 10l.94 2.06.94-2.06 2.06-.94-2.06-.94-.94-2.06-.94 2.06-2.06.94z\"/><path d=\"M17.41 7.96l-1.37-1.37c-.4-.4-.92-.59-1.43-.59-.52 0-1.04.2-1.43.59L10.3 9.45l-7.72 7.72c-.78.78-.78 2.05 0 2.83L4 21.41c.39.39.9.59 1.41.59.51 0 1.02-.2 1.41-.59l7.78-7.78 2.81-2.81c.8-.78.8-2.07 0-2.86zM5.41 20L4 18.59l7.72-7.72 1.47 1.35L5.41 20z\"/>\n",
              "  </svg>\n",
              "      </button>\n",
              "      \n",
              "  <style>\n",
              "    .colab-df-container {\n",
              "      display:flex;\n",
              "      flex-wrap:wrap;\n",
              "      gap: 12px;\n",
              "    }\n",
              "\n",
              "    .colab-df-convert {\n",
              "      background-color: #E8F0FE;\n",
              "      border: none;\n",
              "      border-radius: 50%;\n",
              "      cursor: pointer;\n",
              "      display: none;\n",
              "      fill: #1967D2;\n",
              "      height: 32px;\n",
              "      padding: 0 0 0 0;\n",
              "      width: 32px;\n",
              "    }\n",
              "\n",
              "    .colab-df-convert:hover {\n",
              "      background-color: #E2EBFA;\n",
              "      box-shadow: 0px 1px 2px rgba(60, 64, 67, 0.3), 0px 1px 3px 1px rgba(60, 64, 67, 0.15);\n",
              "      fill: #174EA6;\n",
              "    }\n",
              "\n",
              "    [theme=dark] .colab-df-convert {\n",
              "      background-color: #3B4455;\n",
              "      fill: #D2E3FC;\n",
              "    }\n",
              "\n",
              "    [theme=dark] .colab-df-convert:hover {\n",
              "      background-color: #434B5C;\n",
              "      box-shadow: 0px 1px 3px 1px rgba(0, 0, 0, 0.15);\n",
              "      filter: drop-shadow(0px 1px 2px rgba(0, 0, 0, 0.3));\n",
              "      fill: #FFFFFF;\n",
              "    }\n",
              "  </style>\n",
              "\n",
              "      <script>\n",
              "        const buttonEl =\n",
              "          document.querySelector('#df-db5e2759-1688-4d0b-b700-096a919d6a41 button.colab-df-convert');\n",
              "        buttonEl.style.display =\n",
              "          google.colab.kernel.accessAllowed ? 'block' : 'none';\n",
              "\n",
              "        async function convertToInteractive(key) {\n",
              "          const element = document.querySelector('#df-db5e2759-1688-4d0b-b700-096a919d6a41');\n",
              "          const dataTable =\n",
              "            await google.colab.kernel.invokeFunction('convertToInteractive',\n",
              "                                                     [key], {});\n",
              "          if (!dataTable) return;\n",
              "\n",
              "          const docLinkHtml = 'Like what you see? Visit the ' +\n",
              "            '<a target=\"_blank\" href=https://colab.research.google.com/notebooks/data_table.ipynb>data table notebook</a>'\n",
              "            + ' to learn more about interactive tables.';\n",
              "          element.innerHTML = '';\n",
              "          dataTable['output_type'] = 'display_data';\n",
              "          await google.colab.output.renderOutput(dataTable, element);\n",
              "          const docLink = document.createElement('div');\n",
              "          docLink.innerHTML = docLinkHtml;\n",
              "          element.appendChild(docLink);\n",
              "        }\n",
              "      </script>\n",
              "    </div>\n",
              "  </div>\n",
              "  "
            ]
          },
          "metadata": {},
          "execution_count": 643
        }
      ]
    },
    {
      "cell_type": "code",
      "source": [
        "object_Data.nunique()"
      ],
      "metadata": {
        "colab": {
          "base_uri": "https://localhost:8080/"
        },
        "id": "FuUR9gupj9Ns",
        "outputId": "c705c042-22e8-4dd4-f624-b3388b77fb50"
      },
      "execution_count": 644,
      "outputs": [
        {
          "output_type": "execute_result",
          "data": {
            "text/plain": [
              "County     287\n",
              "City      3325\n",
              "dtype: int64"
            ]
          },
          "metadata": {},
          "execution_count": 644
        }
      ]
    },
    {
      "cell_type": "code",
      "source": [
        "object_Data[\"City\"].value_counts()"
      ],
      "metadata": {
        "colab": {
          "base_uri": "https://localhost:8080/"
        },
        "id": "IAM_fS5UsOd6",
        "outputId": "70e8b703-155c-4a0e-ea54-1ca7c6e22543"
      },
      "execution_count": 645,
      "outputs": [
        {
          "output_type": "execute_result",
          "data": {
            "text/plain": [
              "Tallinn                    9137\n",
              "Tartu linn                 2126\n",
              "Pärnu linn                 1285\n",
              "HELSINKI                   1102\n",
              "Narva linn                  918\n",
              "                           ... \n",
              "SANTA LUCIA DE TIRAJANA       1\n",
              "VERIORA                       1\n",
              "HÄNTÄLÄ                       1\n",
              "LÜGANUSE                      1\n",
              "KÕO                           1\n",
              "Name: City, Length: 3325, dtype: int64"
            ]
          },
          "metadata": {},
          "execution_count": 645
        }
      ]
    },
    {
      "cell_type": "code",
      "source": [
        "object_Data[\"County\"].value_counts()"
      ],
      "metadata": {
        "colab": {
          "base_uri": "https://localhost:8080/"
        },
        "id": "5UkHDAXinMeW",
        "outputId": "38bf40e7-3ffb-402a-aefc-6e49fd93c1d2"
      },
      "execution_count": 646,
      "outputs": [
        {
          "output_type": "execute_result",
          "data": {
            "text/plain": [
              "Harju maakond                              13269\n",
              "Tartu maakond                               3951\n",
              "Pärnu maakond                               2552\n",
              "Ida-Viru maakond                            2496\n",
              "UUSIMAA                                     2161\n",
              "Lääne-Viru maakond                          2082\n",
              "Viljandi maakond                            1544\n",
              "Võru maakond                                1146\n",
              "Rapla maakond                               1034\n",
              "Jõgeva maakond                              1007\n",
              "Järva maakond                                964\n",
              "Valga maakond                                940\n",
              "Saare maakond                                915\n",
              "HARJU                                        753\n",
              "Põlva maakond                                741\n",
              "Lääne maakond                                573\n",
              "PIRKANMAA                                    438\n",
              "VARSINAIS-SUOMI                              378\n",
              "POHJOIS-POHJANMAA                            284\n",
              "Hiiu maakond                                 276\n",
              "COMUNIDAD DE MADRID                          258\n",
              "HARJUMAA                                     198\n",
              "CATALUÑA                                     191\n",
              "PÄIJÄT-HÄME                                  181\n",
              "TARTU                                        173\n",
              "Harjumaa                                     136\n",
              "BARCELONA                                    108\n",
              "LÄÄNE-VIRUMAA                                102\n",
              "PÄRNUMAA                                      94\n",
              "IDA-VIRU                                      90\n",
              "MADRID                                        90\n",
              "RAPLA                                         61\n",
              "VILJANDI                                      52\n",
              "TARTUMAA                                      51\n",
              "PONTEVEDRA                                    49\n",
              "PÄRNU MAAKOND                                 43\n",
              "Tartu  maakond                                40\n",
              "VALGA                                         39\n",
              "A CORUÑA                                      34\n",
              "SAARE                                         33\n",
              "JÄRVAMAA                                      32\n",
              "VÕRUMAA                                       29\n",
              "Comunidad de Madrid                           28\n",
              "JÕGEVAMAA                                     27\n",
              "Ida-Viru  maakond                             26\n",
              "LÄÄNEMAA                                      26\n",
              "1                                             26\n",
              "LÄÄNE-VIRU MAAKOND                            25\n",
              "Tartumaa                                      24\n",
              "Andalucía                                     24\n",
              "LAS PALMAS                                    24\n",
              "PÕLVAMAA                                      23\n",
              "Lääne-Viru  maakond                           23\n",
              "Pärnumaa                                      22\n",
              "JÄRVA MAAKOND                                 22\n",
              "Catalunya                                     21\n",
              "LÄÄNE MAAKOND                                 21\n",
              "Pärnu  maakond                                21\n",
              "SEVILLA                                       20\n",
              "JÕGEVA MAAKOND                                19\n",
              "VÕRU MAAKOND                                  17\n",
              "Põlva  maakond                                16\n",
              "Rapla  maakond                                16\n",
              "Comunidad Valenciana                          15\n",
              "SAARE MAAKOND                                 15\n",
              "VILJANDIMAA                                   15\n",
              "Galicia                                       15\n",
              "Ida-Virumaa                                   14\n",
              "Järva  maakond                                13\n",
              "ASTURIAS                                      12\n",
              "Castilla-La Mancha                            12\n",
              "TENERIFE                                      12\n",
              "PALMAS                                        12\n",
              "PÕLVA MAAKOND                                 12\n",
              "OURENSE                                       11\n",
              "TARTU LINN                                    11\n",
              "Uusimaa                                       10\n",
              "IDA-VIRUMAA                                   10\n",
              "MURCIA                                        10\n",
              "KYMENLAAKSO                                   10\n",
              "ZARAGOZA                                      10\n",
              "TARRAGONA                                     10\n",
              "LUGO                                          10\n",
              "Jõgeva  maakond                               10\n",
              "VIZCAYA                                       10\n",
              "Lääne-Virumaa                                  9\n",
              "POHJOIS-SAVO                                   9\n",
              "SATAKUNTA                                      9\n",
              "Harju                                          8\n",
              "LLEIDA                                         8\n",
              "Cataluña                                       8\n",
              "CANTABRIA                                      7\n",
              "Võru  maakond                                  7\n",
              "POHJANMAA                                      7\n",
              "Valgamaa                                       7\n",
              "Läänemaa                                       6\n",
              "Võrumaa                                        6\n",
              "Raplamaa                                       6\n",
              "KANTA-HÄME                                     6\n",
              "Lääne  maakond                                 6\n",
              "BIZKAIA                                        6\n",
              "CORUÑA                                         6\n",
              "Valga  maakond                                 6\n",
              "RAPLAMAA                                       6\n",
              "ETELÄ-KARJALA                                  6\n",
              "KUOPIO                                         6\n",
              "MADRID, MADRID                                 6\n",
              "Viljandimaa                                    6\n",
              "VALENCIA                                       5\n",
              "GRANADA                                        5\n",
              "Región de Murcia                               5\n",
              "ALMERÍA                                        5\n",
              "Jõgevamaa                                      5\n",
              "JÕGEVA                                         5\n",
              "Saaremaa                                       5\n",
              "ETELÄ-POHJANMAA                                5\n",
              "LAPPI                                          4\n",
              "PÄRNU                                          4\n",
              "COMUNIDAD VALENCIANA                           4\n",
              "RAPLA MAAKOND                                  4\n",
              "GIRONA                                         4\n",
              "CADIZ                                          4\n",
              "CATALUNYA                                      4\n",
              "Madrid                                         4\n",
              "SUOMI                                          4\n",
              "VALGA MAAKOND                                  4\n",
              "KESKI-SUOMI                                    4\n",
              "MÁLAGA                                         4\n",
              "Cascais                                        4\n",
              "GUADALAJARA                                    4\n",
              "MALAGA                                         4\n",
              "OULU                                           4\n",
              "VANTAA                                         4\n",
              "TOLEDO                                         4\n",
              "POHJOIS-SAVON                                  3\n",
              "TARTU MAAKOND                                  3\n",
              "Järvamaa                                       3\n",
              "Uusima                                         3\n",
              "POHJOIS-KARJALA                                3\n",
              "MUSTASAARI                                     3\n",
              "LEÓN                                           3\n",
              "VALENCIA/VALÈNCIA                              3\n",
              "HUESCA                                         3\n",
              "Rogaland                                       3\n",
              "TARRAGONA, TARRAGONA                           3\n",
              "PÄIJÄT-HÄMEEN MAAKUNTA                         3\n",
              "ANDALUCÍA                                      3\n",
              "ALICANTE/ALACANT                               3\n",
              "Barcelona , BARCELONA                          3\n",
              "valencia del ventoso, BADAJOZ                  3\n",
              "Castilla y León                                3\n",
              "SAAREMAA                                       2\n",
              "CASCO SANTA CRUZ TENERIFE                      2\n",
              "Barcelona                                      2\n",
              "ILLES BALEARS                                  2\n",
              "LÄNSI-SUOMI                                    2\n",
              "UUDIMAA                                        2\n",
              "IDA-VIRUMA                                     2\n",
              "CASTELLÓN/CASTELLÓ                             2\n",
              "KÜLA                                           2\n",
              "KAINUU                                         2\n",
              "GIPUZKOA                                       2\n",
              "LÜGANUSE VALD                                  2\n",
              "CANARIAS                                       2\n",
              "CASTILLA Y LEÓN                                2\n",
              "/                                              2\n",
              "VALLADOLID                                     2\n",
              "PÄIJÄT HÄME                                    2\n",
              "GALICIA                                        2\n",
              "CUENCA                                         2\n",
              "IURRETA, VIZCAYA                               2\n",
              "Rapla                                          2\n",
              "Aragón                                         2\n",
              "KARKKILA                                       2\n",
              "VALGAMAA                                       2\n",
              "BADALONA, BARCELONA                            2\n",
              "AVILA                                          2\n",
              "Canarias                                       2\n",
              "NAVARRA                                        2\n",
              "NAVARRA                                        2\n",
              "LEON                                           2\n",
              "País Vasco                                     2\n",
              "BALEARS                                        2\n",
              "harjumaa                                       2\n",
              "JÄRVA                                          2\n",
              "SALAMANCA                                      2\n",
              "ALALPARDO, MADRID                              2\n",
              "Fuente el Saz del Jarama, MADRID               1\n",
              "SAN PEDRO DE ALCANTARA-MARBELLA, MALAGA        1\n",
              "JAÉN                                           1\n",
              "JÕGEVA VALD                                    1\n",
              "Cantabria                                      1\n",
              ".                                              1\n",
              "PORNAINEN                                      1\n",
              "SEGOVIA                                        1\n",
              "Balearic Islands                               1\n",
              "BENIDOLEIG, ALICANTE/ALACANT                   1\n",
              "HARJU MAAKOND                                  1\n",
              "MURASTE                                        1\n",
              "CÓRDOBA                                        1\n",
              "BURGOS                                         1\n",
              "REAL                                           1\n",
              "SANTA CRUZ DE TENERIFE                         1\n",
              "ZAMORA                                         1\n",
              "CORNELLA DE LLOBREGAT, BARCELONA               1\n",
              "BARCELONA, BARCELONA                           1\n",
              "Santa Cruz de Tenerife                         1\n",
              "TERRASA, BARCELONA                             1\n",
              "SANT FELIU DE LLOBREGAT, BARCELONA             1\n",
              "Brdalona                                       1\n",
              "CADALSO DE LOS VIDRIOS, MADRID                 1\n",
              "CÁDIZ                                          1\n",
              "Asturias                                       1\n",
              "IDA-VIRU MAAKOND                               1\n",
              "HAAPSALU LINN                                  1\n",
              "CEUTA                                          1\n",
              "VILJANDI MAAKOND                               1\n",
              "PAIDE LINN                                     1\n",
              "vigo, PONTEVEDRA                               1\n",
              "HIIU                                           1\n",
              "VIGO                                           1\n",
              "HIIUMAA MK.                                    1\n",
              "VÕRU                                           1\n",
              "POHJOISPOHJANMAA                               1\n",
              "TAMPERE                                        1\n",
              "CÁCERES                                        1\n",
              "DEGERBY                                        1\n",
              "KOTKA                                          1\n",
              "Jõgeva                                         1\n",
              "Varsinais-Suomi                                1\n",
              "KYMENLAKSO                                     1\n",
              "TYRNÄVÄ                                        1\n",
              "HIIU MAAKOND                                   1\n",
              "PARNUMAAKOND                                   1\n",
              "REGIÓN DE MURCIA                               1\n",
              "NYLAND                                         1\n",
              "INKOO                                          1\n",
              "Keski-Suomi                                    1\n",
              "KÄMMENNIEMI                                    1\n",
              "ETELÄSAVO                                      1\n",
              "MÄRJAMAA                                       1\n",
              "VÕRU VALD                                      1\n",
              "LÄNE-VIRUMAA                                   1\n",
              "JÕGEVAMAA, PALAMUSE VALD                       1\n",
              "SASTAMALA                                      1\n",
              "IDA VIRU                                       1\n",
              "MYYRMÄKI                                       1\n",
              "BALEARES                                       1\n",
              "LÄÄNE-SAARE                                    1\n",
              "KESKI-POHJANMAA                                1\n",
              "MOS                                            1\n",
              "HÄME                                           1\n",
              "Pärnu                                          1\n",
              "JAKOBSTAD                                      1\n",
              "BRATISLAVSKÝ                                   1\n",
              "Pärnumaakond                                   1\n",
              "VASARAINEN                                     1\n",
              "MIKKELI                                        1\n",
              "TRNAVSKY                                       1\n",
              "ALICANTE                                       1\n",
              "TARTUMAAKOND                                   1\n",
              "TARUMAA                                        1\n",
              "Extremadura                                    1\n",
              "KIRKKONUMMI                                    1\n",
              "UUDENMAAN                                      1\n",
              "PÄRNU LINN                                     1\n",
              "SUURE-JAANI                                    1\n",
              "ESPOO                                          1\n",
              "CASTILLA-LA MANCHA                             1\n",
              "POHJOIS-POHJANMAAN                             1\n",
              "Pirkanmaa                                      1\n",
              "ETELÄ-SAVO                                     1\n",
              "pärnumaa                                       1\n",
              "Kymenlakso                                     1\n",
              "Järva                                          1\n",
              "Harjimaa                                       1\n",
              "Tarumaa                                        1\n",
              "Hiiumaa mk.                                    1\n",
              "Hiiumaa                                        1\n",
              "ETELÄ-SUOMI                                    1\n",
              "Pärnu linn                                     1\n",
              "Uudimaa                                        1\n",
              "SEINÄJOKI                                      1\n",
              "CIUDAD REAL                                    1\n",
              "LAPPEENRANTA                                   1\n",
              "VARSINAIS SUOMI                                1\n",
              "LA RIOJA                                       1\n",
              "Name: County, dtype: int64"
            ]
          },
          "metadata": {},
          "execution_count": 646
        }
      ]
    },
    {
      "cell_type": "markdown",
      "source": [
        "**Saving Final Data**"
      ],
      "metadata": {
        "id": "zzHF4RBvCVoZ"
      }
    },
    {
      "cell_type": "code",
      "source": [
        "loan.shape"
      ],
      "metadata": {
        "colab": {
          "base_uri": "https://localhost:8080/"
        },
        "id": "UMluKS6AspCz",
        "outputId": "74fc8249-41b5-4e4f-b93d-7ce99bf5f564"
      },
      "execution_count": 647,
      "outputs": [
        {
          "output_type": "execute_result",
          "data": {
            "text/plain": [
              "(57135, 42)"
            ]
          },
          "metadata": {},
          "execution_count": 647
        }
      ]
    },
    {
      "cell_type": "code",
      "source": [
        "loan.head()"
      ],
      "metadata": {
        "colab": {
          "base_uri": "https://localhost:8080/",
          "height": 357
        },
        "id": "-JXly-FLstWh",
        "outputId": "f3a1b691-89d5-410a-da76-3838f23805b9"
      },
      "execution_count": 648,
      "outputs": [
        {
          "output_type": "execute_result",
          "data": {
            "text/plain": [
              "     BidsPortfolioManager  BidsApi  BidsManual  NewCreditCustomer  \\\n",
              "491                  1355        0       645.0               True   \n",
              "523                  1000        0         0.0              False   \n",
              "536                  2345        0       655.0              False   \n",
              "541                  2045        0       955.0               True   \n",
              "544                  1500        0         0.0               True   \n",
              "\n",
              "             VerificationType LanguageCode  Age Gender  Country  \\\n",
              "491           Income Verified      Finnish   28   Male  Finland   \n",
              "523  Income Expenses Verified     Estonian   27   Male  Estonia   \n",
              "536           Income Verified     Estonian   29   Male  Estonia   \n",
              "541           Income Verified      Finnish   25   Male  Finland   \n",
              "544         Income Unverified     Estonian   30   Male  Estonia   \n",
              "\n",
              "     AppliedAmount  Amount  Interest  LoanDuration  MonthlyPayment  \\\n",
              "491         2000.0  2000.0     24.46            60           63.90   \n",
              "523         1000.0  1000.0     17.74            60           28.17   \n",
              "536         3000.0  3000.0     17.87            60           84.72   \n",
              "541         3000.0  3000.0     27.98            60          102.12   \n",
              "544         1500.0  1500.0     29.25            60           52.84   \n",
              "\n",
              "            County         City           UseOfLoan             Education  \\\n",
              "491   POHJOIS-SAVO       KUOPIO               Other      Higher Education   \n",
              "523  LÄÄNE-VIRUMAA  SÕMERU VALD               Other   Secondary Education   \n",
              "536       PÄRNUMAA        PÄRNU               Other       Basic Education   \n",
              "541   POHJOIS-SAVO       KUOPIO  Loan Consolidation  Vocational Education   \n",
              "544          TARTU       KABINA               Other   Secondary Education   \n",
              "\n",
              "    MaritalStatus EmploymentStatus EmploymentDurationCurrentEmployer  \\\n",
              "491    Cohabitant   Fully Employed                        UpTo2Years   \n",
              "523        Single   Fully Employed                         UpTo1Year   \n",
              "536        Single   Fully Employed                        UpTo3Years   \n",
              "541        Single   Fully Employed                        UpTo5Years   \n",
              "544    Cohabitant     Entrepreneur                    MoreThan5Years   \n",
              "\n",
              "       OccupationArea               HomeOwnershipType  IncomeTotal  \\\n",
              "491      Construction                           Owner       2097.0   \n",
              "523             Other                    Joint Tenant        560.0   \n",
              "536        Processing  Tenant, Pre-Furnished Property        745.0   \n",
              "541  Info and Telecom    Tenant, Unfurnished Property       1530.0   \n",
              "544         Utilities  Tenant, Pre-Furnished Property       1500.0   \n",
              "\n",
              "     ExistingLiabilities  LiabilitiesTotal  RefinanceLiabilities  \\\n",
              "491                    1            629.00                     0   \n",
              "523                    8           1327.37                     2   \n",
              "536                    4            427.03                     0   \n",
              "541                    4            955.00                     0   \n",
              "544                    2            465.00                     0   \n",
              "\n",
              "     DebtToIncome  FreeCash  MonthlyPaymentDay Rating  Restructured  \\\n",
              "491          3.05   1404.10                 15      D          True   \n",
              "523         47.56     43.67                  6      B          True   \n",
              "536         27.48    290.28                 14      B          True   \n",
              "541         36.41    472.88                 27      D          True   \n",
              "544          4.52    982.16                 25      D         False   \n",
              "\n",
              "    CreditScoreEsMicroL  PrincipalPaymentsMade  \\\n",
              "491                 NaN                1387.57   \n",
              "523                 NaN                 608.05   \n",
              "536                 NaN                1270.42   \n",
              "541                 NaN                1916.72   \n",
              "544                 NaN                1453.11   \n",
              "\n",
              "     InterestAndPenaltyPaymentsMade  PrincipalBalance  \\\n",
              "491                         1845.64            612.43   \n",
              "523                          638.67            391.95   \n",
              "536                         1890.24           1729.58   \n",
              "541                         3144.21           1083.28   \n",
              "544                         1396.06             46.89   \n",
              "\n",
              "     InterestAndPenaltyBalance  NoOfPreviousLoansBeforeLoan  \\\n",
              "491                        0.0                            0   \n",
              "523                        0.0                            1   \n",
              "536                        0.0                            1   \n",
              "541                        0.0                            0   \n",
              "544                        0.0                            0   \n",
              "\n",
              "     AmountOfPreviousLoansBeforeLoan  PreviousRepaymentsBeforeLoan  \\\n",
              "491                              0.0                          0.00   \n",
              "523                           1300.0                        187.87   \n",
              "536                           1000.0                        623.89   \n",
              "541                              0.0                          0.00   \n",
              "544                              0.0                          0.00   \n",
              "\n",
              "     PreviousEarlyRepaymentsCountBeforeLoan  Target  \n",
              "491                                       0       0  \n",
              "523                                       0       0  \n",
              "536                                       0       0  \n",
              "541                                       0       0  \n",
              "544                                       0       0  "
            ],
            "text/html": [
              "\n",
              "  <div id=\"df-5726abaf-8326-4570-a716-7d489eaf422f\">\n",
              "    <div class=\"colab-df-container\">\n",
              "      <div>\n",
              "<style scoped>\n",
              "    .dataframe tbody tr th:only-of-type {\n",
              "        vertical-align: middle;\n",
              "    }\n",
              "\n",
              "    .dataframe tbody tr th {\n",
              "        vertical-align: top;\n",
              "    }\n",
              "\n",
              "    .dataframe thead th {\n",
              "        text-align: right;\n",
              "    }\n",
              "</style>\n",
              "<table border=\"1\" class=\"dataframe\">\n",
              "  <thead>\n",
              "    <tr style=\"text-align: right;\">\n",
              "      <th></th>\n",
              "      <th>BidsPortfolioManager</th>\n",
              "      <th>BidsApi</th>\n",
              "      <th>BidsManual</th>\n",
              "      <th>NewCreditCustomer</th>\n",
              "      <th>VerificationType</th>\n",
              "      <th>LanguageCode</th>\n",
              "      <th>Age</th>\n",
              "      <th>Gender</th>\n",
              "      <th>Country</th>\n",
              "      <th>AppliedAmount</th>\n",
              "      <th>Amount</th>\n",
              "      <th>Interest</th>\n",
              "      <th>LoanDuration</th>\n",
              "      <th>MonthlyPayment</th>\n",
              "      <th>County</th>\n",
              "      <th>City</th>\n",
              "      <th>UseOfLoan</th>\n",
              "      <th>Education</th>\n",
              "      <th>MaritalStatus</th>\n",
              "      <th>EmploymentStatus</th>\n",
              "      <th>EmploymentDurationCurrentEmployer</th>\n",
              "      <th>OccupationArea</th>\n",
              "      <th>HomeOwnershipType</th>\n",
              "      <th>IncomeTotal</th>\n",
              "      <th>ExistingLiabilities</th>\n",
              "      <th>LiabilitiesTotal</th>\n",
              "      <th>RefinanceLiabilities</th>\n",
              "      <th>DebtToIncome</th>\n",
              "      <th>FreeCash</th>\n",
              "      <th>MonthlyPaymentDay</th>\n",
              "      <th>Rating</th>\n",
              "      <th>Restructured</th>\n",
              "      <th>CreditScoreEsMicroL</th>\n",
              "      <th>PrincipalPaymentsMade</th>\n",
              "      <th>InterestAndPenaltyPaymentsMade</th>\n",
              "      <th>PrincipalBalance</th>\n",
              "      <th>InterestAndPenaltyBalance</th>\n",
              "      <th>NoOfPreviousLoansBeforeLoan</th>\n",
              "      <th>AmountOfPreviousLoansBeforeLoan</th>\n",
              "      <th>PreviousRepaymentsBeforeLoan</th>\n",
              "      <th>PreviousEarlyRepaymentsCountBeforeLoan</th>\n",
              "      <th>Target</th>\n",
              "    </tr>\n",
              "  </thead>\n",
              "  <tbody>\n",
              "    <tr>\n",
              "      <th>491</th>\n",
              "      <td>1355</td>\n",
              "      <td>0</td>\n",
              "      <td>645.0</td>\n",
              "      <td>True</td>\n",
              "      <td>Income Verified</td>\n",
              "      <td>Finnish</td>\n",
              "      <td>28</td>\n",
              "      <td>Male</td>\n",
              "      <td>Finland</td>\n",
              "      <td>2000.0</td>\n",
              "      <td>2000.0</td>\n",
              "      <td>24.46</td>\n",
              "      <td>60</td>\n",
              "      <td>63.90</td>\n",
              "      <td>POHJOIS-SAVO</td>\n",
              "      <td>KUOPIO</td>\n",
              "      <td>Other</td>\n",
              "      <td>Higher Education</td>\n",
              "      <td>Cohabitant</td>\n",
              "      <td>Fully Employed</td>\n",
              "      <td>UpTo2Years</td>\n",
              "      <td>Construction</td>\n",
              "      <td>Owner</td>\n",
              "      <td>2097.0</td>\n",
              "      <td>1</td>\n",
              "      <td>629.00</td>\n",
              "      <td>0</td>\n",
              "      <td>3.05</td>\n",
              "      <td>1404.10</td>\n",
              "      <td>15</td>\n",
              "      <td>D</td>\n",
              "      <td>True</td>\n",
              "      <td>NaN</td>\n",
              "      <td>1387.57</td>\n",
              "      <td>1845.64</td>\n",
              "      <td>612.43</td>\n",
              "      <td>0.0</td>\n",
              "      <td>0</td>\n",
              "      <td>0.0</td>\n",
              "      <td>0.00</td>\n",
              "      <td>0</td>\n",
              "      <td>0</td>\n",
              "    </tr>\n",
              "    <tr>\n",
              "      <th>523</th>\n",
              "      <td>1000</td>\n",
              "      <td>0</td>\n",
              "      <td>0.0</td>\n",
              "      <td>False</td>\n",
              "      <td>Income Expenses Verified</td>\n",
              "      <td>Estonian</td>\n",
              "      <td>27</td>\n",
              "      <td>Male</td>\n",
              "      <td>Estonia</td>\n",
              "      <td>1000.0</td>\n",
              "      <td>1000.0</td>\n",
              "      <td>17.74</td>\n",
              "      <td>60</td>\n",
              "      <td>28.17</td>\n",
              "      <td>LÄÄNE-VIRUMAA</td>\n",
              "      <td>SÕMERU VALD</td>\n",
              "      <td>Other</td>\n",
              "      <td>Secondary Education</td>\n",
              "      <td>Single</td>\n",
              "      <td>Fully Employed</td>\n",
              "      <td>UpTo1Year</td>\n",
              "      <td>Other</td>\n",
              "      <td>Joint Tenant</td>\n",
              "      <td>560.0</td>\n",
              "      <td>8</td>\n",
              "      <td>1327.37</td>\n",
              "      <td>2</td>\n",
              "      <td>47.56</td>\n",
              "      <td>43.67</td>\n",
              "      <td>6</td>\n",
              "      <td>B</td>\n",
              "      <td>True</td>\n",
              "      <td>NaN</td>\n",
              "      <td>608.05</td>\n",
              "      <td>638.67</td>\n",
              "      <td>391.95</td>\n",
              "      <td>0.0</td>\n",
              "      <td>1</td>\n",
              "      <td>1300.0</td>\n",
              "      <td>187.87</td>\n",
              "      <td>0</td>\n",
              "      <td>0</td>\n",
              "    </tr>\n",
              "    <tr>\n",
              "      <th>536</th>\n",
              "      <td>2345</td>\n",
              "      <td>0</td>\n",
              "      <td>655.0</td>\n",
              "      <td>False</td>\n",
              "      <td>Income Verified</td>\n",
              "      <td>Estonian</td>\n",
              "      <td>29</td>\n",
              "      <td>Male</td>\n",
              "      <td>Estonia</td>\n",
              "      <td>3000.0</td>\n",
              "      <td>3000.0</td>\n",
              "      <td>17.87</td>\n",
              "      <td>60</td>\n",
              "      <td>84.72</td>\n",
              "      <td>PÄRNUMAA</td>\n",
              "      <td>PÄRNU</td>\n",
              "      <td>Other</td>\n",
              "      <td>Basic Education</td>\n",
              "      <td>Single</td>\n",
              "      <td>Fully Employed</td>\n",
              "      <td>UpTo3Years</td>\n",
              "      <td>Processing</td>\n",
              "      <td>Tenant, Pre-Furnished Property</td>\n",
              "      <td>745.0</td>\n",
              "      <td>4</td>\n",
              "      <td>427.03</td>\n",
              "      <td>0</td>\n",
              "      <td>27.48</td>\n",
              "      <td>290.28</td>\n",
              "      <td>14</td>\n",
              "      <td>B</td>\n",
              "      <td>True</td>\n",
              "      <td>NaN</td>\n",
              "      <td>1270.42</td>\n",
              "      <td>1890.24</td>\n",
              "      <td>1729.58</td>\n",
              "      <td>0.0</td>\n",
              "      <td>1</td>\n",
              "      <td>1000.0</td>\n",
              "      <td>623.89</td>\n",
              "      <td>0</td>\n",
              "      <td>0</td>\n",
              "    </tr>\n",
              "    <tr>\n",
              "      <th>541</th>\n",
              "      <td>2045</td>\n",
              "      <td>0</td>\n",
              "      <td>955.0</td>\n",
              "      <td>True</td>\n",
              "      <td>Income Verified</td>\n",
              "      <td>Finnish</td>\n",
              "      <td>25</td>\n",
              "      <td>Male</td>\n",
              "      <td>Finland</td>\n",
              "      <td>3000.0</td>\n",
              "      <td>3000.0</td>\n",
              "      <td>27.98</td>\n",
              "      <td>60</td>\n",
              "      <td>102.12</td>\n",
              "      <td>POHJOIS-SAVO</td>\n",
              "      <td>KUOPIO</td>\n",
              "      <td>Loan Consolidation</td>\n",
              "      <td>Vocational Education</td>\n",
              "      <td>Single</td>\n",
              "      <td>Fully Employed</td>\n",
              "      <td>UpTo5Years</td>\n",
              "      <td>Info and Telecom</td>\n",
              "      <td>Tenant, Unfurnished Property</td>\n",
              "      <td>1530.0</td>\n",
              "      <td>4</td>\n",
              "      <td>955.00</td>\n",
              "      <td>0</td>\n",
              "      <td>36.41</td>\n",
              "      <td>472.88</td>\n",
              "      <td>27</td>\n",
              "      <td>D</td>\n",
              "      <td>True</td>\n",
              "      <td>NaN</td>\n",
              "      <td>1916.72</td>\n",
              "      <td>3144.21</td>\n",
              "      <td>1083.28</td>\n",
              "      <td>0.0</td>\n",
              "      <td>0</td>\n",
              "      <td>0.0</td>\n",
              "      <td>0.00</td>\n",
              "      <td>0</td>\n",
              "      <td>0</td>\n",
              "    </tr>\n",
              "    <tr>\n",
              "      <th>544</th>\n",
              "      <td>1500</td>\n",
              "      <td>0</td>\n",
              "      <td>0.0</td>\n",
              "      <td>True</td>\n",
              "      <td>Income Unverified</td>\n",
              "      <td>Estonian</td>\n",
              "      <td>30</td>\n",
              "      <td>Male</td>\n",
              "      <td>Estonia</td>\n",
              "      <td>1500.0</td>\n",
              "      <td>1500.0</td>\n",
              "      <td>29.25</td>\n",
              "      <td>60</td>\n",
              "      <td>52.84</td>\n",
              "      <td>TARTU</td>\n",
              "      <td>KABINA</td>\n",
              "      <td>Other</td>\n",
              "      <td>Secondary Education</td>\n",
              "      <td>Cohabitant</td>\n",
              "      <td>Entrepreneur</td>\n",
              "      <td>MoreThan5Years</td>\n",
              "      <td>Utilities</td>\n",
              "      <td>Tenant, Pre-Furnished Property</td>\n",
              "      <td>1500.0</td>\n",
              "      <td>2</td>\n",
              "      <td>465.00</td>\n",
              "      <td>0</td>\n",
              "      <td>4.52</td>\n",
              "      <td>982.16</td>\n",
              "      <td>25</td>\n",
              "      <td>D</td>\n",
              "      <td>False</td>\n",
              "      <td>NaN</td>\n",
              "      <td>1453.11</td>\n",
              "      <td>1396.06</td>\n",
              "      <td>46.89</td>\n",
              "      <td>0.0</td>\n",
              "      <td>0</td>\n",
              "      <td>0.0</td>\n",
              "      <td>0.00</td>\n",
              "      <td>0</td>\n",
              "      <td>0</td>\n",
              "    </tr>\n",
              "  </tbody>\n",
              "</table>\n",
              "</div>\n",
              "      <button class=\"colab-df-convert\" onclick=\"convertToInteractive('df-5726abaf-8326-4570-a716-7d489eaf422f')\"\n",
              "              title=\"Convert this dataframe to an interactive table.\"\n",
              "              style=\"display:none;\">\n",
              "        \n",
              "  <svg xmlns=\"http://www.w3.org/2000/svg\" height=\"24px\"viewBox=\"0 0 24 24\"\n",
              "       width=\"24px\">\n",
              "    <path d=\"M0 0h24v24H0V0z\" fill=\"none\"/>\n",
              "    <path d=\"M18.56 5.44l.94 2.06.94-2.06 2.06-.94-2.06-.94-.94-2.06-.94 2.06-2.06.94zm-11 1L8.5 8.5l.94-2.06 2.06-.94-2.06-.94L8.5 2.5l-.94 2.06-2.06.94zm10 10l.94 2.06.94-2.06 2.06-.94-2.06-.94-.94-2.06-.94 2.06-2.06.94z\"/><path d=\"M17.41 7.96l-1.37-1.37c-.4-.4-.92-.59-1.43-.59-.52 0-1.04.2-1.43.59L10.3 9.45l-7.72 7.72c-.78.78-.78 2.05 0 2.83L4 21.41c.39.39.9.59 1.41.59.51 0 1.02-.2 1.41-.59l7.78-7.78 2.81-2.81c.8-.78.8-2.07 0-2.86zM5.41 20L4 18.59l7.72-7.72 1.47 1.35L5.41 20z\"/>\n",
              "  </svg>\n",
              "      </button>\n",
              "      \n",
              "  <style>\n",
              "    .colab-df-container {\n",
              "      display:flex;\n",
              "      flex-wrap:wrap;\n",
              "      gap: 12px;\n",
              "    }\n",
              "\n",
              "    .colab-df-convert {\n",
              "      background-color: #E8F0FE;\n",
              "      border: none;\n",
              "      border-radius: 50%;\n",
              "      cursor: pointer;\n",
              "      display: none;\n",
              "      fill: #1967D2;\n",
              "      height: 32px;\n",
              "      padding: 0 0 0 0;\n",
              "      width: 32px;\n",
              "    }\n",
              "\n",
              "    .colab-df-convert:hover {\n",
              "      background-color: #E2EBFA;\n",
              "      box-shadow: 0px 1px 2px rgba(60, 64, 67, 0.3), 0px 1px 3px 1px rgba(60, 64, 67, 0.15);\n",
              "      fill: #174EA6;\n",
              "    }\n",
              "\n",
              "    [theme=dark] .colab-df-convert {\n",
              "      background-color: #3B4455;\n",
              "      fill: #D2E3FC;\n",
              "    }\n",
              "\n",
              "    [theme=dark] .colab-df-convert:hover {\n",
              "      background-color: #434B5C;\n",
              "      box-shadow: 0px 1px 3px 1px rgba(0, 0, 0, 0.15);\n",
              "      filter: drop-shadow(0px 1px 2px rgba(0, 0, 0, 0.3));\n",
              "      fill: #FFFFFF;\n",
              "    }\n",
              "  </style>\n",
              "\n",
              "      <script>\n",
              "        const buttonEl =\n",
              "          document.querySelector('#df-5726abaf-8326-4570-a716-7d489eaf422f button.colab-df-convert');\n",
              "        buttonEl.style.display =\n",
              "          google.colab.kernel.accessAllowed ? 'block' : 'none';\n",
              "\n",
              "        async function convertToInteractive(key) {\n",
              "          const element = document.querySelector('#df-5726abaf-8326-4570-a716-7d489eaf422f');\n",
              "          const dataTable =\n",
              "            await google.colab.kernel.invokeFunction('convertToInteractive',\n",
              "                                                     [key], {});\n",
              "          if (!dataTable) return;\n",
              "\n",
              "          const docLinkHtml = 'Like what you see? Visit the ' +\n",
              "            '<a target=\"_blank\" href=https://colab.research.google.com/notebooks/data_table.ipynb>data table notebook</a>'\n",
              "            + ' to learn more about interactive tables.';\n",
              "          element.innerHTML = '';\n",
              "          dataTable['output_type'] = 'display_data';\n",
              "          await google.colab.output.renderOutput(dataTable, element);\n",
              "          const docLink = document.createElement('div');\n",
              "          docLink.innerHTML = docLinkHtml;\n",
              "          element.appendChild(docLink);\n",
              "        }\n",
              "      </script>\n",
              "    </div>\n",
              "  </div>\n",
              "  "
            ]
          },
          "metadata": {},
          "execution_count": 648
        }
      ]
    },
    {
      "cell_type": "code",
      "source": [
        "loan.info()"
      ],
      "metadata": {
        "colab": {
          "base_uri": "https://localhost:8080/"
        },
        "id": "wapxxmMOs27x",
        "outputId": "800e3d7f-4668-4ce6-f555-873d8f6c52cd"
      },
      "execution_count": 649,
      "outputs": [
        {
          "output_type": "stream",
          "name": "stdout",
          "text": [
            "<class 'pandas.core.frame.DataFrame'>\n",
            "Int64Index: 57135 entries, 491 to 134491\n",
            "Data columns (total 42 columns):\n",
            " #   Column                                  Non-Null Count  Dtype   \n",
            "---  ------                                  --------------  -----   \n",
            " 0   BidsPortfolioManager                    57135 non-null  int64   \n",
            " 1   BidsApi                                 57135 non-null  int64   \n",
            " 2   BidsManual                              57135 non-null  float64 \n",
            " 3   NewCreditCustomer                       57135 non-null  bool    \n",
            " 4   VerificationType                        57135 non-null  category\n",
            " 5   LanguageCode                            57135 non-null  category\n",
            " 6   Age                                     57135 non-null  int64   \n",
            " 7   Gender                                  57135 non-null  category\n",
            " 8   Country                                 57135 non-null  category\n",
            " 9   AppliedAmount                           57135 non-null  float64 \n",
            " 10  Amount                                  57135 non-null  float64 \n",
            " 11  Interest                                57135 non-null  float64 \n",
            " 12  LoanDuration                            57135 non-null  int64   \n",
            " 13  MonthlyPayment                          57077 non-null  float64 \n",
            " 14  County                                  40810 non-null  object  \n",
            " 15  City                                    52385 non-null  object  \n",
            " 16  UseOfLoan                               57135 non-null  category\n",
            " 17  Education                               57135 non-null  category\n",
            " 18  MaritalStatus                           57135 non-null  category\n",
            " 19  EmploymentStatus                        57135 non-null  category\n",
            " 20  EmploymentDurationCurrentEmployer       57133 non-null  category\n",
            " 21  OccupationArea                          57135 non-null  category\n",
            " 22  HomeOwnershipType                       57135 non-null  category\n",
            " 23  IncomeTotal                             57135 non-null  float64 \n",
            " 24  ExistingLiabilities                     57135 non-null  int64   \n",
            " 25  LiabilitiesTotal                        57135 non-null  float64 \n",
            " 26  RefinanceLiabilities                    57135 non-null  int64   \n",
            " 27  DebtToIncome                            57135 non-null  float64 \n",
            " 28  FreeCash                                57135 non-null  float64 \n",
            " 29  MonthlyPaymentDay                       57135 non-null  int64   \n",
            " 30  Rating                                  57133 non-null  category\n",
            " 31  Restructured                            57135 non-null  bool    \n",
            " 32  CreditScoreEsMicroL                     53747 non-null  category\n",
            " 33  PrincipalPaymentsMade                   57135 non-null  float64 \n",
            " 34  InterestAndPenaltyPaymentsMade          57135 non-null  float64 \n",
            " 35  PrincipalBalance                        57135 non-null  float64 \n",
            " 36  InterestAndPenaltyBalance               57135 non-null  float64 \n",
            " 37  NoOfPreviousLoansBeforeLoan             57135 non-null  int64   \n",
            " 38  AmountOfPreviousLoansBeforeLoan         57135 non-null  float64 \n",
            " 39  PreviousRepaymentsBeforeLoan            33290 non-null  float64 \n",
            " 40  PreviousEarlyRepaymentsCountBeforeLoan  57135 non-null  int64   \n",
            " 41  Target                                  57135 non-null  int64   \n",
            "dtypes: bool(2), category(13), float64(15), int64(10), object(2)\n",
            "memory usage: 13.0+ MB\n"
          ]
        }
      ]
    },
    {
      "cell_type": "code",
      "execution_count": 650,
      "metadata": {
        "id": "dbCQx_6YcOgs"
      },
      "outputs": [],
      "source": [
        "loan.to_csv('/content/drive/MyDrive/Technocolabs/Bondora_preprocessed.csv',index=False)"
      ]
    },
    {
      "cell_type": "code",
      "execution_count": 651,
      "metadata": {
        "id": "MTlMLxn6cOgs"
      },
      "outputs": [],
      "source": [
        "df=pd.read_csv('/content/drive/MyDrive/Technocolabs/Bondora_preprocessed.csv')"
      ]
    },
    {
      "cell_type": "code",
      "source": [
        "df.shape"
      ],
      "metadata": {
        "colab": {
          "base_uri": "https://localhost:8080/"
        },
        "id": "09ftIcynBYPb",
        "outputId": "5c3d7de8-41e7-4f1e-87cf-c92403de18b9"
      },
      "execution_count": 652,
      "outputs": [
        {
          "output_type": "execute_result",
          "data": {
            "text/plain": [
              "(57135, 42)"
            ]
          },
          "metadata": {},
          "execution_count": 652
        }
      ]
    },
    {
      "cell_type": "code",
      "execution_count": 653,
      "metadata": {
        "id": "-g1VyR_HcOgx",
        "colab": {
          "base_uri": "https://localhost:8080/",
          "height": 357
        },
        "outputId": "94d62ccd-c304-4618-f50b-4ed5236bd871"
      },
      "outputs": [
        {
          "output_type": "execute_result",
          "data": {
            "text/plain": [
              "   BidsPortfolioManager  BidsApi  BidsManual  NewCreditCustomer  \\\n",
              "0                  1355        0       645.0               True   \n",
              "1                  1000        0         0.0              False   \n",
              "2                  2345        0       655.0              False   \n",
              "3                  2045        0       955.0               True   \n",
              "4                  1500        0         0.0               True   \n",
              "\n",
              "           VerificationType LanguageCode  Age Gender  Country  AppliedAmount  \\\n",
              "0           Income Verified      Finnish   28   Male  Finland         2000.0   \n",
              "1  Income Expenses Verified     Estonian   27   Male  Estonia         1000.0   \n",
              "2           Income Verified     Estonian   29   Male  Estonia         3000.0   \n",
              "3           Income Verified      Finnish   25   Male  Finland         3000.0   \n",
              "4         Income Unverified     Estonian   30   Male  Estonia         1500.0   \n",
              "\n",
              "   Amount  Interest  LoanDuration  MonthlyPayment         County         City  \\\n",
              "0  2000.0     24.46            60           63.90   POHJOIS-SAVO       KUOPIO   \n",
              "1  1000.0     17.74            60           28.17  LÄÄNE-VIRUMAA  SÕMERU VALD   \n",
              "2  3000.0     17.87            60           84.72       PÄRNUMAA        PÄRNU   \n",
              "3  3000.0     27.98            60          102.12   POHJOIS-SAVO       KUOPIO   \n",
              "4  1500.0     29.25            60           52.84          TARTU       KABINA   \n",
              "\n",
              "            UseOfLoan             Education MaritalStatus EmploymentStatus  \\\n",
              "0               Other      Higher Education    Cohabitant   Fully Employed   \n",
              "1               Other   Secondary Education        Single   Fully Employed   \n",
              "2               Other       Basic Education        Single   Fully Employed   \n",
              "3  Loan Consolidation  Vocational Education        Single   Fully Employed   \n",
              "4               Other   Secondary Education    Cohabitant     Entrepreneur   \n",
              "\n",
              "  EmploymentDurationCurrentEmployer    OccupationArea  \\\n",
              "0                        UpTo2Years      Construction   \n",
              "1                         UpTo1Year             Other   \n",
              "2                        UpTo3Years        Processing   \n",
              "3                        UpTo5Years  Info and Telecom   \n",
              "4                    MoreThan5Years         Utilities   \n",
              "\n",
              "                HomeOwnershipType  IncomeTotal  ExistingLiabilities  \\\n",
              "0                           Owner       2097.0                    1   \n",
              "1                    Joint Tenant        560.0                    8   \n",
              "2  Tenant, Pre-Furnished Property        745.0                    4   \n",
              "3    Tenant, Unfurnished Property       1530.0                    4   \n",
              "4  Tenant, Pre-Furnished Property       1500.0                    2   \n",
              "\n",
              "   LiabilitiesTotal  RefinanceLiabilities  DebtToIncome  FreeCash  \\\n",
              "0            629.00                     0          3.05   1404.10   \n",
              "1           1327.37                     2         47.56     43.67   \n",
              "2            427.03                     0         27.48    290.28   \n",
              "3            955.00                     0         36.41    472.88   \n",
              "4            465.00                     0          4.52    982.16   \n",
              "\n",
              "   MonthlyPaymentDay Rating  Restructured CreditScoreEsMicroL  \\\n",
              "0                 15      D          True                 NaN   \n",
              "1                  6      B          True                 NaN   \n",
              "2                 14      B          True                 NaN   \n",
              "3                 27      D          True                 NaN   \n",
              "4                 25      D         False                 NaN   \n",
              "\n",
              "   PrincipalPaymentsMade  InterestAndPenaltyPaymentsMade  PrincipalBalance  \\\n",
              "0                1387.57                         1845.64            612.43   \n",
              "1                 608.05                          638.67            391.95   \n",
              "2                1270.42                         1890.24           1729.58   \n",
              "3                1916.72                         3144.21           1083.28   \n",
              "4                1453.11                         1396.06             46.89   \n",
              "\n",
              "   InterestAndPenaltyBalance  NoOfPreviousLoansBeforeLoan  \\\n",
              "0                        0.0                            0   \n",
              "1                        0.0                            1   \n",
              "2                        0.0                            1   \n",
              "3                        0.0                            0   \n",
              "4                        0.0                            0   \n",
              "\n",
              "   AmountOfPreviousLoansBeforeLoan  PreviousRepaymentsBeforeLoan  \\\n",
              "0                              0.0                          0.00   \n",
              "1                           1300.0                        187.87   \n",
              "2                           1000.0                        623.89   \n",
              "3                              0.0                          0.00   \n",
              "4                              0.0                          0.00   \n",
              "\n",
              "   PreviousEarlyRepaymentsCountBeforeLoan  Target  \n",
              "0                                       0       0  \n",
              "1                                       0       0  \n",
              "2                                       0       0  \n",
              "3                                       0       0  \n",
              "4                                       0       0  "
            ],
            "text/html": [
              "\n",
              "  <div id=\"df-f02fe283-5291-4211-a930-602555418211\">\n",
              "    <div class=\"colab-df-container\">\n",
              "      <div>\n",
              "<style scoped>\n",
              "    .dataframe tbody tr th:only-of-type {\n",
              "        vertical-align: middle;\n",
              "    }\n",
              "\n",
              "    .dataframe tbody tr th {\n",
              "        vertical-align: top;\n",
              "    }\n",
              "\n",
              "    .dataframe thead th {\n",
              "        text-align: right;\n",
              "    }\n",
              "</style>\n",
              "<table border=\"1\" class=\"dataframe\">\n",
              "  <thead>\n",
              "    <tr style=\"text-align: right;\">\n",
              "      <th></th>\n",
              "      <th>BidsPortfolioManager</th>\n",
              "      <th>BidsApi</th>\n",
              "      <th>BidsManual</th>\n",
              "      <th>NewCreditCustomer</th>\n",
              "      <th>VerificationType</th>\n",
              "      <th>LanguageCode</th>\n",
              "      <th>Age</th>\n",
              "      <th>Gender</th>\n",
              "      <th>Country</th>\n",
              "      <th>AppliedAmount</th>\n",
              "      <th>Amount</th>\n",
              "      <th>Interest</th>\n",
              "      <th>LoanDuration</th>\n",
              "      <th>MonthlyPayment</th>\n",
              "      <th>County</th>\n",
              "      <th>City</th>\n",
              "      <th>UseOfLoan</th>\n",
              "      <th>Education</th>\n",
              "      <th>MaritalStatus</th>\n",
              "      <th>EmploymentStatus</th>\n",
              "      <th>EmploymentDurationCurrentEmployer</th>\n",
              "      <th>OccupationArea</th>\n",
              "      <th>HomeOwnershipType</th>\n",
              "      <th>IncomeTotal</th>\n",
              "      <th>ExistingLiabilities</th>\n",
              "      <th>LiabilitiesTotal</th>\n",
              "      <th>RefinanceLiabilities</th>\n",
              "      <th>DebtToIncome</th>\n",
              "      <th>FreeCash</th>\n",
              "      <th>MonthlyPaymentDay</th>\n",
              "      <th>Rating</th>\n",
              "      <th>Restructured</th>\n",
              "      <th>CreditScoreEsMicroL</th>\n",
              "      <th>PrincipalPaymentsMade</th>\n",
              "      <th>InterestAndPenaltyPaymentsMade</th>\n",
              "      <th>PrincipalBalance</th>\n",
              "      <th>InterestAndPenaltyBalance</th>\n",
              "      <th>NoOfPreviousLoansBeforeLoan</th>\n",
              "      <th>AmountOfPreviousLoansBeforeLoan</th>\n",
              "      <th>PreviousRepaymentsBeforeLoan</th>\n",
              "      <th>PreviousEarlyRepaymentsCountBeforeLoan</th>\n",
              "      <th>Target</th>\n",
              "    </tr>\n",
              "  </thead>\n",
              "  <tbody>\n",
              "    <tr>\n",
              "      <th>0</th>\n",
              "      <td>1355</td>\n",
              "      <td>0</td>\n",
              "      <td>645.0</td>\n",
              "      <td>True</td>\n",
              "      <td>Income Verified</td>\n",
              "      <td>Finnish</td>\n",
              "      <td>28</td>\n",
              "      <td>Male</td>\n",
              "      <td>Finland</td>\n",
              "      <td>2000.0</td>\n",
              "      <td>2000.0</td>\n",
              "      <td>24.46</td>\n",
              "      <td>60</td>\n",
              "      <td>63.90</td>\n",
              "      <td>POHJOIS-SAVO</td>\n",
              "      <td>KUOPIO</td>\n",
              "      <td>Other</td>\n",
              "      <td>Higher Education</td>\n",
              "      <td>Cohabitant</td>\n",
              "      <td>Fully Employed</td>\n",
              "      <td>UpTo2Years</td>\n",
              "      <td>Construction</td>\n",
              "      <td>Owner</td>\n",
              "      <td>2097.0</td>\n",
              "      <td>1</td>\n",
              "      <td>629.00</td>\n",
              "      <td>0</td>\n",
              "      <td>3.05</td>\n",
              "      <td>1404.10</td>\n",
              "      <td>15</td>\n",
              "      <td>D</td>\n",
              "      <td>True</td>\n",
              "      <td>NaN</td>\n",
              "      <td>1387.57</td>\n",
              "      <td>1845.64</td>\n",
              "      <td>612.43</td>\n",
              "      <td>0.0</td>\n",
              "      <td>0</td>\n",
              "      <td>0.0</td>\n",
              "      <td>0.00</td>\n",
              "      <td>0</td>\n",
              "      <td>0</td>\n",
              "    </tr>\n",
              "    <tr>\n",
              "      <th>1</th>\n",
              "      <td>1000</td>\n",
              "      <td>0</td>\n",
              "      <td>0.0</td>\n",
              "      <td>False</td>\n",
              "      <td>Income Expenses Verified</td>\n",
              "      <td>Estonian</td>\n",
              "      <td>27</td>\n",
              "      <td>Male</td>\n",
              "      <td>Estonia</td>\n",
              "      <td>1000.0</td>\n",
              "      <td>1000.0</td>\n",
              "      <td>17.74</td>\n",
              "      <td>60</td>\n",
              "      <td>28.17</td>\n",
              "      <td>LÄÄNE-VIRUMAA</td>\n",
              "      <td>SÕMERU VALD</td>\n",
              "      <td>Other</td>\n",
              "      <td>Secondary Education</td>\n",
              "      <td>Single</td>\n",
              "      <td>Fully Employed</td>\n",
              "      <td>UpTo1Year</td>\n",
              "      <td>Other</td>\n",
              "      <td>Joint Tenant</td>\n",
              "      <td>560.0</td>\n",
              "      <td>8</td>\n",
              "      <td>1327.37</td>\n",
              "      <td>2</td>\n",
              "      <td>47.56</td>\n",
              "      <td>43.67</td>\n",
              "      <td>6</td>\n",
              "      <td>B</td>\n",
              "      <td>True</td>\n",
              "      <td>NaN</td>\n",
              "      <td>608.05</td>\n",
              "      <td>638.67</td>\n",
              "      <td>391.95</td>\n",
              "      <td>0.0</td>\n",
              "      <td>1</td>\n",
              "      <td>1300.0</td>\n",
              "      <td>187.87</td>\n",
              "      <td>0</td>\n",
              "      <td>0</td>\n",
              "    </tr>\n",
              "    <tr>\n",
              "      <th>2</th>\n",
              "      <td>2345</td>\n",
              "      <td>0</td>\n",
              "      <td>655.0</td>\n",
              "      <td>False</td>\n",
              "      <td>Income Verified</td>\n",
              "      <td>Estonian</td>\n",
              "      <td>29</td>\n",
              "      <td>Male</td>\n",
              "      <td>Estonia</td>\n",
              "      <td>3000.0</td>\n",
              "      <td>3000.0</td>\n",
              "      <td>17.87</td>\n",
              "      <td>60</td>\n",
              "      <td>84.72</td>\n",
              "      <td>PÄRNUMAA</td>\n",
              "      <td>PÄRNU</td>\n",
              "      <td>Other</td>\n",
              "      <td>Basic Education</td>\n",
              "      <td>Single</td>\n",
              "      <td>Fully Employed</td>\n",
              "      <td>UpTo3Years</td>\n",
              "      <td>Processing</td>\n",
              "      <td>Tenant, Pre-Furnished Property</td>\n",
              "      <td>745.0</td>\n",
              "      <td>4</td>\n",
              "      <td>427.03</td>\n",
              "      <td>0</td>\n",
              "      <td>27.48</td>\n",
              "      <td>290.28</td>\n",
              "      <td>14</td>\n",
              "      <td>B</td>\n",
              "      <td>True</td>\n",
              "      <td>NaN</td>\n",
              "      <td>1270.42</td>\n",
              "      <td>1890.24</td>\n",
              "      <td>1729.58</td>\n",
              "      <td>0.0</td>\n",
              "      <td>1</td>\n",
              "      <td>1000.0</td>\n",
              "      <td>623.89</td>\n",
              "      <td>0</td>\n",
              "      <td>0</td>\n",
              "    </tr>\n",
              "    <tr>\n",
              "      <th>3</th>\n",
              "      <td>2045</td>\n",
              "      <td>0</td>\n",
              "      <td>955.0</td>\n",
              "      <td>True</td>\n",
              "      <td>Income Verified</td>\n",
              "      <td>Finnish</td>\n",
              "      <td>25</td>\n",
              "      <td>Male</td>\n",
              "      <td>Finland</td>\n",
              "      <td>3000.0</td>\n",
              "      <td>3000.0</td>\n",
              "      <td>27.98</td>\n",
              "      <td>60</td>\n",
              "      <td>102.12</td>\n",
              "      <td>POHJOIS-SAVO</td>\n",
              "      <td>KUOPIO</td>\n",
              "      <td>Loan Consolidation</td>\n",
              "      <td>Vocational Education</td>\n",
              "      <td>Single</td>\n",
              "      <td>Fully Employed</td>\n",
              "      <td>UpTo5Years</td>\n",
              "      <td>Info and Telecom</td>\n",
              "      <td>Tenant, Unfurnished Property</td>\n",
              "      <td>1530.0</td>\n",
              "      <td>4</td>\n",
              "      <td>955.00</td>\n",
              "      <td>0</td>\n",
              "      <td>36.41</td>\n",
              "      <td>472.88</td>\n",
              "      <td>27</td>\n",
              "      <td>D</td>\n",
              "      <td>True</td>\n",
              "      <td>NaN</td>\n",
              "      <td>1916.72</td>\n",
              "      <td>3144.21</td>\n",
              "      <td>1083.28</td>\n",
              "      <td>0.0</td>\n",
              "      <td>0</td>\n",
              "      <td>0.0</td>\n",
              "      <td>0.00</td>\n",
              "      <td>0</td>\n",
              "      <td>0</td>\n",
              "    </tr>\n",
              "    <tr>\n",
              "      <th>4</th>\n",
              "      <td>1500</td>\n",
              "      <td>0</td>\n",
              "      <td>0.0</td>\n",
              "      <td>True</td>\n",
              "      <td>Income Unverified</td>\n",
              "      <td>Estonian</td>\n",
              "      <td>30</td>\n",
              "      <td>Male</td>\n",
              "      <td>Estonia</td>\n",
              "      <td>1500.0</td>\n",
              "      <td>1500.0</td>\n",
              "      <td>29.25</td>\n",
              "      <td>60</td>\n",
              "      <td>52.84</td>\n",
              "      <td>TARTU</td>\n",
              "      <td>KABINA</td>\n",
              "      <td>Other</td>\n",
              "      <td>Secondary Education</td>\n",
              "      <td>Cohabitant</td>\n",
              "      <td>Entrepreneur</td>\n",
              "      <td>MoreThan5Years</td>\n",
              "      <td>Utilities</td>\n",
              "      <td>Tenant, Pre-Furnished Property</td>\n",
              "      <td>1500.0</td>\n",
              "      <td>2</td>\n",
              "      <td>465.00</td>\n",
              "      <td>0</td>\n",
              "      <td>4.52</td>\n",
              "      <td>982.16</td>\n",
              "      <td>25</td>\n",
              "      <td>D</td>\n",
              "      <td>False</td>\n",
              "      <td>NaN</td>\n",
              "      <td>1453.11</td>\n",
              "      <td>1396.06</td>\n",
              "      <td>46.89</td>\n",
              "      <td>0.0</td>\n",
              "      <td>0</td>\n",
              "      <td>0.0</td>\n",
              "      <td>0.00</td>\n",
              "      <td>0</td>\n",
              "      <td>0</td>\n",
              "    </tr>\n",
              "  </tbody>\n",
              "</table>\n",
              "</div>\n",
              "      <button class=\"colab-df-convert\" onclick=\"convertToInteractive('df-f02fe283-5291-4211-a930-602555418211')\"\n",
              "              title=\"Convert this dataframe to an interactive table.\"\n",
              "              style=\"display:none;\">\n",
              "        \n",
              "  <svg xmlns=\"http://www.w3.org/2000/svg\" height=\"24px\"viewBox=\"0 0 24 24\"\n",
              "       width=\"24px\">\n",
              "    <path d=\"M0 0h24v24H0V0z\" fill=\"none\"/>\n",
              "    <path d=\"M18.56 5.44l.94 2.06.94-2.06 2.06-.94-2.06-.94-.94-2.06-.94 2.06-2.06.94zm-11 1L8.5 8.5l.94-2.06 2.06-.94-2.06-.94L8.5 2.5l-.94 2.06-2.06.94zm10 10l.94 2.06.94-2.06 2.06-.94-2.06-.94-.94-2.06-.94 2.06-2.06.94z\"/><path d=\"M17.41 7.96l-1.37-1.37c-.4-.4-.92-.59-1.43-.59-.52 0-1.04.2-1.43.59L10.3 9.45l-7.72 7.72c-.78.78-.78 2.05 0 2.83L4 21.41c.39.39.9.59 1.41.59.51 0 1.02-.2 1.41-.59l7.78-7.78 2.81-2.81c.8-.78.8-2.07 0-2.86zM5.41 20L4 18.59l7.72-7.72 1.47 1.35L5.41 20z\"/>\n",
              "  </svg>\n",
              "      </button>\n",
              "      \n",
              "  <style>\n",
              "    .colab-df-container {\n",
              "      display:flex;\n",
              "      flex-wrap:wrap;\n",
              "      gap: 12px;\n",
              "    }\n",
              "\n",
              "    .colab-df-convert {\n",
              "      background-color: #E8F0FE;\n",
              "      border: none;\n",
              "      border-radius: 50%;\n",
              "      cursor: pointer;\n",
              "      display: none;\n",
              "      fill: #1967D2;\n",
              "      height: 32px;\n",
              "      padding: 0 0 0 0;\n",
              "      width: 32px;\n",
              "    }\n",
              "\n",
              "    .colab-df-convert:hover {\n",
              "      background-color: #E2EBFA;\n",
              "      box-shadow: 0px 1px 2px rgba(60, 64, 67, 0.3), 0px 1px 3px 1px rgba(60, 64, 67, 0.15);\n",
              "      fill: #174EA6;\n",
              "    }\n",
              "\n",
              "    [theme=dark] .colab-df-convert {\n",
              "      background-color: #3B4455;\n",
              "      fill: #D2E3FC;\n",
              "    }\n",
              "\n",
              "    [theme=dark] .colab-df-convert:hover {\n",
              "      background-color: #434B5C;\n",
              "      box-shadow: 0px 1px 3px 1px rgba(0, 0, 0, 0.15);\n",
              "      filter: drop-shadow(0px 1px 2px rgba(0, 0, 0, 0.3));\n",
              "      fill: #FFFFFF;\n",
              "    }\n",
              "  </style>\n",
              "\n",
              "      <script>\n",
              "        const buttonEl =\n",
              "          document.querySelector('#df-f02fe283-5291-4211-a930-602555418211 button.colab-df-convert');\n",
              "        buttonEl.style.display =\n",
              "          google.colab.kernel.accessAllowed ? 'block' : 'none';\n",
              "\n",
              "        async function convertToInteractive(key) {\n",
              "          const element = document.querySelector('#df-f02fe283-5291-4211-a930-602555418211');\n",
              "          const dataTable =\n",
              "            await google.colab.kernel.invokeFunction('convertToInteractive',\n",
              "                                                     [key], {});\n",
              "          if (!dataTable) return;\n",
              "\n",
              "          const docLinkHtml = 'Like what you see? Visit the ' +\n",
              "            '<a target=\"_blank\" href=https://colab.research.google.com/notebooks/data_table.ipynb>data table notebook</a>'\n",
              "            + ' to learn more about interactive tables.';\n",
              "          element.innerHTML = '';\n",
              "          dataTable['output_type'] = 'display_data';\n",
              "          await google.colab.output.renderOutput(dataTable, element);\n",
              "          const docLink = document.createElement('div');\n",
              "          docLink.innerHTML = docLinkHtml;\n",
              "          element.appendChild(docLink);\n",
              "        }\n",
              "      </script>\n",
              "    </div>\n",
              "  </div>\n",
              "  "
            ]
          },
          "metadata": {},
          "execution_count": 653
        }
      ],
      "source": [
        "df.head()"
      ]
    },
    {
      "cell_type": "code",
      "source": [
        "df.info()"
      ],
      "metadata": {
        "colab": {
          "base_uri": "https://localhost:8080/"
        },
        "id": "uRCAWo1NAI67",
        "outputId": "81f59e21-fbf6-44c1-9940-384ad029148f"
      },
      "execution_count": 654,
      "outputs": [
        {
          "output_type": "stream",
          "name": "stdout",
          "text": [
            "<class 'pandas.core.frame.DataFrame'>\n",
            "RangeIndex: 57135 entries, 0 to 57134\n",
            "Data columns (total 42 columns):\n",
            " #   Column                                  Non-Null Count  Dtype  \n",
            "---  ------                                  --------------  -----  \n",
            " 0   BidsPortfolioManager                    57135 non-null  int64  \n",
            " 1   BidsApi                                 57135 non-null  int64  \n",
            " 2   BidsManual                              57135 non-null  float64\n",
            " 3   NewCreditCustomer                       57135 non-null  bool   \n",
            " 4   VerificationType                        57135 non-null  object \n",
            " 5   LanguageCode                            57135 non-null  object \n",
            " 6   Age                                     57135 non-null  int64  \n",
            " 7   Gender                                  57135 non-null  object \n",
            " 8   Country                                 57135 non-null  object \n",
            " 9   AppliedAmount                           57135 non-null  float64\n",
            " 10  Amount                                  57135 non-null  float64\n",
            " 11  Interest                                57135 non-null  float64\n",
            " 12  LoanDuration                            57135 non-null  int64  \n",
            " 13  MonthlyPayment                          57077 non-null  float64\n",
            " 14  County                                  40810 non-null  object \n",
            " 15  City                                    52385 non-null  object \n",
            " 16  UseOfLoan                               57135 non-null  object \n",
            " 17  Education                               57135 non-null  object \n",
            " 18  MaritalStatus                           57135 non-null  object \n",
            " 19  EmploymentStatus                        57135 non-null  object \n",
            " 20  EmploymentDurationCurrentEmployer       57133 non-null  object \n",
            " 21  OccupationArea                          57135 non-null  object \n",
            " 22  HomeOwnershipType                       57135 non-null  object \n",
            " 23  IncomeTotal                             57135 non-null  float64\n",
            " 24  ExistingLiabilities                     57135 non-null  int64  \n",
            " 25  LiabilitiesTotal                        57135 non-null  float64\n",
            " 26  RefinanceLiabilities                    57135 non-null  int64  \n",
            " 27  DebtToIncome                            57135 non-null  float64\n",
            " 28  FreeCash                                57135 non-null  float64\n",
            " 29  MonthlyPaymentDay                       57135 non-null  int64  \n",
            " 30  Rating                                  57133 non-null  object \n",
            " 31  Restructured                            57135 non-null  bool   \n",
            " 32  CreditScoreEsMicroL                     53747 non-null  object \n",
            " 33  PrincipalPaymentsMade                   57135 non-null  float64\n",
            " 34  InterestAndPenaltyPaymentsMade          57135 non-null  float64\n",
            " 35  PrincipalBalance                        57135 non-null  float64\n",
            " 36  InterestAndPenaltyBalance               57135 non-null  float64\n",
            " 37  NoOfPreviousLoansBeforeLoan             57135 non-null  int64  \n",
            " 38  AmountOfPreviousLoansBeforeLoan         57135 non-null  float64\n",
            " 39  PreviousRepaymentsBeforeLoan            33290 non-null  float64\n",
            " 40  PreviousEarlyRepaymentsCountBeforeLoan  57135 non-null  int64  \n",
            " 41  Target                                  57135 non-null  int64  \n",
            "dtypes: bool(2), float64(15), int64(10), object(15)\n",
            "memory usage: 17.5+ MB\n"
          ]
        }
      ]
    },
    {
      "cell_type": "code",
      "source": [],
      "metadata": {
        "id": "nx8lM56pz4ad"
      },
      "execution_count": 654,
      "outputs": []
    }
  ],
  "metadata": {
    "kernelspec": {
      "display_name": "Python 3",
      "language": "python",
      "name": "python3"
    },
    "language_info": {
      "codemirror_mode": {
        "name": "ipython",
        "version": 3
      },
      "file_extension": ".py",
      "mimetype": "text/x-python",
      "name": "python",
      "nbconvert_exporter": "python",
      "pygments_lexer": "ipython3",
      "version": "3.8.3"
    },
    "colab": {
      "provenance": [],
      "collapsed_sections": []
    }
  },
  "nbformat": 4,
  "nbformat_minor": 0
}